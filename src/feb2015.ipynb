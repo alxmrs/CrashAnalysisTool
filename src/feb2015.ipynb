{
 "cells": [
  {
   "cell_type": "markdown",
   "metadata": {
    "collapsed": true
   },
   "source": [
    "# Crash Report Jan 18, 2016\n",
    "\n",
    "Version: 2015050021"
   ]
  },
  {
   "cell_type": "code",
   "execution_count": 1,
   "metadata": {},
   "outputs": [],
   "source": [
    "\"\"\"\n",
    "General import statements\n",
    "\"\"\"\n",
    "import crash_analysis\n",
    "import pandas as pd\n",
    "from matplotlib import pyplot as plt \n",
    "%matplotlib inline"
   ]
  },
  {
   "cell_type": "code",
   "execution_count": 2,
   "metadata": {},
   "outputs": [],
   "source": [
    "\"\"\"\n",
    "Parse zipfiles into dataframe\n",
    "\"\"\"\n",
    "from crash_analysis.parser import extract_zipfiles, xmldocs_to_dataframe\n",
    "zipfile_location = 'C:\\\\CrashReports\\\\'\n",
    "\n",
    "extract_zipfiles(zipfile_location)\n",
    "df = xmldocs_to_dataframe(zipfile_location)\n",
    "\n",
    "df.drop_duplicates(inplace=True)"
   ]
  },
  {
   "cell_type": "code",
   "execution_count": 3,
   "metadata": {},
   "outputs": [],
   "source": [
    "\"\"\"\n",
    "Save/load dataframe to/from CSV\n",
    "\"\"\"\n",
    "from crash_analysis import read_csv\n",
    "\n",
    "new_data = True\n",
    "cache_location = 'src/data/2015050021_feb7_530pm.csv'\n",
    "\n",
    "if new_data:\n",
    "    df.to_csv(cache_location, encoding='utf-8')\n",
    "else:\n",
    "    df = read_csv(cache_location)"
   ]
  },
  {
   "cell_type": "code",
   "execution_count": 4,
   "metadata": {
    "collapsed": false
   },
   "outputs": [
    {
     "name": "stdout",
     "output_type": "stream",
     "text": [
      "['ACCDT_Field', 'Active_ClientFileName', 'Active_Field', 'Active_Form', 'Active_FormsetID', 'Active_FormsetVersion', 'AppName', 'AppVersion', 'BasWin15.INI', 'Batch_ClientFileName', 'CrashGUID', 'CrashRpt', 'Current_Calcsection', 'CustNum', 'CustomProps', 'ExceptionAddress', 'ExceptionCode', 'ExceptionModule', 'ExceptionModuleBase', 'ExceptionModuleVersion', 'ExceptionType', 'FileList', 'GUIResourceCount', 'GeoLocation', 'ImageName', 'InstallType', 'InvParamExpression', 'InvParamFile', 'InvParamFunction', 'InvParamLine', 'Last_Calcsection', 'MemoryUsageKbytes', 'OSIs64Bit', 'OpenHandleCount', 'OperatingSystem', 'ProWin15.INI', 'ProblemDescription', 'SystemTimeUTC', 'WorkStationName', 'WorkStationType', 'crashdump.dmp', 'crashrpt.xml']\n2015050021    5350\nName: AppVersion, dtype: int64\n5350\n"
     ]
    }
   ],
   "source": [
    "\"\"\"\n",
    "Get metadata about dataframe\n",
    "\"\"\"\n",
    "col_names = crash_analysis.get_columns(df)\n",
    "versions = df['AppVersion'].value_counts()\n",
    "num_crashes = len(df)\n",
    "\n",
    "# 5350 Crashes\n",
    "\n",
    "print(col_names)\n",
    "print(versions)\n",
    "print(num_crashes)"
   ]
  },
  {
   "cell_type": "code",
   "execution_count": 7,
   "metadata": {},
   "outputs": [
    {
     "data": {
      "text/plain": [
       "6054"
      ]
     },
     "execution_count": 7,
     "metadata": {},
     "output_type": "execute_result"
    }
   ],
   "source": [
    "from crash_analysis import filter_dataframe\n",
    "df = filter_dataframe(df, AppVersion=2016070012)\n",
    "len(df)"
   ]
  },
  {
   "cell_type": "code",
   "execution_count": 8,
   "metadata": {},
   "outputs": [
    {
     "name": "stdout",
     "output_type": "stream",
     "text": [
      "\n"
     ]
    }
   ],
   "source": [
    "\"\"\"\n",
    "Customer Description Analysis\n",
    "\"\"\"\n",
    "from crash_analysis.analysis import remove_empty, get_column, stem_frequency\n",
    "customer_desc = remove_empty(get_column(df, 'ProblemDescription'))\n",
    "\n",
    "stem_frequency(customer_desc)\n",
    "\n",
    "print"
   ]
  },
  {
   "cell_type": "code",
   "execution_count": 20,
   "metadata": {
    "collapsed": false
   },
   "outputs": [
    {
     "name": "stdout",
     "output_type": "stream",
     "text": [
      "Query 1 \t count: 106 \t ExceptionAddress: 0x100425c3\nAppName           InstallType  OperatingSystem                                 \nProSeries - 2015  Network      Windows 10 Home Build 10586                          2\n                               Windows 10 Pro Build 10586                          10\n                               Windows 7 Enterprise Build 7601                      2\n                               Windows 7 Home Premium Build 7601                    9\n                               Windows 7 Home Premium Build 7601 Service Pack 1     2\n                               Windows 7 Professional Build 7601                   48\n                               Windows 7 Professional Build 7601 Service Pack 1     9\n                               Windows 7 Ultimate Build 7601                        3\n                               Windows 7 Ultimate Build 7601 Service Pack 1         1\n                               Windows 8 Pro Build 9200                             1\n                               Windows 8.1 Build 9600                               2\n                               Windows 8.1 Connected Build 9600                     1\n                               Windows 8.1 Pro Build 9600                           1\n                               Windows 8.1 Pro with Media Center Build 9600         2\n                               Windows Server 2012 R2 Standard Build 9600           1\n                  Standalone   Windows 10 Home Build 10586                          1\n                               Windows 10 Pro Build 10586                           2\n                               Windows 7 Home Premium Build 7601                    3\n                               Windows 7 Professional Build 7601                    1\nName: CustNum, dtype: int64\n101\n\n\nQuery 2 \t count: 86 \t ExceptionAddress: 0x77725b68\nAppName                         InstallType  OperatingSystem       \nProSeries Basic Edition - 2015  Standalone   Windows 8.1 Build 9600    1\nName: CustNum, dtype: int64\n1\n\n\nQuery 3 \t count: 58 \t ExceptionAddress: 0x7590d8a8\nAppName                         InstallType  OperatingSystem            \nProSeries Basic Edition - 2015  Standalone   Windows 10 Home Build 10586    1\nName: CustNum, dtype: int64\n1\n\n\nQuery 4 \t count: 49 \t ExceptionAddress: 0x1001585e\nAppName           InstallType  OperatingSystem                                 \nProSeries - 2015  Network      Windows 10 Home Build 10240                         1\n                               Windows 10 Home Build 10586                         4\n                               Windows 10 Pro Build 10586                          5\n                               Windows 7 Home Premium Build 7601                   6\n                               Windows 7 Home Premium Build 7601 Service Pack 1    1\n                               Windows 7 Professional Build 7601                   9\n                               Windows 7 Professional Build 7601 Service Pack 1    7\n                               Windows 7 Ultimate Build 7601                       1\n                               Windows 7 Ultimate Build 7601 Service Pack 1        1\n                               Windows 8.1 Build 9600                              4\n                               Windows 8.1 Pro Build 9600                          3\n                               Windows Server 2008 R2 Standard Build 7601          2\nName: CustNum, dtype: int64\n44\n\n\nQuery 5 \t count: 42 \t ExceptionAddress: 0x74dbc42d\nAppName                         InstallType  OperatingSystem                  \nProSeries Basic Edition - 2015  Standalone   Windows 7 Professional Build 7601    1\nName: CustNum, dtype: int64\n1\n\n\nQuery 6 \t count: 36 \t ExceptionAddress: 0x10024c9c\nAppName           InstallType  OperatingSystem                             \nProSeries - 2015  Network      Windows 10 Home Build 10240                      1\n                               Windows 8.1 Build 9600                           2\n                               Windows 8.1 Pro Build 9600                       1\n                  Standalone   Windows (TM) Vista Home Premium Build 6002       1\n                               Windows 10 Home Build 10240                      3\n                               Windows 10 Home Build 10586                     13\n                               Windows 10 Pro Build 10240                       1\n                               Windows 10 Pro Build 10586                       2\n                               Windows 8.1 Build 9600                           6\n                               Windows 8.1 Pro Build 9600                       1\n                               Windows 8.1 Pro with Media Center Build 9600     1\nName: CustNum, dtype: int64\n32\n\n\nQuery 7 \t count: 35 \t ExceptionAddress: 0x77665b68\nAppName                         InstallType  OperatingSystem           \nProSeries - 2015                Network      Windows 8.1 Pro Build 9600    1\nProSeries Basic Edition - 2015  Standalone   Windows 8.1 Build 9600        1\nName: CustNum, dtype: int64\n2\n\n\nQuery 8 \t count: 31 \t ExceptionAddress: 0x762cc42d\nAppName                         InstallType  OperatingSystem                  \nProSeries Basic Edition - 2015  Standalone   Windows 7 Home Premium Build 7601    1\nName: CustNum, dtype: int64\n1\n\n\nQuery 9 \t count: 29 \t ExceptionAddress: 0x76cf5b68\nAppName                         InstallType  OperatingSystem       \nProSeries Basic Edition - 2015  Standalone   Windows 8.1 Build 9600    1\nName: CustNum, dtype: int64\n1\n\n\nQuery 10 \t count: 27 \t ExceptionAddress: 0x747e2ed2\nAppName                         InstallType  OperatingSystem           \nProSeries Basic Edition - 2015  Standalone   Windows 10 Pro Build 10586    1\nName: CustNum, dtype: int64\n1\n\n\n106\n"
     ]
    }
   ],
   "source": [
    "\"\"\"\n",
    "Frequency of error messages and stack traces\n",
    "\"\"\"\n",
    "\n",
    "from crash_analysis import filter_dataframe\n",
    "\n",
    "\n",
    "def get_value_from_hist(n, field='Message'):\n",
    "    field_hist = df[field].value_counts()\n",
    "    assert n < len(field_hist)\n",
    "    return field_hist.keys()[n], field_hist.values[n]\n",
    "\n",
    "\n",
    "def print_parings(n, field1='Message', groupings=['AppName', 'InstallType', 'OperatingSystem'], print_output=True):\n",
    "    top_key, count = get_value_from_hist(n, field1)\n",
    "    df_filtered = filter_dataframe(df, **{field1: top_key})\n",
    "    df_filt = df_filtered.copy()\n",
    "    if type(groupings) is type(list()):\n",
    "        field2_hist = df_filtered.groupby(groupings)['CustNum'].nunique()\n",
    "    else:\n",
    "        field2_hist = df_filtered[groupings].value_counts()\n",
    "\n",
    "    if print_output:\n",
    "        print(\"Query {0} \\t count: {1} \\t {2}: {3}\".format(n+1, count, field1, top_key.encode('ascii', 'ignore')))\n",
    "        print(field2_hist)\n",
    "        print(sum(field2_hist))\n",
    "        print '\\n'\n",
    "    \n",
    "# \n",
    "# pd.set_option('display.max_rows', 5000)\n",
    "# pd.set_option('display.height', 5000)\n",
    "# [print_parings(n, groupings='ProblemDescription') for n in range(5)]\n",
    "# print_parings(0, groupings='CustNum')\n",
    "# [print_parings(n, field1='ExceptionAddress') for n in [0]]\n",
    "# [print_parings(n, field1='ExceptionAddress', groupings='ProblemDescription') for n in [0]]\n",
    "\n",
    "[print_parings(n, field1='ExceptionAddress') for n in range(10)]\n",
    "\n",
    "file_counts_df = filter_dataframe(df, ExceptionAddress='0x100425c3')\n",
    "print(len(file_counts_df))\n",
    "\n",
    "# file_counts_df = filtered_df.apply(lambda x: pd.to_numeric(x, errors='coerce'))\n",
    "# file_counts_df.hist(bins=50)\n",
    "# # file_counts_df = pd.to_numeric(file_counts_df, errors='ignore')\n",
    "# # file_counts_df.mean()\n",
    "# print(file_counts_df.min(), file_counts_df.max())\n",
    "# df[df['CustNum'] == '0614456913']"
   ]
  },
  {
   "cell_type": "code",
   "execution_count": 79,
   "metadata": {},
   "outputs": [
    {
     "name": "stdout",
     "output_type": "stream",
     "text": [
      "35\n"
     ]
    }
   ],
   "source": [
    "\"\"\" Customer Descriptions \"\"\"\n",
    "\n",
    "from crash_analysis import remove_empty\n",
    "# print(one_cust.head())\n",
    "pd.set_option('display.max_colwidth', 250)\n",
    "print(sum(remove_empty(df['ProblemDescription']).value_counts()))"
   ]
  },
  {
   "cell_type": "code",
   "execution_count": 80,
   "metadata": {},
   "outputs": [
    {
     "name": "stdout",
     "output_type": "stream",
     "text": [
      "Message by Keyterm\nkeyterm: program\nMethod not found: 'Void Intuit.Application.ProSeries.OptionSetupWizardAPI.DataModels.AdditionalInfo..ctor(System.String, System.String, System.String, System.String, System.String, System.String, System.String, System.String, System.String, System.String, System.String, System.String)'.    2\nMethod not found: 'Int32 System.Runtime.InteropServices.Marshal.SizeOf(!!0)'.                                                                                                                                                                                                                      1\nExternal component has thrown an exception.                                                                                                                                                                                                                                                        1\nName: Message, dtype: int64\n\nkeyterm: open\nExternal component has thrown an exception.                                                                                                                                                                                                                                                        4\nMethod not found: 'Void Intuit.Application.ProSeries.OptionSetupWizardAPI.DataModels.AdditionalInfo..ctor(System.String, System.String, System.String, System.String, System.String, System.String, System.String, System.String, System.String, System.String, System.String, System.String)'.    3\nAccess to the path 'e:\\$RECYCLE.BIN\\S-1-5-21-1734283657-823011882-2764790919-1001' is denied.                                                                                                                                                                                                      2\nName: Message, dtype: int64\n\nkeyterm: print\nExternal component has thrown an exception.    1\nName: Message, dtype: int64\n\nkeyterm: client\nSeries([], Name: Message, dtype: int64)\n\nkeyterm: input\nSeries([], Name: Message, dtype: int64)\n\nkeyterm: tri\nMethod not found: 'Void Intuit.Application.ProSeries.OptionSetupWizardAPI.DataModels.AdditionalInfo..ctor(System.String, System.String, System.String, System.String, System.String, System.String, System.String, System.String, System.String, System.String, System.String, System.String)'.    2\nExternal component has thrown an exception.                                                                                                                                                                                                                                                        2\nName: Message, dtype: int64\n\nkeyterm: close\nSeries([], Name: Message, dtype: int64)\n\nkeyterm: return\nAccess to the path 'e:\\$RECYCLE.BIN\\S-1-5-21-1734283657-823011882-2764790919-1001' is denied.    1\nName: Message, dtype: int64\n\nkeyterm: data\nSeries([], Name: Message, dtype: int64)\n\nkeyterm: save\nSeries([], Name: Message, dtype: int64)\n\nkeyterm: complet\nSeries([], Name: Message, dtype: int64)\n\nkeyterm: file\nSeries([], Name: Message, dtype: int64)\n\nkeyterm: instal\nSeries([], Name: Message, dtype: int64)\n\nkeyterm: start\nMethod not found: 'Int32 System.Runtime.InteropServices.Marshal.SizeOf(!!0)'.    2\nExternal component has thrown an exception.                                      2\nName: Message, dtype: int64\n\nkeyterm: softwar\nExternal component has thrown an exception.    2\nName: Message, dtype: int64\n\nkeyterm: year\nSeries([], Name: Message, dtype: int64)\n\nkeyterm: network\nSeries([], Name: Message, dtype: int64)\n\nkeyterm: transfer\nSeries([], Name: Message, dtype: int64)\n\nkeyterm: updat\nSeries([], Name: Message, dtype: int64)\n\nkeyterm: stop\nSeries([], Name: Message, dtype: int64)\n\nkeyterm: work\nSeries([], Name: Message, dtype: int64)\n\nkeyterm: inform\nSeries([], Name: Message, dtype: int64)\n\nkeyterm: dont\nExternal component has thrown an exception.                                      3\nMethod not found: 'Int32 System.Runtime.InteropServices.Marshal.SizeOf(!!0)'.    1\nName: Message, dtype: int64\n\n\n"
     ]
    }
   ],
   "source": [
    "\"\"\"\n",
    "Associate by keyterm\n",
    "\"\"\"\n",
    "from crash_analysis.analysis import associate_by_keyterms\n",
    "\n",
    "associate_by_keyterms(df, 'ProblemDescription', 'Message', min_count=2)\n",
    "print"
   ]
  },
  {
   "cell_type": "code",
   "execution_count": null,
   "metadata": {},
   "outputs": [],
   "source": [
    ""
   ]
  }
 ],
 "metadata": {
  "kernelspec": {
   "display_name": "Python 2",
   "language": "python",
   "name": "python2"
  },
  "language_info": {
   "codemirror_mode": {
    "name": "ipython",
    "version": 2.0
   },
   "file_extension": ".py",
   "mimetype": "text/x-python",
   "name": "python",
   "nbconvert_exporter": "python",
   "pygments_lexer": "ipython2",
   "version": "2.7.6"
  }
 },
 "nbformat": 4,
 "nbformat_minor": 0
}