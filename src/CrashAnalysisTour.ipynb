{
 "cells": [
  {
   "cell_type": "code",
   "execution_count": 2,
   "metadata": {
    "collapsed": true
   },
   "outputs": [],
   "source": [
    "\"\"\"\n",
    "Add module path to sys path -- necessary if running from jupyter notebook and not an IDE\n",
    "\"\"\"\n",
    "\n",
    "import os\n",
    "import sys\n",
    "module_path = os.path.abspath(os.path.join('..'))\n",
    "if module_path not in sys.path:\n",
    "    sys.path.append(module_path)"
   ]
  },
  {
   "cell_type": "code",
   "execution_count": 3,
   "metadata": {
    "collapsed": false
   },
   "outputs": [],
   "source": [
    "\"\"\" \n",
    "General import statements\n",
    "These can be used throughout the notebook\n",
    "\"\"\"\n",
    "\n",
    "import crash_analysis\n",
    "import pandas as pd\n",
    "\n",
    "\"\"\"\n",
    "Constants\n",
    "\"\"\"\n",
    "# name of cached data in csv format\n",
    "cache_filename = 'test_data.csv'  \n",
    "\n",
    "# location of zipflies, i.e. the raw crash reports. \n",
    "zipfile_location = os.path.join(module_path, 'tmp' + os.sep)\n",
    "\n",
    "# location of a CSV file with cached data.\n",
    "cache_location = os.path.join(module_path, 'src', 'data' + os.sep, cache_filename) "
   ]
  },
  {
   "cell_type": "code",
   "execution_count": 4,
   "metadata": {
    "collapsed": false
   },
   "outputs": [],
   "source": [
    "\"\"\"\n",
    "IO\n",
    "How to write/read data to/from a file.\n",
    "How to extract a dataframe from a directory of zipfiles\n",
    "\"\"\"\n",
    "\n",
    "from crash_analysis import read_csv\n",
    "from crash_analysis.parser import extract_zipfiles, xmldocs_to_dataframe\n",
    "\n",
    "# If you are getting new data from zipfiles, set new_data to True. Otherwise, read from CSV\n",
    "new_data = False\n",
    "\n",
    "if not new_data:\n",
    "    # How to read data from CSV\n",
    "    df = read_csv(cache_location)\n",
    "else:\n",
    "    # Get data from source XML files\n",
    "    extract_zipfiles(zipfile_path)  \n",
    "    df = xmldocs_to_dataframe(zipfile_path)  # maps contents of zipfiles to dataframe\n",
    "    df.to_csv(cached_data, encoding='utf-8')  # caches new data\n",
    "    \n",
    "\n",
    "# Make sure to remove duplicate data!\n",
    "df.drop_duplicates(inplace=True)"
   ]
  },
  {
   "cell_type": "code",
   "execution_count": 8,
   "metadata": {
    "collapsed": false
   },
   "outputs": [
    {
     "name": "stdout",
     "output_type": "stream",
     "text": [
      "['Unnamed: 0', 'ACCDT_Field', 'Active_ClientFileName', 'Active_Field', 'Active_Form', 'Active_FormsetID', 'Active_FormsetVersion', 'AppName', 'AppVersion', 'BasWin15.INI', 'BasWin16.INI', 'Batch_ClientFileName', 'CrashGUID', 'CrashRpt', 'Current_Calcsection', 'CustNum', 'CustomProps', 'DataFileCount', 'ExceptionAddress', 'ExceptionCode', 'ExceptionModule', 'ExceptionModuleBase', 'ExceptionModuleVersion', 'ExceptionType', 'FileList', 'FormsPrinter', 'GUIResourceCount', 'GeoLocation', 'ImageName', 'InnerException', 'InstallType', 'InvParamExpression', 'InvParamFile', 'InvParamFunction', 'InvParamLine', 'Last_Calcsection', 'ManagedException', 'ManagedException.txt', 'MemoryUsageKbytes', 'Message', 'OSIs64Bit', 'OpenHandleCount', 'OperatingSystem', 'ProWin15.INI', 'ProWin16.INI', 'ProblemDescription', 'Source', 'StackTrace', 'SystemTimeUTC', 'TimeStamp', 'WorkStationName', 'WorkStationType', 'crashdump.dmp', 'crashrpt.xml', 'empty']\n",
      "Index(['Unnamed: 0', 'ACCDT_Field', 'Active_ClientFileName', 'Active_Field',\n",
      "       'Active_Form', 'Active_FormsetID', 'Active_FormsetVersion', 'AppName',\n",
      "       'AppVersion', 'BasWin15.INI', 'BasWin16.INI', 'Batch_ClientFileName',\n",
      "       'CrashGUID', 'CrashRpt', 'Current_Calcsection', 'CustNum',\n",
      "       'CustomProps', 'DataFileCount', 'ExceptionAddress', 'ExceptionCode',\n",
      "       'ExceptionModule', 'ExceptionModuleBase', 'ExceptionModuleVersion',\n",
      "       'ExceptionType', 'FileList', 'FormsPrinter', 'GUIResourceCount',\n",
      "       'GeoLocation', 'ImageName', 'InnerException', 'InstallType',\n",
      "       'InvParamExpression', 'InvParamFile', 'InvParamFunction',\n",
      "       'InvParamLine', 'Last_Calcsection', 'ManagedException',\n",
      "       'ManagedException.txt', 'MemoryUsageKbytes', 'Message', 'OSIs64Bit',\n",
      "       'OpenHandleCount', 'OperatingSystem', 'ProWin15.INI', 'ProWin16.INI',\n",
      "       'ProblemDescription', 'Source', 'StackTrace', 'SystemTimeUTC',\n",
      "       'TimeStamp', 'WorkStationName', 'WorkStationType', 'crashdump.dmp',\n",
      "       'crashrpt.xml', 'empty'],\n",
      "      dtype='object')\n",
      "   Unnamed: 0 ACCDT_Field   Active_ClientFileName            Active_Field  \\\n",
      "0           0        null  KAMA8519_16I.Sanitized                     NaN   \n",
      "1           1         NaN                     NaN                     NaN   \n",
      "2           2        null            rope7957.16I  Qualified dividends-35   \n",
      "3           4         NaN                     NaN                     NaN   \n",
      "4           6         NaN                     NaN                     NaN   \n",
      "\n",
      "  Active_Form Active_FormsetID Active_FormsetVersion  \\\n",
      "0         NaN   S2016US1040PRO             not found   \n",
      "1         NaN              NaN                   NaN   \n",
      "2  Schedule B   S2016US1040PRO             not found   \n",
      "3         NaN              NaN                   NaN   \n",
      "4         NaN              NaN                   NaN   \n",
      "\n",
      "                          AppName    AppVersion BasWin15.INI  ...    \\\n",
      "0                ProSeries - 2016  2.016120e+09          NaN  ...     \n",
      "1                ProSeries - 2016  2.016120e+09          NaN  ...     \n",
      "2  ProSeries Basic Edition - 2016  2.016120e+09          NaN  ...     \n",
      "3                ProSeries - 2016  2.016120e+09          NaN  ...     \n",
      "4  ProSeries Basic Edition - 2016  2.016110e+09          NaN  ...     \n",
      "\n",
      "  ProblemDescription    Source                  StackTrace  \\\n",
      "0                NaN       NaN                         NaN   \n",
      "1                NaN       NaN                         NaN   \n",
      "2                NaN  protax16     at _WinMainCRTStartup()   \n",
      "3                NaN  protax16     at _WinMainCRTStartup()   \n",
      "4                NaN       NaN                         NaN   \n",
      "\n",
      "          SystemTimeUTC                          TimeStamp WorkStationName  \\\n",
      "0  2017-04-13T18:01:32Z                                NaN   INTUITA350624   \n",
      "1  2017-04-14T03:44:41Z                                NaN        LINDA-PC   \n",
      "2  2017-04-13T21:38:14Z  2017-04-13T17:38:14.0215119-04:00             NaN   \n",
      "3  2017-04-13T03:14:51Z  2017-04-08T08:27:07.7275829-05:00             NaN   \n",
      "4  2017-04-13T20:12:05Z                                NaN             NaN   \n",
      "\n",
      "  WorkStationType   crashdump.dmp           crashrpt.xml  empty  \n",
      "0           Admin  Crash Minidump  Crash Description XML    NaN  \n",
      "1       Non-Admin  Crash Minidump  Crash Description XML    NaN  \n",
      "2             NaN  Crash Minidump  Crash Description XML    NaN  \n",
      "3             NaN  Crash Minidump  Crash Description XML    NaN  \n",
      "4             NaN  Crash Minidump  Crash Description XML    NaN  \n",
      "\n",
      "[5 rows x 55 columns]\n",
      "      Unnamed: 0 ACCDT_Field Active_ClientFileName           Active_Field  \\\n",
      "1099        1299        null          sper8277.16i                   Name   \n",
      "1100        1300        null          wang2798.16i  Qualified dividends-8   \n",
      "1101        1302         NaN                   NaN                    NaN   \n",
      "1102        1303         NaN                   NaN                    NaN   \n",
      "1103        1304  04/15/2016            ycl041.15i                    NaN   \n",
      "\n",
      "        Active_Form Active_FormsetID Active_FormsetVersion  \\\n",
      "1099  Form 1040ES 1   S2016US1040PRO             not found   \n",
      "1100     Schedule B   S2016US1040PRO             not found   \n",
      "1101            NaN              NaN                   NaN   \n",
      "1102            NaN              NaN                   NaN   \n",
      "1103            NaN   S2015US1040PRO             not found   \n",
      "\n",
      "                             AppName    AppVersion BasWin15.INI  ...    \\\n",
      "1099                ProSeries - 2016  2.016120e+09          NaN  ...     \n",
      "1100                ProSeries - 2016  2.016100e+09          NaN  ...     \n",
      "1101                ProSeries - 2016  2.016120e+09          NaN  ...     \n",
      "1102  ProSeries Basic Edition - 2016  2.016120e+09          NaN  ...     \n",
      "1103                ProSeries - 2015  2.015100e+09          NaN  ...     \n",
      "\n",
      "     ProblemDescription    Source                  StackTrace  \\\n",
      "1099                NaN       NaN                         NaN   \n",
      "1100                NaN  protax16     at _WinMainCRTStartup()   \n",
      "1101                NaN       NaN                         NaN   \n",
      "1102                NaN       NaN                         NaN   \n",
      "1103                NaN       NaN                         NaN   \n",
      "\n",
      "             SystemTimeUTC                          TimeStamp WorkStationName  \\\n",
      "1099  2017-04-14T00:01:22Z                                NaN        TOSHIBA1   \n",
      "1100  2017-04-13T16:44:08Z  2017-04-13T10:44:07.9180068-06:00             NaN   \n",
      "1101  2017-04-13T21:56:42Z                                NaN             NaN   \n",
      "1102  2017-04-13T19:20:23Z                                NaN             NaN   \n",
      "1103  2017-04-13T18:23:12Z                                NaN             PC6   \n",
      "\n",
      "     WorkStationType   crashdump.dmp           crashrpt.xml  empty  \n",
      "1099       Non-Admin  Crash Minidump  Crash Description XML    NaN  \n",
      "1100             NaN  Crash Minidump  Crash Description XML    NaN  \n",
      "1101             NaN  Crash Minidump  Crash Description XML    NaN  \n",
      "1102             NaN  Crash Minidump  Crash Description XML    NaN  \n",
      "1103       Non-Admin  Crash Minidump  Crash Description XML    NaN  \n",
      "\n",
      "[5 rows x 55 columns]\n"
     ]
    }
   ],
   "source": [
    "\"\"\"\n",
    "Exploring the dataframe\n",
    "\"\"\"\n",
    "from crash_analysis import get_columns\n",
    "\n",
    "# Get the columns of the dataframe\n",
    "columns = get_columns(df)\n",
    "print(columns)\n",
    "\n",
    "# Get columns with native Pandas syntax\n",
    "columns2 = df.columns \n",
    "print(columns2)\n",
    "\n",
    "# Read the top few entries of the dataframe\n",
    "print(df.head())\n",
    "\n",
    "# Read the last few entries of the dataframe\n",
    "print(df.tail())"
   ]
  },
  {
   "cell_type": "code",
   "execution_count": 7,
   "metadata": {
    "collapsed": false
   },
   "outputs": [
    {
     "name": "stdout",
     "output_type": "stream",
     "text": [
      "Unfiltered number of crashes: 1104\n",
      "Filtered number of crashes: 408\n",
      "\n",
      "Number of Network Admins: 105\n",
      "\n",
      "Number of Windows 10 users: 364\n",
      "\n",
      "Problem description df column length:  1104\n",
      "\n",
      "Problem description df column length:  1104\n",
      "\n",
      "Empty DataFrame\n",
      "Columns: [Unnamed: 0, ACCDT_Field, Active_ClientFileName, Active_Field, Active_Form, Active_FormsetID, Active_FormsetVersion, AppName, AppVersion, BasWin15.INI, BasWin16.INI, Batch_ClientFileName, CrashGUID, CrashRpt, Current_Calcsection, CustNum, CustomProps, DataFileCount, ExceptionAddress, ExceptionCode, ExceptionModule, ExceptionModuleBase, ExceptionModuleVersion, ExceptionType, FileList, FormsPrinter, GUIResourceCount, GeoLocation, ImageName, InnerException, InstallType, InvParamExpression, InvParamFile, InvParamFunction, InvParamLine, Last_Calcsection, ManagedException, ManagedException.txt, MemoryUsageKbytes, Message, OSIs64Bit, OpenHandleCount, OperatingSystem, ProWin15.INI, ProWin16.INI, ProblemDescription, Source, StackTrace, SystemTimeUTC, TimeStamp, WorkStationName, WorkStationType, crashdump.dmp, crashrpt.xml, empty]\n",
      "Index: []\n",
      "\n",
      "[0 rows x 55 columns]\n",
      "\n"
     ]
    }
   ],
   "source": [
    "\"\"\"\n",
    "Filtering the dataframe\n",
    "\n",
    "See http://pandas.pydata.org/pandas-docs/stable/10min.html#selection \n",
    "for more about indexing and selection.\n",
    "\"\"\"\n",
    "\n",
    "from crash_analysis import filter_dataframe, get_column\n",
    "\n",
    "# Before filtering\n",
    "print('Unfiltered number of crashes: ' + str(len(df)))\n",
    "\n",
    "# How to filter\n",
    "# filter_dataframe(df: DataFrame,  Key:Column_name=Value:Column_value)\n",
    "basic_only_df = filter_dataframe(df, AppName='ProSeries Basic Edition - 2016')\n",
    "\n",
    "\n",
    "# After filtering\n",
    "# Notice that there are fewer crashes in this dataframe!\n",
    "print('Filtered number of crashes: ' + str(len(basic_only_df)))\n",
    "print()\n",
    "\n",
    "# Filter multiple columns\n",
    "admin_network_df = filter_dataframe(df, InstallType='Network', WorkStationType='Admin')\n",
    "print('Number of Network Admins: ' + str(len(admin_network_df)))\n",
    "print()\n",
    "\n",
    "# Filter multiple values per column\n",
    "specific_os = filter_dataframe(df, OperatingSystem=['Windows 10 Home Build 14393', 'Windows 10 Pro Build 14393' ])\n",
    "print('Number of Windows 10 users: ' + str(len(specific_os)))\n",
    "print()\n",
    "\n",
    "# Get a specific column\n",
    "problem_descriptions_df = get_column(df, 'ProblemDescription')\n",
    "print('Problem description df column length: ', len(problem_descriptions_df))\n",
    "print()\n",
    "\n",
    "# Native Pandas way to get a column\n",
    "problem_descriptions_df2 = df['ProblemDescription']\n",
    "print('Problem description df column length: ', len(problem_descriptions_df2))\n",
    "print()\n",
    "\n",
    "# Native Pandas way to boolean index\n",
    "specific_cust_num = df[df['CustNum'] == '0614456913']\n",
    "print(specific_cust_num)\n",
    "print()"
   ]
  },
  {
   "cell_type": "code",
   "execution_count": 9,
   "metadata": {
    "collapsed": false
   },
   "outputs": [
    {
     "name": "stdout",
     "output_type": "stream",
     "text": [
      "0    NaN\n",
      "1    NaN\n",
      "2    NaN\n",
      "3    NaN\n",
      "5    NaN\n",
      "Name: ProblemDescription, dtype: object\n",
      "7                      THIS SUCKS\n",
      "17             ENTERING DIVIDENDS\n",
      "28    going fed to nys individual\n",
      "33    e-file Massachusetts return\n",
      "35        entering dividend info \n",
      "Name: ProblemDescription, dtype: object\n"
     ]
    }
   ],
   "source": [
    "# Reading Text Data\n",
    "current_version_df = filter_dataframe(df, AppVersion=2016120014)\n",
    "customer_desc_df = crash_analysis.get_column(current_version_df, 'ProblemDescription')\n",
    "print(customer_desc_df.head())\n",
    "\n",
    "## Remove NaN values --> two options\n",
    "full_desc = crash_analysis.remove_empty(customer_desc_df)\n",
    "# full_desc = crash_analysis.fill_empty(customer_desc_df)\n",
    "print(full_desc.head())\n",
    "\n",
    "## Formatting Printed Output\n",
    "# import pandas as pd\n",
    "# pd.set_option('display.height', 5000)\n",
    "# pd.set_option('display.max_rows', 5000)\n",
    "# pd.set_option('display.max_colwidth', 250)"
   ]
  },
  {
   "cell_type": "code",
   "execution_count": 20,
   "metadata": {
    "collapsed": false
   },
   "outputs": [
    {
     "data": {
      "text/plain": [
       "268690347    48\n",
       "26581991     16\n",
       "25336807     12\n",
       "8559591      12\n",
       "268707747    11\n",
       "25992167     11\n",
       "23501799     11\n",
       "16030695     10\n",
       "25730023     10\n",
       "19635175     10\n",
       "25861095     10\n",
       "8100839      10\n",
       "24222695     10\n",
       "23567335     10\n",
       "23239655      9\n",
       "7052263       9\n",
       "17865703      9\n",
       "23960551      9\n",
       "24681447      9\n",
       "6134759       9\n",
       "Name: Error_Code, dtype: int64"
      ]
     },
     "execution_count": 20,
     "metadata": {},
     "output_type": "execute_result"
    }
   ],
   "source": [
    "# Gathering some simple statistics\n",
    "\n",
    "# crash_analysis.get_columns(current_version_df)\n",
    "## Find histograms of field\n",
    "\n",
    "current_version_df['Error_Code'].value_counts()[:20]"
   ]
  },
  {
   "cell_type": "code",
   "execution_count": 31,
   "metadata": {
    "collapsed": false
   },
   "outputs": [
    {
     "name": "stdout",
     "output_type": "stream",
     "text": [
      "WorkStationType  OSIs64Bit  OperatingSystem                                 \n",
      "Admin            0.0        Windows 7 Professional Build 7601 Service Pack 1      1\n",
      "                            Windows 8.1 Pro Build 9600                            1\n",
      "                 1.0        Windows 10 Home Build 14393                          14\n",
      "                            Windows 10 Pro Build 10586                            1\n",
      "                            Windows 10 Pro Build 14393                           12\n",
      "                            Windows 10 Pro Build 15063                            1\n",
      "                            Windows 7 Enterprise Build 7601                       1\n",
      "                            Windows 7 Home Premium Build 7601                     4\n",
      "                            Windows 7 Professional Build 7601                    39\n",
      "                            Windows 7 Ultimate Build 7600                         1\n",
      "                            Windows 7 Ultimate Build 7601                         2\n",
      "                            Windows 8.1 Build 9600                                3\n",
      "                            Windows 8.1 Pro Build 9600                            2\n",
      "                            Windows Server 2008 R2 Enterprise Build 7601          3\n",
      "                            Windows Server 2008 R2 Standard Build 7601            2\n",
      "Non-Admin        0.0        Windows 10 Pro Build 14393                            2\n",
      "                            Windows 7 Home Premium Build 7601 Service Pack 1      1\n",
      "                            Windows 7 Professional Build 7601 Service Pack 1      5\n",
      "                            Windows 7 Ultimate Build 7601 Service Pack 1          1\n",
      "                 1.0        Windows 10 Enterprise N Build 14393                   1\n",
      "                            Windows 10 Home Build 14393                          25\n",
      "                            Windows 10 Pro Build 10240                            1\n",
      "                            Windows 10 Pro Build 14393                           50\n",
      "                            Windows 7 Home Premium Build 7601                     7\n",
      "                            Windows 7 Professional Build 7601                   107\n",
      "                            Windows 7 Ultimate Build 7600                         2\n",
      "                            Windows 7 Ultimate Build 7601                         5\n",
      "                            Windows 8 Pro Build 9200                              4\n",
      "                            Windows 8.1 Build 9600                                8\n",
      "                            Windows 8.1 Connected Build 9600                      1\n",
      "                            Windows 8.1 Pro Build 9600                            4\n",
      "                            Windows 8.1 Pro with Media Center Build 9600          2\n",
      "                            Windows Server 2008 R2 Standard Build 7601            1\n",
      "                            Windows Server 2012 R2 Standard Build 9600            1\n",
      "Name: CrashGUID, dtype: int64\n"
     ]
    }
   ],
   "source": [
    "# Groupby\n",
    "print(current_version_df.groupby(['WorkStationType', 'OSIs64Bit', 'OperatingSystem'])['CrashGUID'].count())"
   ]
  },
  {
   "cell_type": "markdown",
   "metadata": {},
   "source": [
    "## Text Analysis\n",
    "\n",
    "The following are some text analysis features you can use. These mainly allow you understand the problem descriptions in context of the rest of the crash fields. "
   ]
  },
  {
   "cell_type": "code",
   "execution_count": 24,
   "metadata": {
    "collapsed": false
   },
   "outputs": [
    {
     "name": "stdout",
     "output_type": "stream",
     "text": [
      "total words: 702\n",
      "return     \t:   42 \t [['return'], ['return'], ['returning'], ['return'], ['return'], ['return']]\n",
      "file       \t:   41 \t [['file'], ['filing'], ['filing'], ['file'], ['file'], ['file']]\n",
      "client     \t:   29 \t [['client'], ['clients'], ['client'], ['client'], ['client'], ['client']]\n",
      "print      \t:   25 \t [['printing'], ['printing'], ['print'], ['printing'], ['print'], ['printing']]\n",
      "tri        \t:   21 \t [['tried'], ['trying'], ['trying'], ['trying'], ['trying'], ['trying']]\n",
      "tax        \t:   18 \t [['tax'], ['tax'], ['tax'], ['tax'], ['tax'], ['tax']]\n",
      "delet      \t:   18 \t [['deleted'], ['deletion'], ['deleting'], ['deleted'], ['deleting'], ['delete']]\n",
      "efil       \t:   14 \t [['efile'], ['efile'], ['efile'], ['efiled'], ['efiling'], ['efiling']]\n",
      "save       \t:   13 \t [['saved'], ['saving'], ['saving'], ['save'], ['saving'], ['saving']]\n",
      "program    \t:   11 \t [['program'], ['program'], ['program'], ['program'], ['program'], ['program']]\n",
      "open       \t:   11 \t [['opening'], ['opening'], ['open'], ['open'], ['opening'], ['opening']]\n",
      "enter      \t:   11 \t [['entering'], ['entering'], ['enter'], ['entering'], ['entereing'], ['enter']]\n",
      "error      \t:   10 \t [['error'], ['errors'], ['error'], ['error'], ['errors'], ['errors']]\n",
      "work       \t:   10 \t [['working'], ['work'], ['working'], ['working'], ['working'], ['working']]\n",
      "time       \t:   10 \t [['time'], ['times'], ['times'], ['times'], ['time'], ['time']]\n",
      "crash      \t:   10 \t [['crashed'], ['crashes'], ['crashed'], ['crashed'], ['crashed'], ['crashed']]\n",
      "proseri    \t:    9 \t [['proseries'], ['proseries'], ['proseries'], ['proseries'], ['proseries'], ['proseries']]\n",
      "shut       \t:    8 \t [['shut'], ['shut'], ['shut'], ['shut'], ['shut'], ['shutting']]\n",
      "e          \t:    8 \t [['e'], ['e'], ['e'], ['e'], ['e'], ['e']]\n",
      "data       \t:    8 \t [['data'], ['data'], ['data'], ['data'], ['data'], ['data']]\n",
      "check      \t:    7 \t [['checking'], ['checking'], ['checking'], ['checking'], ['checking'], ['checking']]\n",
      "go         \t:    7 \t [['going'], ['going'], ['going'], ['going'], ['going'], ['going']]\n",
      "stop       \t:    7 \t [['stop'], ['stopped'], ['stopped'], ['stop'], ['stopped'], ['stopping']]\n",
      "close      \t:    7 \t [['closed'], ['closing'], ['close'], ['closes'], ['close'], ['closing']]\n",
      "input      \t:    6 \t [['inputing'], ['inputting'], ['input'], ['inputing'], ['inputing'], ['inputting']]\n",
      "letter     \t:    5 \t [['letter'], ['letter'], ['letter'], ['letter'], ['letter']]\n",
      "happen     \t:    5 \t [['happened'], ['happened'], ['happening'], ['happened'], ['happen']]\n",
      "chang      \t:    5 \t [['change'], ['changing'], ['changing'], ['changing'], ['changed']]\n",
      "everi      \t:    5 \t [['every'], ['every'], ['every'], ['every'], ['every']]\n",
      "noth       \t:    4 \t [['nothing'], ['nothing'], ['nothing'], ['nothing']]\n",
      "\n"
     ]
    }
   ],
   "source": [
    "\"\"\"\n",
    "Stem word frequency\n",
    "\n",
    "Protip: filter the problem descriptions by a type of error (i.e. another field in the dataframe) to get a quick\n",
    "understanding of what users are complaining about. \n",
    "\"\"\"\n",
    "\n",
    "from crash_analysis import analysis\n",
    "from crash_analysis.preprocess import tokenize_stem_stop, tokenize\n",
    "\n",
    "analysis.stem_frequency(full_desc)\n",
    "print()"
   ]
  },
  {
   "cell_type": "code",
   "execution_count": 33,
   "metadata": {
    "collapsed": false
   },
   "outputs": [
    {
     "name": "stdout",
     "output_type": "stream",
     "text": [
      "StackTrace by Keyterm\n",
      "keyterm: thrown\n",
      "   at _WinMainCRTStartup()                                                                                                                                                                                                                                                                                                                                                                                                                                                                                                                                                                                                                                                                                                                                                                                                                                                                                                                                                                                                                                                                                                                                                                                                                                                                                                                                                                                                                                                                                                                                                                                                                                                                                                                                                                                                                                                                                                                                                                                                                                                                                                                                                                                                                                                                                                                                                                                                                                                                                                                                                                                                                                                                                                                                                                                                                                                                                                                                                                                                                                                                                                                                                                                                                                                                                                                                                                                                                                                                                                                                                                                                                                                                                                                                                                                                                                                                                                                                                                                                                                                                                                                                                                                                                                                                                                                                                                                                                                                                                                                                                                                                                                                                                                                                                                                                                                                                                                                                                                                                                                                                                                                                                                                                                                                                                                                                                                                                                                                                                                                                                                                                                                                                                                                                                                                                                                                                                                                                                                                                                                                                                                                                                                                                                                                                                                                                                                                                                                                                                                                                                                 128\n",
      "   at _CxxThrowException(Void* , _s__ThrowInfo* )\\n   at ManagedADCAuthenticationType.{ctor}(ManagedADCAuthenticationType* , IADCConfiguration adcConfiguration)\\n   at UserLevelAuth.{ctor}(UserLevelAuth* , UserLevelAuthConfig* userLevelAuthConfig)\\n   at _WinMainCRTStartup()                                                                                                                                                                                                                                                                                                                                                                                                                                                                                                                                                                                                                                                                                                                                                                                                                                                                                                                                                                                                                                                                                                                                                                                                                                                                                                                                                                                                                                                                                                                                                                                                                                                                                                                                                                                                                                                                                                                                                                                                                                                                                                                                                                                                                                                                                                                                                                                                                                                                                                                                                                                                                                                                                                                                                                                                                                                                                                                                                                                                                                                                                                                                                                                                                                                                                                                                                                                                                                                                                                                                                                                                                                                                                                                                                                                                                                                                                                                                                                                                                                                                                                                                                                                                                                                                                                                                                                                                                                                                                                                                                                                                                                                                                                                                                                                                                                                                                                                                                                                                                                                                                                                                                                                                                                                                                                                                                                                                                                                                                                                                                                                                                                                                                                                                                                                                                                                                                                                                                                                                                                                                                                                                                                                                                                                                                                          2\n",
      "   at System.RuntimeMethodHandle.InvokeMethod(Object target, Object[] arguments, Signature sig, Boolean constructor)\\n   at System.Reflection.RuntimeMethodInfo.UnsafeInvokeInternal(Object obj, Object[] parameters, Object[] arguments)\\n   at System.Reflection.RuntimeMethodInfo.UnsafeInvoke(Object obj, BindingFlags invokeAttr, Binder binder, Object[] parameters, CultureInfo culture)\\n   at System.Delegate.DynamicInvokeImpl(Object[] args)\\n   at System.Windows.RoutedEventArgs.InvokeEventHandler(Delegate genericHandler, Object genericTarget)\\n   at System.Windows.RoutedEventArgs.InvokeHandler(Delegate handler, Object target)\\n   at System.Windows.RoutedEventHandlerInfo.InvokeHandler(Object target, RoutedEventArgs routedEventArgs)\\n   at System.Windows.EventRoute.InvokeHandlersImpl(Object source, RoutedEventArgs args, Boolean reRaised)\\n   at System.Windows.UIElement.RaiseEventImpl(DependencyObject sender, RoutedEventArgs args)\\n   at System.Windows.UIElement.RaiseEvent(RoutedEventArgs e)\\n   at DevExpress.Xpf.Grid.DataViewBase.RaiseFocusedRowHandleChanged()\\n   at DevExpress.Xpf.Core.Native.EndInitPostponedAction.PerformIfNotLoading(Action action, Action actionWhenLoading)\\n   at DevExpress.Xpf.Grid.DataViewBase.UpdateFocusedRowData()\\n   at DevExpress.Xpf.Grid.DataViewBase.OnFocusedRowHandleChangedCore(Int32 oldRowHandle)\\n   at DevExpress.Xpf.Grid.TableView.OnFocusedRowHandleChangedCore(Int32 oldRowHandle)\\n   at DevExpress.Xpf.Grid.DataViewBase.OnFocusedRowHandleChanged(DependencyObject d, DependencyPropertyChangedEventArgs e)\\n   at System.Windows.DependencyObject.OnPropertyChanged(DependencyPropertyChangedEventArgs e)\\n   at System.Windows.FrameworkElement.OnPropertyChanged(DependencyPropertyChangedEventArgs e)\\n   at DevExpress.Xpf.Grid.DataViewBase.OnPropertyChanged(DependencyPropertyChangedEventArgs e)\\n   at System.Windows.DependencyObject.NotifyPropertyChange(DependencyPropertyChangedEventArgs args)\\n   at System.Windows.DependencyObject.UpdateEffectiveValue(EntryIndex entryIndex, DependencyProperty dp, PropertyMetadata metadata, EffectiveValueEntry oldEntry, EffectiveValueEntry& newEntry, Boolean coerceWithDeferredReference, Boolean coerceWithCurrentValue, OperationType operationType)\\n   at System.Windows.DependencyObject.SetValueCommon(DependencyProperty dp, Object value, PropertyMetadata metadata, Boolean coerceWithDeferredReference, Boolean coerceWithCurrentValue, OperationType operationType, Boolean isInternal)\\n   at System.Windows.DependencyObject.SetCurrentValue(DependencyProperty dp, Object value)\\n   at DevExpress.Xpf.Grid.DataViewBase.FocusViewAndRow(DataViewBase view, Int32 rowHandle)\\n   at DevExpress.Xpf.Grid.Native.GridViewRowNavigationBase.<>c__DisplayClass1.<ProcessMouse>b__0()\\n   at DevExpress.Xpf.Core.Locker.DoLockedAction(Action action)\\n   at DevExpress.Xpf.Grid.Native.GridViewRowNavigationBase.ProcessMouse(DependencyObject originalSource)\\n   at DevExpress.Xpf.Grid.Native.GridViewCellNavigation.ProcessMouse(DependencyObject originalSource)\\n   at DevExpress.Xpf.Grid.DataViewBase.PerformNavigationOnLeftButtonDownCore(MouseButtonEventArgs e)\\n   at DevExpress.Xpf.Grid.Native.GridViewInplaceEditorOwner.PerformNavigationOnLeftButtonDown(MouseButtonEventArgs e)\\n   at DevExpress.Xpf.Editors.InplaceEditorOwnerBase.ProcessMouseButtonDown(MouseButtonEventArgs e, Boolean canShowEditor)\\n   at DevExpress.Xpf.Grid.DataViewBase.ProcessMouseLeftButtonDown(MouseButtonEventArgs e)\\n   at DevExpress.Xpf.Grid.DataControlBase.OnPreviewMouseLeftButtonDown(MouseButtonEventArgs e)\\n   at System.Windows.UIElement.OnPreviewMouseLeftButtonDownThunk(Object sender, MouseButtonEventArgs e)\\n   at System.Windows.Input.MouseButtonEventArgs.InvokeEventHandler(Delegate genericHandler, Object genericTarget)\\n   at System.Windows.RoutedEventArgs.InvokeHandler(Delegate handler, Object target)\\n   at System.Windows.RoutedEventHandlerInfo.InvokeHandler(Object target, RoutedEventArgs routedEventArgs)\\n   at System.Windows.EventRoute.InvokeHandlersImpl(Object source, RoutedEventArgs args, Boolean reRaised)\\n   at System.Windows.UIElement.ReRaiseEventAs(DependencyObject sender, RoutedEventArgs args, RoutedEvent newEvent)\\n   at System.Windows.UIElement.OnPreviewMouseDownThunk(Object sender, MouseButtonEventArgs e)\\n   at System.Windows.Input.MouseButtonEventArgs.InvokeEventHandler(Delegate genericHandler, Object genericTarget)\\n   at System.Windows.RoutedEventArgs.InvokeHandler(Delegate handler, Object target)\\n   at System.Windows.RoutedEventHandlerInfo.InvokeHandler(Object target, RoutedEventArgs routedEventArgs)\\n   at System.Windows.EventRoute.InvokeHandlersImpl(Object source, RoutedEventArgs args, Boolean reRaised)\\n   at System.Windows.UIElement.RaiseEventImpl(DependencyObject sender, RoutedEventArgs args)\\n   at System.Windows.UIElement.RaiseTrustedEvent(RoutedEventArgs args)\\n   at System.Windows.UIElement.RaiseEvent(RoutedEventArgs args, Boolean trusted)\\n   at System.Windows.Input.InputManager.ProcessStagingArea()\\n   at System.Windows.Input.InputManager.ProcessInput(InputEventArgs input)\\n   at System.Windows.Input.InputProviderSite.ReportInput(InputReport inputReport)\\n   at System.Windows.Interop.HwndMouseInputProvider.ReportInput(IntPtr hwnd, InputMode mode, Int32 timestamp, RawMouseActions actions, Int32 x, Int32 y, Int32 wheel)\\n   at System.Windows.Interop.HwndMouseInputProvider.FilterMessage(IntPtr hwnd, WindowMessage msg, IntPtr wParam, IntPtr lParam, Boolean& handled)\\n   at System.Windows.Interop.HwndSource.InputFilterMessage(IntPtr hwnd, Int32 msg, IntPtr wParam, IntPtr lParam, Boolean& handled)\\n   at MS.Win32.HwndWrapper.WndProc(IntPtr hwnd, Int32 msg, IntPtr wParam, IntPtr lParam, Boolean& handled)\\n   at MS.Win32.HwndSubclass.DispatcherCallbackOperation(Object o)\\n   at System.Windows.Threading.ExceptionWrapper.InternalRealCall(Delegate callback, Object args, Int32 numArgs)\\n   at MS.Internal.Threading.ExceptionFilterHelper.TryCatchWhen(Object source, Delegate method, Object args, Int32 numArgs, Delegate catchHandler)\\n   at System.Windows.Threading.Dispatcher.LegacyInvokeImpl(DispatcherPriority priority, TimeSpan timeout, Delegate method, Object args, Int32 numArgs)\\n   at MS.Win32.HwndSubclass.SubclassWndProc(IntPtr hwnd, Int32 msg, IntPtr wParam, IntPtr lParam)\\n   at _WinMainCRTStartup()      1\n",
      "   at Intuit.ProSeries.PMDataAccess.StarkWatcher.BackgroundThread_RunWorkerCompleted(Object sender, RunWorkerCompletedEventArgs e)\\n   at System.ComponentModel.BackgroundWorker.OnRunWorkerCompleted(RunWorkerCompletedEventArgs e)\\n   at System.ComponentModel.BackgroundWorker.AsyncOperationCompleted(Object arg)\\n   at System.Threading.QueueUserWorkItemCallback.WaitCallback_Context(Object state)\\n   at System.Threading.ExecutionContext.RunInternal(ExecutionContext executionContext, ContextCallback callback, Object state, Boolean preserveSyncCtx)\\n   at System.Threading.ExecutionContext.Run(ExecutionContext executionContext, ContextCallback callback, Object state, Boolean preserveSyncCtx)\\n   at System.Threading.QueueUserWorkItemCallback.System.Threading.IThreadPoolWorkItem.ExecuteWorkItem()\\n   at System.Threading.ThreadPoolWorkQueue.Dispatch()\\n   at System.Threading._ThreadPoolWaitCallback.PerformWaitCallback()                                                                                                                                                                                                                                                                                                                                                                                                                                                                                                                                                                                                                                                                                                                                                                                                                                                                                                                                                                                                                                                                                                                                                                                                                                                                                                                                                                                                                                                                                                                                                                                                                                                                                                                                                                                                                                                                                                                                                                                                                                                                                                                                                                                                                                                                                                                                                                                                                                                                                                                                                                                                                                                                                                                                                                                                                                                                                                                                                                                                                                                                                                                                                                                                                                                                                                                                                                                                                                                                                                                                                                                                                                                                                                                                                                                                                                                                                                                                                                                                                                                                                                                                                                                                                                                                                                                                                                                                                                                                                                                                                                                                                                                                                                                                                                                                                                                                                                                                                                                                                                                                                                                                                                                                                                                                                                                                                                                                                                                                                                                                                                                                                                  1\n",
      "   at System.RuntimeMethodHandle.InvokeMethod(Object target, Object[] arguments, Signature sig, Boolean constructor)\\n   at System.Reflection.RuntimeMethodInfo.UnsafeInvokeInternal(Object obj, Object[] parameters, Object[] arguments)\\n   at System.Delegate.DynamicInvokeImpl(Object[] args)\\n   at System.Windows.RoutedEventArgs.InvokeEventHandler(Delegate genericHandler, Object genericTarget)\\n   at System.Windows.RoutedEventArgs.InvokeHandler(Delegate handler, Object target)\\n   at System.Windows.RoutedEventHandlerInfo.InvokeHandler(Object target, RoutedEventArgs routedEventArgs)\\n   at System.Windows.EventRoute.InvokeHandlersImpl(Object source, RoutedEventArgs args, Boolean reRaised)\\n   at System.Windows.UIElement.RaiseEventImpl(DependencyObject sender, RoutedEventArgs args)\\n   at System.Windows.UIElement.RaiseEvent(RoutedEventArgs e)\\n   at DevExpress.Xpf.Grid.DataViewBase.RaiseFocusedRowHandleChanged()\\n   at DevExpress.Xpf.Core.Native.EndInitPostponedAction.PerformIfNotLoading(Action action, Action actionWhenLoading)\\n   at DevExpress.Xpf.Grid.DataViewBase.UpdateFocusedRowData()\\n   at DevExpress.Xpf.Grid.DataViewBase.OnFocusedRowHandleChangedCore(Int32 oldRowHandle)\\n   at DevExpress.Xpf.Grid.TableView.OnFocusedRowHandleChangedCore(Int32 oldRowHandle)\\n   at DevExpress.Xpf.Grid.DataViewBase.OnFocusedRowHandleChanged(DependencyObject d, DependencyPropertyChangedEventArgs e)\\n   at System.Windows.DependencyObject.OnPropertyChanged(DependencyPropertyChangedEventArgs e)\\n   at System.Windows.FrameworkElement.OnPropertyChanged(DependencyPropertyChangedEventArgs e)\\n   at DevExpress.Xpf.Grid.DataViewBase.OnPropertyChanged(DependencyPropertyChangedEventArgs e)\\n   at System.Windows.DependencyObject.NotifyPropertyChange(DependencyPropertyChangedEventArgs args)\\n   at System.Windows.DependencyObject.UpdateEffectiveValue(EntryIndex entryIndex, DependencyProperty dp, PropertyMetadata metadata, EffectiveValueEntry oldEntry, EffectiveValueEntry& newEntry, Boolean coerceWithDeferredReference, Boolean coerceWithCurrentValue, OperationType operationType)\\n   at System.Windows.DependencyObject.SetValueCommon(DependencyProperty dp, Object value, PropertyMetadata metadata, Boolean coerceWithDeferredReference, Boolean coerceWithCurrentValue, OperationType operationType, Boolean isInternal)\\n   at System.Windows.DependencyObject.SetCurrentValue(DependencyProperty dp, Object value)\\n   at DevExpress.Xpf.Grid.DataViewBase.FocusViewAndRow(DataViewBase view, Int32 rowHandle)\\n   at DevExpress.Xpf.Grid.Native.GridViewRowNavigationBase.<>c__DisplayClass1.<ProcessMouse>b__0()\\n   at DevExpress.Xpf.Core.Locker.DoLockedAction(Action action)\\n   at DevExpress.Xpf.Grid.Native.GridViewRowNavigationBase.ProcessMouse(DependencyObject originalSource)\\n   at DevExpress.Xpf.Grid.Native.GridViewCellNavigation.ProcessMouse(DependencyObject originalSource)\\n   at DevExpress.Xpf.Grid.DataViewBase.PerformNavigationOnLeftButtonDownCore(MouseButtonEventArgs e)\\n   at DevExpress.Xpf.Grid.Native.GridViewInplaceEditorOwner.PerformNavigationOnLeftButtonDown(MouseButtonEventArgs e)\\n   at DevExpress.Xpf.Editors.InplaceEditorOwnerBase.ProcessMouseButtonDown(MouseButtonEventArgs e, Boolean canShowEditor)\\n   at DevExpress.Xpf.Grid.DataViewBase.ProcessMouseLeftButtonDown(MouseButtonEventArgs e)\\n   at DevExpress.Xpf.Grid.DataControlBase.OnPreviewMouseLeftButtonDown(MouseButtonEventArgs e)\\n   at System.Windows.UIElement.OnPreviewMouseLeftButtonDownThunk(Object sender, MouseButtonEventArgs e)\\n   at System.Windows.Input.MouseButtonEventArgs.InvokeEventHandler(Delegate genericHandler, Object genericTarget)\\n   at System.Windows.RoutedEventArgs.InvokeHandler(Delegate handler, Object target)\\n   at System.Windows.RoutedEventHandlerInfo.InvokeHandler(Object target, RoutedEventArgs routedEventArgs)\\n   at System.Windows.EventRoute.InvokeHandlersImpl(Object source, RoutedEventArgs args, Boolean reRaised)\\n   at System.Windows.UIElement.ReRaiseEventAs(DependencyObject sender, RoutedEventArgs args, RoutedEvent newEvent)\\n   at System.Windows.UIElement.OnPreviewMouseDownThunk(Object sender, MouseButtonEventArgs e)\\n   at System.Windows.Input.MouseButtonEventArgs.InvokeEventHandler(Delegate genericHandler, Object genericTarget)\\n   at System.Windows.RoutedEventArgs.InvokeHandler(Delegate handler, Object target)\\n   at System.Windows.RoutedEventHandlerInfo.InvokeHandler(Object target, RoutedEventArgs routedEventArgs)\\n   at System.Windows.EventRoute.InvokeHandlersImpl(Object source, RoutedEventArgs args, Boolean reRaised)\\n   at System.Windows.UIElement.RaiseEventImpl(DependencyObject sender, RoutedEventArgs args)\\n   at System.Windows.UIElement.RaiseTrustedEvent(RoutedEventArgs args)\\n   at System.Windows.UIElement.RaiseEvent(RoutedEventArgs args, Boolean trusted)\\n   at System.Windows.Input.InputManager.ProcessStagingArea()\\n   at System.Windows.Input.InputManager.ProcessInput(InputEventArgs input)\\n   at System.Windows.Input.InputProviderSite.ReportInput(InputReport inputReport)\\n   at System.Windows.Interop.HwndMouseInputProvider.ReportInput(IntPtr hwnd, InputMode mode, Int32 timestamp, RawMouseActions actions, Int32 x, Int32 y, Int32 wheel)\\n   at System.Windows.Interop.HwndMouseInputProvider.FilterMessage(IntPtr hwnd, WindowMessage msg, IntPtr wParam, IntPtr lParam, Boolean& handled)\\n   at System.Windows.Interop.HwndSource.InputFilterMessage(IntPtr hwnd, Int32 msg, IntPtr wParam, IntPtr lParam, Boolean& handled)\\n   at MS.Win32.HwndWrapper.WndProc(IntPtr hwnd, Int32 msg, IntPtr wParam, IntPtr lParam, Boolean& handled)\\n   at MS.Win32.HwndSubclass.DispatcherCallbackOperation(Object o)\\n   at System.Windows.Threading.ExceptionWrapper.InternalRealCall(Delegate callback, Object args, Int32 numArgs)\\n   at System.Windows.Threading.ExceptionWrapper.TryCatchWhen(Object source, Delegate callback, Object args, Int32 numArgs, Delegate catchHandler)\\n   at System.Windows.Threading.Dispatcher.LegacyInvokeImpl(DispatcherPriority priority, TimeSpan timeout, Delegate method, Object args, Int32 numArgs)\\n   at MS.Win32.HwndSubclass.SubclassWndProc(IntPtr hwnd, Int32 msg, IntPtr wParam, IntPtr lParam)\\n   at _WinMainCRTStartup()                                                                                                                                                            1\n",
      "Name: StackTrace, dtype: int64\n",
      "\n",
      "\n",
      "keyterm: except\n",
      "   at _WinMainCRTStartup()                                                                                                                                                                                                                                                                                                                                                                                                                                                                                                                                                                                                                                                                                                                                                                                                                                                                                                                                                                                                                                                                                                                                                                                                                                                                                                                                                                                                                                                                                                                                                                                                                                                                                                                                                                                                                                                                                                                                                                                                                                                                                                                                                                                                                                                                                                                                                                                                                                                                                                                                                                                                                                                                                                                                                                                                                                                                                                                                                                                                                                                                                                                                                                                                                                                                                                                                                                                                                                                                                                                                                                                                                                                                                                                                                                                                                                                                                                                                                                                                                                                                                                                                                                                                                                                                                                                                                                                                                                                                                                                                                                                                                                                                                                                                                                                                                                                                                                                                                                                                                                                                                                                                                                                                                                                                                                                                                                                                                                                                                                                                                                                                                                                                                                                                                                                                                                                                                                                                                                                                                                                                                                                                                                                                                                                                                                                                                                                                                                                                                                                                                                 128\n",
      "   at _CxxThrowException(Void* , _s__ThrowInfo* )\\n   at ManagedADCAuthenticationType.{ctor}(ManagedADCAuthenticationType* , IADCConfiguration adcConfiguration)\\n   at UserLevelAuth.{ctor}(UserLevelAuth* , UserLevelAuthConfig* userLevelAuthConfig)\\n   at _WinMainCRTStartup()                                                                                                                                                                                                                                                                                                                                                                                                                                                                                                                                                                                                                                                                                                                                                                                                                                                                                                                                                                                                                                                                                                                                                                                                                                                                                                                                                                                                                                                                                                                                                                                                                                                                                                                                                                                                                                                                                                                                                                                                                                                                                                                                                                                                                                                                                                                                                                                                                                                                                                                                                                                                                                                                                                                                                                                                                                                                                                                                                                                                                                                                                                                                                                                                                                                                                                                                                                                                                                                                                                                                                                                                                                                                                                                                                                                                                                                                                                                                                                                                                                                                                                                                                                                                                                                                                                                                                                                                                                                                                                                                                                                                                                                                                                                                                                                                                                                                                                                                                                                                                                                                                                                                                                                                                                                                                                                                                                                                                                                                                                                                                                                                                                                                                                                                                                                                                                                                                                                                                                                                                                                                                                                                                                                                                                                                                                          2\n",
      "   at System.RuntimeMethodHandle.InvokeMethod(Object target, Object[] arguments, Signature sig, Boolean constructor)\\n   at System.Reflection.RuntimeMethodInfo.UnsafeInvokeInternal(Object obj, Object[] parameters, Object[] arguments)\\n   at System.Reflection.RuntimeMethodInfo.UnsafeInvoke(Object obj, BindingFlags invokeAttr, Binder binder, Object[] parameters, CultureInfo culture)\\n   at System.Delegate.DynamicInvokeImpl(Object[] args)\\n   at System.Windows.RoutedEventArgs.InvokeEventHandler(Delegate genericHandler, Object genericTarget)\\n   at System.Windows.RoutedEventArgs.InvokeHandler(Delegate handler, Object target)\\n   at System.Windows.RoutedEventHandlerInfo.InvokeHandler(Object target, RoutedEventArgs routedEventArgs)\\n   at System.Windows.EventRoute.InvokeHandlersImpl(Object source, RoutedEventArgs args, Boolean reRaised)\\n   at System.Windows.UIElement.RaiseEventImpl(DependencyObject sender, RoutedEventArgs args)\\n   at System.Windows.UIElement.RaiseEvent(RoutedEventArgs e)\\n   at DevExpress.Xpf.Grid.DataViewBase.RaiseFocusedRowHandleChanged()\\n   at DevExpress.Xpf.Core.Native.EndInitPostponedAction.PerformIfNotLoading(Action action, Action actionWhenLoading)\\n   at DevExpress.Xpf.Grid.DataViewBase.UpdateFocusedRowData()\\n   at DevExpress.Xpf.Grid.DataViewBase.OnFocusedRowHandleChangedCore(Int32 oldRowHandle)\\n   at DevExpress.Xpf.Grid.TableView.OnFocusedRowHandleChangedCore(Int32 oldRowHandle)\\n   at DevExpress.Xpf.Grid.DataViewBase.OnFocusedRowHandleChanged(DependencyObject d, DependencyPropertyChangedEventArgs e)\\n   at System.Windows.DependencyObject.OnPropertyChanged(DependencyPropertyChangedEventArgs e)\\n   at System.Windows.FrameworkElement.OnPropertyChanged(DependencyPropertyChangedEventArgs e)\\n   at DevExpress.Xpf.Grid.DataViewBase.OnPropertyChanged(DependencyPropertyChangedEventArgs e)\\n   at System.Windows.DependencyObject.NotifyPropertyChange(DependencyPropertyChangedEventArgs args)\\n   at System.Windows.DependencyObject.UpdateEffectiveValue(EntryIndex entryIndex, DependencyProperty dp, PropertyMetadata metadata, EffectiveValueEntry oldEntry, EffectiveValueEntry& newEntry, Boolean coerceWithDeferredReference, Boolean coerceWithCurrentValue, OperationType operationType)\\n   at System.Windows.DependencyObject.SetValueCommon(DependencyProperty dp, Object value, PropertyMetadata metadata, Boolean coerceWithDeferredReference, Boolean coerceWithCurrentValue, OperationType operationType, Boolean isInternal)\\n   at System.Windows.DependencyObject.SetCurrentValue(DependencyProperty dp, Object value)\\n   at DevExpress.Xpf.Grid.DataViewBase.FocusViewAndRow(DataViewBase view, Int32 rowHandle)\\n   at DevExpress.Xpf.Grid.Native.GridViewRowNavigationBase.<>c__DisplayClass1.<ProcessMouse>b__0()\\n   at DevExpress.Xpf.Core.Locker.DoLockedAction(Action action)\\n   at DevExpress.Xpf.Grid.Native.GridViewRowNavigationBase.ProcessMouse(DependencyObject originalSource)\\n   at DevExpress.Xpf.Grid.Native.GridViewCellNavigation.ProcessMouse(DependencyObject originalSource)\\n   at DevExpress.Xpf.Grid.DataViewBase.PerformNavigationOnLeftButtonDownCore(MouseButtonEventArgs e)\\n   at DevExpress.Xpf.Grid.Native.GridViewInplaceEditorOwner.PerformNavigationOnLeftButtonDown(MouseButtonEventArgs e)\\n   at DevExpress.Xpf.Editors.InplaceEditorOwnerBase.ProcessMouseButtonDown(MouseButtonEventArgs e, Boolean canShowEditor)\\n   at DevExpress.Xpf.Grid.DataViewBase.ProcessMouseLeftButtonDown(MouseButtonEventArgs e)\\n   at DevExpress.Xpf.Grid.DataControlBase.OnPreviewMouseLeftButtonDown(MouseButtonEventArgs e)\\n   at System.Windows.UIElement.OnPreviewMouseLeftButtonDownThunk(Object sender, MouseButtonEventArgs e)\\n   at System.Windows.Input.MouseButtonEventArgs.InvokeEventHandler(Delegate genericHandler, Object genericTarget)\\n   at System.Windows.RoutedEventArgs.InvokeHandler(Delegate handler, Object target)\\n   at System.Windows.RoutedEventHandlerInfo.InvokeHandler(Object target, RoutedEventArgs routedEventArgs)\\n   at System.Windows.EventRoute.InvokeHandlersImpl(Object source, RoutedEventArgs args, Boolean reRaised)\\n   at System.Windows.UIElement.ReRaiseEventAs(DependencyObject sender, RoutedEventArgs args, RoutedEvent newEvent)\\n   at System.Windows.UIElement.OnPreviewMouseDownThunk(Object sender, MouseButtonEventArgs e)\\n   at System.Windows.Input.MouseButtonEventArgs.InvokeEventHandler(Delegate genericHandler, Object genericTarget)\\n   at System.Windows.RoutedEventArgs.InvokeHandler(Delegate handler, Object target)\\n   at System.Windows.RoutedEventHandlerInfo.InvokeHandler(Object target, RoutedEventArgs routedEventArgs)\\n   at System.Windows.EventRoute.InvokeHandlersImpl(Object source, RoutedEventArgs args, Boolean reRaised)\\n   at System.Windows.UIElement.RaiseEventImpl(DependencyObject sender, RoutedEventArgs args)\\n   at System.Windows.UIElement.RaiseTrustedEvent(RoutedEventArgs args)\\n   at System.Windows.UIElement.RaiseEvent(RoutedEventArgs args, Boolean trusted)\\n   at System.Windows.Input.InputManager.ProcessStagingArea()\\n   at System.Windows.Input.InputManager.ProcessInput(InputEventArgs input)\\n   at System.Windows.Input.InputProviderSite.ReportInput(InputReport inputReport)\\n   at System.Windows.Interop.HwndMouseInputProvider.ReportInput(IntPtr hwnd, InputMode mode, Int32 timestamp, RawMouseActions actions, Int32 x, Int32 y, Int32 wheel)\\n   at System.Windows.Interop.HwndMouseInputProvider.FilterMessage(IntPtr hwnd, WindowMessage msg, IntPtr wParam, IntPtr lParam, Boolean& handled)\\n   at System.Windows.Interop.HwndSource.InputFilterMessage(IntPtr hwnd, Int32 msg, IntPtr wParam, IntPtr lParam, Boolean& handled)\\n   at MS.Win32.HwndWrapper.WndProc(IntPtr hwnd, Int32 msg, IntPtr wParam, IntPtr lParam, Boolean& handled)\\n   at MS.Win32.HwndSubclass.DispatcherCallbackOperation(Object o)\\n   at System.Windows.Threading.ExceptionWrapper.InternalRealCall(Delegate callback, Object args, Int32 numArgs)\\n   at MS.Internal.Threading.ExceptionFilterHelper.TryCatchWhen(Object source, Delegate method, Object args, Int32 numArgs, Delegate catchHandler)\\n   at System.Windows.Threading.Dispatcher.LegacyInvokeImpl(DispatcherPriority priority, TimeSpan timeout, Delegate method, Object args, Int32 numArgs)\\n   at MS.Win32.HwndSubclass.SubclassWndProc(IntPtr hwnd, Int32 msg, IntPtr wParam, IntPtr lParam)\\n   at _WinMainCRTStartup()      1\n",
      "   at Intuit.ProSeries.PMDataAccess.StarkWatcher.BackgroundThread_RunWorkerCompleted(Object sender, RunWorkerCompletedEventArgs e)\\n   at System.ComponentModel.BackgroundWorker.OnRunWorkerCompleted(RunWorkerCompletedEventArgs e)\\n   at System.ComponentModel.BackgroundWorker.AsyncOperationCompleted(Object arg)\\n   at System.Threading.QueueUserWorkItemCallback.WaitCallback_Context(Object state)\\n   at System.Threading.ExecutionContext.RunInternal(ExecutionContext executionContext, ContextCallback callback, Object state, Boolean preserveSyncCtx)\\n   at System.Threading.ExecutionContext.Run(ExecutionContext executionContext, ContextCallback callback, Object state, Boolean preserveSyncCtx)\\n   at System.Threading.QueueUserWorkItemCallback.System.Threading.IThreadPoolWorkItem.ExecuteWorkItem()\\n   at System.Threading.ThreadPoolWorkQueue.Dispatch()\\n   at System.Threading._ThreadPoolWaitCallback.PerformWaitCallback()                                                                                                                                                                                                                                                                                                                                                                                                                                                                                                                                                                                                                                                                                                                                                                                                                                                                                                                                                                                                                                                                                                                                                                                                                                                                                                                                                                                                                                                                                                                                                                                                                                                                                                                                                                                                                                                                                                                                                                                                                                                                                                                                                                                                                                                                                                                                                                                                                                                                                                                                                                                                                                                                                                                                                                                                                                                                                                                                                                                                                                                                                                                                                                                                                                                                                                                                                                                                                                                                                                                                                                                                                                                                                                                                                                                                                                                                                                                                                                                                                                                                                                                                                                                                                                                                                                                                                                                                                                                                                                                                                                                                                                                                                                                                                                                                                                                                                                                                                                                                                                                                                                                                                                                                                                                                                                                                                                                                                                                                                                                                                                                                                                  1\n",
      "   at System.RuntimeMethodHandle.InvokeMethod(Object target, Object[] arguments, Signature sig, Boolean constructor)\\n   at System.Reflection.RuntimeMethodInfo.UnsafeInvokeInternal(Object obj, Object[] parameters, Object[] arguments)\\n   at System.Delegate.DynamicInvokeImpl(Object[] args)\\n   at System.Windows.RoutedEventArgs.InvokeEventHandler(Delegate genericHandler, Object genericTarget)\\n   at System.Windows.RoutedEventArgs.InvokeHandler(Delegate handler, Object target)\\n   at System.Windows.RoutedEventHandlerInfo.InvokeHandler(Object target, RoutedEventArgs routedEventArgs)\\n   at System.Windows.EventRoute.InvokeHandlersImpl(Object source, RoutedEventArgs args, Boolean reRaised)\\n   at System.Windows.UIElement.RaiseEventImpl(DependencyObject sender, RoutedEventArgs args)\\n   at System.Windows.UIElement.RaiseEvent(RoutedEventArgs e)\\n   at DevExpress.Xpf.Grid.DataViewBase.RaiseFocusedRowHandleChanged()\\n   at DevExpress.Xpf.Core.Native.EndInitPostponedAction.PerformIfNotLoading(Action action, Action actionWhenLoading)\\n   at DevExpress.Xpf.Grid.DataViewBase.UpdateFocusedRowData()\\n   at DevExpress.Xpf.Grid.DataViewBase.OnFocusedRowHandleChangedCore(Int32 oldRowHandle)\\n   at DevExpress.Xpf.Grid.TableView.OnFocusedRowHandleChangedCore(Int32 oldRowHandle)\\n   at DevExpress.Xpf.Grid.DataViewBase.OnFocusedRowHandleChanged(DependencyObject d, DependencyPropertyChangedEventArgs e)\\n   at System.Windows.DependencyObject.OnPropertyChanged(DependencyPropertyChangedEventArgs e)\\n   at System.Windows.FrameworkElement.OnPropertyChanged(DependencyPropertyChangedEventArgs e)\\n   at DevExpress.Xpf.Grid.DataViewBase.OnPropertyChanged(DependencyPropertyChangedEventArgs e)\\n   at System.Windows.DependencyObject.NotifyPropertyChange(DependencyPropertyChangedEventArgs args)\\n   at System.Windows.DependencyObject.UpdateEffectiveValue(EntryIndex entryIndex, DependencyProperty dp, PropertyMetadata metadata, EffectiveValueEntry oldEntry, EffectiveValueEntry& newEntry, Boolean coerceWithDeferredReference, Boolean coerceWithCurrentValue, OperationType operationType)\\n   at System.Windows.DependencyObject.SetValueCommon(DependencyProperty dp, Object value, PropertyMetadata metadata, Boolean coerceWithDeferredReference, Boolean coerceWithCurrentValue, OperationType operationType, Boolean isInternal)\\n   at System.Windows.DependencyObject.SetCurrentValue(DependencyProperty dp, Object value)\\n   at DevExpress.Xpf.Grid.DataViewBase.FocusViewAndRow(DataViewBase view, Int32 rowHandle)\\n   at DevExpress.Xpf.Grid.Native.GridViewRowNavigationBase.<>c__DisplayClass1.<ProcessMouse>b__0()\\n   at DevExpress.Xpf.Core.Locker.DoLockedAction(Action action)\\n   at DevExpress.Xpf.Grid.Native.GridViewRowNavigationBase.ProcessMouse(DependencyObject originalSource)\\n   at DevExpress.Xpf.Grid.Native.GridViewCellNavigation.ProcessMouse(DependencyObject originalSource)\\n   at DevExpress.Xpf.Grid.DataViewBase.PerformNavigationOnLeftButtonDownCore(MouseButtonEventArgs e)\\n   at DevExpress.Xpf.Grid.Native.GridViewInplaceEditorOwner.PerformNavigationOnLeftButtonDown(MouseButtonEventArgs e)\\n   at DevExpress.Xpf.Editors.InplaceEditorOwnerBase.ProcessMouseButtonDown(MouseButtonEventArgs e, Boolean canShowEditor)\\n   at DevExpress.Xpf.Grid.DataViewBase.ProcessMouseLeftButtonDown(MouseButtonEventArgs e)\\n   at DevExpress.Xpf.Grid.DataControlBase.OnPreviewMouseLeftButtonDown(MouseButtonEventArgs e)\\n   at System.Windows.UIElement.OnPreviewMouseLeftButtonDownThunk(Object sender, MouseButtonEventArgs e)\\n   at System.Windows.Input.MouseButtonEventArgs.InvokeEventHandler(Delegate genericHandler, Object genericTarget)\\n   at System.Windows.RoutedEventArgs.InvokeHandler(Delegate handler, Object target)\\n   at System.Windows.RoutedEventHandlerInfo.InvokeHandler(Object target, RoutedEventArgs routedEventArgs)\\n   at System.Windows.EventRoute.InvokeHandlersImpl(Object source, RoutedEventArgs args, Boolean reRaised)\\n   at System.Windows.UIElement.ReRaiseEventAs(DependencyObject sender, RoutedEventArgs args, RoutedEvent newEvent)\\n   at System.Windows.UIElement.OnPreviewMouseDownThunk(Object sender, MouseButtonEventArgs e)\\n   at System.Windows.Input.MouseButtonEventArgs.InvokeEventHandler(Delegate genericHandler, Object genericTarget)\\n   at System.Windows.RoutedEventArgs.InvokeHandler(Delegate handler, Object target)\\n   at System.Windows.RoutedEventHandlerInfo.InvokeHandler(Object target, RoutedEventArgs routedEventArgs)\\n   at System.Windows.EventRoute.InvokeHandlersImpl(Object source, RoutedEventArgs args, Boolean reRaised)\\n   at System.Windows.UIElement.RaiseEventImpl(DependencyObject sender, RoutedEventArgs args)\\n   at System.Windows.UIElement.RaiseTrustedEvent(RoutedEventArgs args)\\n   at System.Windows.UIElement.RaiseEvent(RoutedEventArgs args, Boolean trusted)\\n   at System.Windows.Input.InputManager.ProcessStagingArea()\\n   at System.Windows.Input.InputManager.ProcessInput(InputEventArgs input)\\n   at System.Windows.Input.InputProviderSite.ReportInput(InputReport inputReport)\\n   at System.Windows.Interop.HwndMouseInputProvider.ReportInput(IntPtr hwnd, InputMode mode, Int32 timestamp, RawMouseActions actions, Int32 x, Int32 y, Int32 wheel)\\n   at System.Windows.Interop.HwndMouseInputProvider.FilterMessage(IntPtr hwnd, WindowMessage msg, IntPtr wParam, IntPtr lParam, Boolean& handled)\\n   at System.Windows.Interop.HwndSource.InputFilterMessage(IntPtr hwnd, Int32 msg, IntPtr wParam, IntPtr lParam, Boolean& handled)\\n   at MS.Win32.HwndWrapper.WndProc(IntPtr hwnd, Int32 msg, IntPtr wParam, IntPtr lParam, Boolean& handled)\\n   at MS.Win32.HwndSubclass.DispatcherCallbackOperation(Object o)\\n   at System.Windows.Threading.ExceptionWrapper.InternalRealCall(Delegate callback, Object args, Int32 numArgs)\\n   at System.Windows.Threading.ExceptionWrapper.TryCatchWhen(Object source, Delegate callback, Object args, Int32 numArgs, Delegate catchHandler)\\n   at System.Windows.Threading.Dispatcher.LegacyInvokeImpl(DispatcherPriority priority, TimeSpan timeout, Delegate method, Object args, Int32 numArgs)\\n   at MS.Win32.HwndSubclass.SubclassWndProc(IntPtr hwnd, Int32 msg, IntPtr wParam, IntPtr lParam)\\n   at _WinMainCRTStartup()                                                                                                                                                            1\n",
      "Name: StackTrace, dtype: int64\n",
      "\n",
      "\n",
      "keyterm: extern\n",
      "   at _WinMainCRTStartup()                                                                                                                                                                                                                                                             128\n",
      "   at _CxxThrowException(Void* , _s__ThrowInfo* )\\n   at ManagedADCAuthenticationType.{ctor}(ManagedADCAuthenticationType* , IADCConfiguration adcConfiguration)\\n   at UserLevelAuth.{ctor}(UserLevelAuth* , UserLevelAuthConfig* userLevelAuthConfig)\\n   at _WinMainCRTStartup()      2\n",
      "Name: StackTrace, dtype: int64\n",
      "\n",
      "\n",
      "keyterm: compon\n",
      "   at _WinMainCRTStartup()                                                                                                                                                                                                                                                             128\n",
      "   at _CxxThrowException(Void* , _s__ThrowInfo* )\\n   at ManagedADCAuthenticationType.{ctor}(ManagedADCAuthenticationType* , IADCConfiguration adcConfiguration)\\n   at UserLevelAuth.{ctor}(UserLevelAuth* , UserLevelAuthConfig* userLevelAuthConfig)\\n   at _WinMainCRTStartup()      2\n",
      "Name: StackTrace, dtype: int64\n",
      "\n",
      "\n",
      "keyterm: cannot\n",
      "   at Intuit.ProSeries.PMDataAccess.PMDataContainer.Commit()\\n   at zDllEfStark.Commit(zDllEfStark* )\\n   at zDllEfStark.{dtor}(zDllEfStark* )\\n   at zEtxReplyFile.UpdateEFDatabases(zEtxReplyFile* , CStringT<char\\,StrTraitMFC_DLL<char\\,ATL::ChTraitsCRT<char> > >* rcsEFError, Int32 bSingleAck)\\n   at zDllReceiveAcknowledgements.FindStatusMessages(zDllReceiveAcknowledgements* , CStringT<char\\,StrTraitMFC_DLL<char\\,ATL::ChTraitsCRT<char> > >* rcsStatusMessage, AckRequestType_t eAckRequest)\\n   at zDllReceiveAcknowledgements.DoReceiveEFAcknowledgments(zDllReceiveAcknowledgements* , tmTaskRequiredObjects* pStruct)\\n   at DoReceiveEFAcknowledgments(tmTaskRequiredObjects* pStruct)\\n   at _WinMainCRTStartup()                                                                                                                                                                                                                                                                                                                                                                                                                                                                                                                                                                                                                                                                                                                                                                                                                                                                                                                                                                                                                                                                                                                                                                                                                                                                                                                                                                                                                                                                                                                                                                                                                                                                                                                                                                                                                                                                                                                      9\n",
      "   at System.IO.__Error.WinIOError(Int32 errorCode, String maybeFullPath)\\n   at System.IO.File.InternalDelete(String path, Boolean checkHost)\\n   at System.IO.File.Delete(String path)\\n   at Intuit.Spc.Authorization.Internal.DataStorage.LocalSecureDataAccessor.<DeleteAllDataAsync>d__26.MoveNext()\\n--- End of stack trace from previous location where exception was thrown ---\\n   at System.Runtime.CompilerServices.TaskAwaiter.ThrowForNonSuccess(Task task)\\n   at System.Runtime.CompilerServices.TaskAwaiter.HandleNonSuccessAndDebuggerNotification(Task task)\\n   at Intuit.Spc.Authorization.Internal.DataStorage.LocalSecureDataAccessor.<LoadAsync>d__13.MoveNext()\\n--- End of stack trace from previous location where exception was thrown ---\\n   at System.Runtime.CompilerServices.TaskAwaiter.ThrowForNonSuccess(Task task)\\n   at System.Runtime.CompilerServices.TaskAwaiter.HandleNonSuccessAndDebuggerNotification(Task task)\\n   at Intuit.Spc.Authorization.Internal.DataStorage.SecureDataAccessor.<RetrieveAuthorizationInfoAsync>d__19.MoveNext()\\n--- End of stack trace from previous location where exception was thrown ---\\n   at System.Runtime.CompilerServices.TaskAwaiter.ThrowForNonSuccess(Task task)\\n   at System.Runtime.CompilerServices.TaskAwaiter.HandleNonSuccessAndDebuggerNotification(Task task)\\n   at Intuit.Spc.Authorization.AuthorizationClient.<RetrieveAuthorizationInfoAsync>d__71.MoveNext()\\n--- End of stack trace from previous location where exception was thrown ---\\n   at System.Runtime.CompilerServices.TaskAwaiter.ThrowForNonSuccess(Task task)\\n   at System.Runtime.CompilerServices.TaskAwaiter.HandleNonSuccessAndDebuggerNotification(Task task)\\n   at Intuit.Spc.Authorization.Internal.SessionMonitor.<PeriodicTimerFired>d__10.MoveNext()\\n--- End of stack trace from previous location where exception was thrown ---\\n   at System.Runtime.CompilerServices.AsyncMethodBuilderCore.<>c.<ThrowAsync>b__6_1(Object state)\\n   at System.Threading.QueueUserWorkItemCallback.WaitCallback_Context(Object state)\\n   at System.Threading.ExecutionContext.RunInternal(ExecutionContext executionContext, ContextCallback callback, Object state, Boolean preserveSyncCtx)\\n   at System.Threading.ExecutionContext.Run(ExecutionContext executionContext, ContextCallback callback, Object state, Boolean preserveSyncCtx)\\n   at System.Threading.QueueUserWorkItemCallback.System.Threading.IThreadPoolWorkItem.ExecuteWorkItem()\\n   at System.Threading.ThreadPoolWorkQueue.Dispatch()\\n   at System.Threading._ThreadPoolWaitCallback.PerformWaitCallback()    2\n",
      "   at Intuit.ProSeries.PMDataAccess.PMDataContainer.Commit()\\n   at zEtxReplyFile.ProcessEFStatusRepliesWithStark(zEtxReplyFile* , EFModeType_t eStatusType, Int32 bSingleAck, CStringList* rTransmitInfoList, zDllEfStark* refdbAccess, zDllBpStark* rbpDllDataAccess)\\n   at zEtxReplyFile.UpdateEFDatabases(zEtxReplyFile* , CStringT<char\\,StrTraitMFC_DLL<char\\,ATL::ChTraitsCRT<char> > >* rcsEFError, Int32 bSingleAck)\\n   at zDllReceiveAcknowledgements.FindStatusMessages(zDllReceiveAcknowledgements* , CStringT<char\\,StrTraitMFC_DLL<char\\,ATL::ChTraitsCRT<char> > >* rcsStatusMessage, AckRequestType_t eAckRequest)\\n   at zDllReceiveAcknowledgements.DoReceiveEFAcknowledgments(zDllReceiveAcknowledgements* , tmTaskRequiredObjects* pStruct)\\n   at DoReceiveEFAcknowledgments(tmTaskRequiredObjects* pStruct)\\n   at _WinMainCRTStartup()                                                                                                                                                                                                                                                                                                                                                                                                                                                                                                                                                                                                                                                                                                                                                                                                                                                                                                                                                                                                                                                                                                                                                                                                                                                                                                                                                                                                                                                                                                                                                                                                                                                                                                                                                                                             1\n",
      "   at System.Windows.Threading.Dispatcher.VerifyAccess()\\n   at System.Windows.UIElement.set_Visibility(Visibility value)\\n   at Intuit.Spc.Authorization.UX.SignInWindow.<SyncControls>d__39.MoveNext()\\n--- End of stack trace from previous location where exception was thrown ---\\n   at System.Runtime.CompilerServices.AsyncMethodBuilderCore.<>c.<ThrowAsync>b__6_0(Object state)\\n   at System.Threading.QueueUserWorkItemCallback.WaitCallback_Context(Object state)\\n   at System.Threading.ExecutionContext.RunInternal(ExecutionContext executionContext, ContextCallback callback, Object state, Boolean preserveSyncCtx)\\n   at System.Threading.ExecutionContext.Run(ExecutionContext executionContext, ContextCallback callback, Object state, Boolean preserveSyncCtx)\\n   at System.Threading.QueueUserWorkItemCallback.System.Threading.IThreadPoolWorkItem.ExecuteWorkItem()\\n   at System.Threading.ThreadPoolWorkQueue.Dispatch()\\n   at System.Threading._ThreadPoolWaitCallback.PerformWaitCallback()                                                                                                                                                                                                                                                                                                                                                                                                                                                                                                                                                                                                                                                                                                                                                                                                                                                                                                                                                                                                                                                                                                                                                                                                                                                                                                                                                                                                                                                                                                                                                                                                                              1\n",
      "Name: StackTrace, dtype: int64\n",
      "\n",
      "\n",
      "\n"
     ]
    }
   ],
   "source": [
    "# Group by keyterm\n",
    "from crash_analysis import analysis\n",
    "\n",
    "analysis.associate_by_keyterms(current_version_df, 'Message', 'StackTrace', print_output=True)\n",
    "print()"
   ]
  },
  {
   "cell_type": "code",
   "execution_count": 16,
   "metadata": {
    "collapsed": false
   },
   "outputs": [
    {
     "data": {
      "text/plain": [
       "[('custom client letter', 3),\n",
       " ('edit custom client letter', 3),\n",
       " ('edit custom client', 3),\n",
       " ('close client file', 2),\n",
       " ('client letter delet', 2),\n",
       " ('edit custom client letter delet', 2),\n",
       " ('save client file', 2),\n",
       " ('program stop work', 2),\n",
       " ('everi time wtf', 2),\n",
       " ('input tax return', 2),\n",
       " ('check efil acknowledg', 2),\n",
       " ('custom client letter delet', 2),\n",
       " ('tri print return', 2),\n",
       " ('happen sever time', 2),\n",
       " ('chang client address', 1),\n",
       " ('turn back found messag box screen happen', 1),\n",
       " ('correct error return', 1),\n",
       " ('edit custom client letter delet section text save', 1),\n",
       " ('could print list crash', 1),\n",
       " ('client file error appear forc program close', 1)]"
      ]
     },
     "execution_count": 16,
     "metadata": {},
     "output_type": "execute_result"
    }
   ],
   "source": [
    "\"\"\" \n",
    "N-Gram(ish) Models\n",
    "\"\"\"\n",
    "\n",
    "from crash_analysis import analysis\n",
    "\n",
    "from crash_analysis.preprocess import ngram, lower_and_tokenize, tokenize_stem_stop\n",
    "\n",
    "import re\n",
    "\n",
    "\n",
    "def word_trigram(text): return ngram(lower_and_tokenize(text), 5, skip=2)\n",
    "\n",
    "\n",
    "def word_trigram_stemmed(text): return ngram(tokenize_stem_stop(text), 10, skip=1)\n",
    "\n",
    "\n",
    "sorted_counts, total, vocab = analysis.stem_frequency(full_desc, _map=word_trigram_stemmed, print_output=False)\n",
    "\n",
    "list(filter(lambda tuple: len(re.split(r'\\W', tuple[0])) > 2, sorted_counts))[:20]"
   ]
  }
 ],
 "metadata": {
  "kernelspec": {
   "display_name": "Python [conda env:catt-dataproc]",
   "language": "python",
   "name": "conda-env-catt-dataproc-py"
  },
  "language_info": {
   "codemirror_mode": {
    "name": "ipython",
    "version": 3
   },
   "file_extension": ".py",
   "mimetype": "text/x-python",
   "name": "python",
   "nbconvert_exporter": "python",
   "pygments_lexer": "ipython3",
   "version": "3.5.3"
  }
 },
 "nbformat": 4,
 "nbformat_minor": 0
}
