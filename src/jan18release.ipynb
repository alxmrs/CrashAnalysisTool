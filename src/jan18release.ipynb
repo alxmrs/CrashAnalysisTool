{
 "cells": [
  {
   "cell_type": "markdown",
   "metadata": {
    "collapsed": true
   },
   "source": [
    "# Crash Report Jan 18, 2016\n",
    "\n",
    "Version: 2016070012"
   ]
  },
  {
   "cell_type": "code",
   "execution_count": 1,
   "metadata": {},
   "outputs": [],
   "source": [
    "\"\"\"\n",
    "General import statements\n",
    "\"\"\"\n",
    "import crash_analysis\n",
    "import pandas as pd\n",
    "from matplotlib import pyplot as plt \n",
    "%matplotlib inline"
   ]
  },
  {
   "cell_type": "code",
   "execution_count": 3,
   "metadata": {},
   "outputs": [],
   "source": [
    "\"\"\"\n",
    "Parse zipfiles into dataframe\n",
    "\"\"\"\n",
    "from crash_analysis.parser import extract_zipfiles, xmldocs_to_dataframe\n",
    "zipfile_location = 'C:\\\\CrashReports\\\\'\n",
    "\n",
    "extract_zipfiles(zipfile_location)\n",
    "df = xmldocs_to_dataframe(zipfile_location)\n",
    "\n",
    "df.drop_duplicates(inplace=True)"
   ]
  },
  {
   "cell_type": "code",
   "execution_count": 2,
   "metadata": {},
   "outputs": [],
   "source": [
    "\"\"\"\n",
    "Save/load dataframe to/from CSV\n",
    "\"\"\"\n",
    "from crash_analysis import read_csv\n",
    "\n",
    "new_data = False\n",
    "cache_location = 'src/data/2016070012_jan20_10am.csv'\n",
    "\n",
    "if new_data:\n",
    "    df.to_csv(cache_location, encoding='utf-8')\n",
    "else:\n",
    "    df = read_csv(cache_location)"
   ]
  },
  {
   "cell_type": "code",
   "execution_count": 3,
   "metadata": {
    "collapsed": false
   },
   "outputs": [
    {
     "name": "stdout",
     "output_type": "stream",
     "text": [
      "['Unnamed: 0', 'ACCDT_Field', 'Active_ClientFileName', 'Active_Field', 'Active_Form', 'Active_FormsetID', 'Active_FormsetVersion', 'AppName', 'AppVersion', 'BasWin16.INI', 'Batch_ClientFileName', 'CrashGUID', 'CrashRpt', 'Current_Calcsection', 'CustNum', 'CustomProps', 'DataFileCount', 'ExceptionAddress', 'ExceptionCode', 'ExceptionModule', 'ExceptionModuleBase', 'ExceptionModuleVersion', 'ExceptionType', 'FileList', 'FormsPrinter', 'GUIResourceCount', 'GeoLocation', 'ImageName', 'InnerException', 'InstallType', 'Last_Calcsection', 'ManagedException', 'ManagedException.txt', 'MemoryUsageKbytes', 'Message', 'OSIs64Bit', 'OpenHandleCount', 'OperatingSystem', 'ProWin16.INI', 'ProblemDescription', 'Source', 'StackTrace', 'SystemTimeUTC', 'TimeStamp', 'WorkStationName', 'WorkStationType', 'crashdump.dmp', 'crashrpt.xml', 'empty']\n2016070012    185\nName: AppVersion, dtype: int64\n185\n"
     ]
    }
   ],
   "source": [
    "\"\"\"\n",
    "Get metadata about dataframe\n",
    "\"\"\"\n",
    "col_names = crash_analysis.get_columns(df)\n",
    "versions = df['AppVersion'].value_counts()\n",
    "num_crashes = len(df)\n",
    "# old num crashes: 672\n",
    "# Jan 23: 899\n",
    "# Jan 24: 1157\n",
    "# Jan 24 6pm: 1284\n",
    "# Jan 26 2pm: 1900\n",
    "# Feb 2 530pm: 6054\n",
    "\n",
    "print(col_names)\n",
    "print(versions)\n",
    "print(num_crashes)"
   ]
  },
  {
   "cell_type": "code",
   "execution_count": 7,
   "metadata": {},
   "outputs": [
    {
     "data": {
      "text/plain": [
       "6054"
      ]
     },
     "execution_count": 7,
     "metadata": {},
     "output_type": "execute_result"
    }
   ],
   "source": [
    "from crash_analysis import filter_dataframe\n",
    "df = filter_dataframe(df, AppVersion=2016070012)\n",
    "len(df)"
   ]
  },
  {
   "cell_type": "code",
   "execution_count": 8,
   "metadata": {},
   "outputs": [
    {
     "name": "stdout",
     "output_type": "stream",
     "text": [
      "\n"
     ]
    }
   ],
   "source": [
    "\"\"\"\n",
    "Customer Description Analysis\n",
    "\"\"\"\n",
    "from crash_analysis.analysis import remove_empty, get_column, stem_frequency\n",
    "customer_desc = remove_empty(get_column(df, 'ProblemDescription'))\n",
    "\n",
    "stem_frequency(customer_desc)\n",
    "\n",
    "print"
   ]
  },
  {
   "cell_type": "code",
   "execution_count": 4,
   "metadata": {},
   "outputs": [
    {
     "name": "stdout",
     "output_type": "stream",
     "text": [
      "Query 1 \t count: 54 \t ExceptionModule: C:\\Windows\\System32\\KERNELBASE.dll\n10.0.14393.479    38\n6.3.9600.18340    10\n10.0.10586.589     2\n6.1.7601.23392     2\n10.0.14393.0       1\n6.3.9600.18264     1\nName: ExceptionModuleVersion, dtype: int64\n54\n\n\nQuery 2 \t count: 20 \t ExceptionModule: C:\\ProWin16\\32bit\\protax16.exe\n2016.7.0.12    20\nName: ExceptionModuleVersion, dtype: int64\n20\n\n\nQuery 3 \t count: 18 \t ExceptionModule: C:\\Windows\\SysWOW64\\KERNELBASE.dll\n6.1.7601.23572    14\n6.1.7601.23418     2\n6.1.7601.23569     1\n6.1.7601.17514     1\nName: ExceptionModuleVersion, dtype: int64\n18\n\n\nQuery 4 \t count: 18 \t ExceptionModule: C:\\Windows\\System32\\ucrtbase.dll\n10.0.14393.0    18\nName: ExceptionModuleVersion, dtype: int64\n18\n\n\nQuery 5 \t count: 10 \t ExceptionModule: C:\\ProWin16\\32bit\\c4dll.dll\n2016.0.0.0    10\nName: ExceptionModuleVersion, dtype: int64\n10\n\n\nQuery 6 \t count: 4 \t ExceptionModule: C:\\Windows\\System32\\mfc140.dll\n14.0.23026.0    4\nName: ExceptionModuleVersion, dtype: int64\n4\n\n\nQuery 7 \t count: 4 \t ExceptionModule: C:\\BasWin16\\32bit\\protax16.exe\n2016.7.0.12    4\nName: ExceptionModuleVersion, dtype: int64\n4\n\n\nQuery 8 \t count: 3 \t ExceptionModule: C:\\Windows\\SysWOW64\\ntdll.dll\n6.1.7601.23572    3\nName: ExceptionModuleVersion, dtype: int64\n3\n\n\nQuery 9 \t count: 2 \t ExceptionModule: C:\\Windows\\System32\\user32.dll\n6.3.9600.18535    2\nName: ExceptionModuleVersion, dtype: int64\n2\n\n\n"
     ]
    },
    {
     "data": {
      "text/plain": [
       "[None, None, None, None, None, None, None, None, None]"
      ]
     },
     "execution_count": 4,
     "metadata": {},
     "output_type": "execute_result"
    }
   ],
   "source": [
    "\"\"\"\n",
    "Frequency of error messages and stack traces\n",
    "\"\"\"\n",
    "\n",
    "from crash_analysis import filter_dataframe\n",
    "\n",
    "\n",
    "def get_value_from_hist(n, field='Message'):\n",
    "    field_hist = df[field].value_counts()\n",
    "    assert n < len(field_hist)\n",
    "    return field_hist.keys()[n], field_hist.values[n]\n",
    "\n",
    "\n",
    "def print_parings(n, field1='Message', groupings=['AppName', 'InstallType', 'OperatingSystem'], print_output=True):\n",
    "    top_key, count = get_value_from_hist(n, field1)\n",
    "    df_filtered = filter_dataframe(df, **{field1: top_key})\n",
    "    df_filt = df_filtered.copy()\n",
    "    if type(groupings) is type(list()):\n",
    "        field2_hist = df_filtered.groupby(groupings)['CustNum'].nunique()\n",
    "    else:\n",
    "        field2_hist = df_filtered[groupings].value_counts()\n",
    "\n",
    "    if print_output:\n",
    "        print(\"Query {0} \\t count: {1} \\t {2}: {3}\".format(n+1, count, field1, top_key.encode('ascii', 'ignore')))\n",
    "        print(field2_hist)\n",
    "        print(sum(field2_hist))\n",
    "        print '\\n'\n",
    "    \n",
    "# \n",
    "# pd.set_option('display.max_rows', 5000)\n",
    "# pd.set_option('display.height', 5000)\n",
    "# [print_parings(n, groupings='ProblemDescription') for n in range(5)]\n",
    "# print_parings(0, groupings='CustNum')\n",
    "# [print_parings(n, field1='ExceptionAddress') for n in [0]]\n",
    "# [print_parings(n, field1='ExceptionAddress', groupings='ProblemDescription') for n in [0]]\n",
    "\n",
    "[print_parings(n, field1='ExceptionModule', groupings='ExceptionModuleVersion') for n in range(9)]\n",
    "\n",
    "# file_counts_df = filter_dataframe(df, ExceptionAddress='0x100427a3')\n",
    "\n",
    "# file_counts_df = filtered_df.apply(lambda x: pd.to_numeric(x, errors='coerce'))\n",
    "# file_counts_df.hist(bins=50)\n",
    "# # file_counts_df = pd.to_numeric(file_counts_df, errors='ignore')\n",
    "# # file_counts_df.mean()\n",
    "# print(file_counts_df.min(), file_counts_df.max())\n",
    "# df[df['CustNum'] == '0614456913']"
   ]
  },
  {
   "cell_type": "code",
   "execution_count": null,
   "metadata": {},
   "outputs": [],
   "source": [
    "df['OperatingSystem'].value_counts()"
   ]
  },
  {
   "cell_type": "code",
   "execution_count": 79,
   "metadata": {},
   "outputs": [
    {
     "name": "stdout",
     "output_type": "stream",
     "text": [
      "35\n"
     ]
    }
   ],
   "source": [
    "\"\"\" Customer Descriptions \"\"\"\n",
    "\n",
    "from crash_analysis import remove_empty\n",
    "# print(one_cust.head())\n",
    "pd.set_option('display.max_colwidth', 250)\n",
    "print(sum(remove_empty(df['ProblemDescription']).value_counts()))"
   ]
  },
  {
   "cell_type": "code",
   "execution_count": 80,
   "metadata": {},
   "outputs": [
    {
     "name": "stdout",
     "output_type": "stream",
     "text": [
      "Message by Keyterm\nkeyterm: program\nMethod not found: 'Void Intuit.Application.ProSeries.OptionSetupWizardAPI.DataModels.AdditionalInfo..ctor(System.String, System.String, System.String, System.String, System.String, System.String, System.String, System.String, System.String, System.String, System.String, System.String)'.    2\nMethod not found: 'Int32 System.Runtime.InteropServices.Marshal.SizeOf(!!0)'.                                                                                                                                                                                                                      1\nExternal component has thrown an exception.                                                                                                                                                                                                                                                        1\nName: Message, dtype: int64\n\nkeyterm: open\nExternal component has thrown an exception.                                                                                                                                                                                                                                                        4\nMethod not found: 'Void Intuit.Application.ProSeries.OptionSetupWizardAPI.DataModels.AdditionalInfo..ctor(System.String, System.String, System.String, System.String, System.String, System.String, System.String, System.String, System.String, System.String, System.String, System.String)'.    3\nAccess to the path 'e:\\$RECYCLE.BIN\\S-1-5-21-1734283657-823011882-2764790919-1001' is denied.                                                                                                                                                                                                      2\nName: Message, dtype: int64\n\nkeyterm: print\nExternal component has thrown an exception.    1\nName: Message, dtype: int64\n\nkeyterm: client\nSeries([], Name: Message, dtype: int64)\n\nkeyterm: input\nSeries([], Name: Message, dtype: int64)\n\nkeyterm: tri\nMethod not found: 'Void Intuit.Application.ProSeries.OptionSetupWizardAPI.DataModels.AdditionalInfo..ctor(System.String, System.String, System.String, System.String, System.String, System.String, System.String, System.String, System.String, System.String, System.String, System.String)'.    2\nExternal component has thrown an exception.                                                                                                                                                                                                                                                        2\nName: Message, dtype: int64\n\nkeyterm: close\nSeries([], Name: Message, dtype: int64)\n\nkeyterm: return\nAccess to the path 'e:\\$RECYCLE.BIN\\S-1-5-21-1734283657-823011882-2764790919-1001' is denied.    1\nName: Message, dtype: int64\n\nkeyterm: data\nSeries([], Name: Message, dtype: int64)\n\nkeyterm: save\nSeries([], Name: Message, dtype: int64)\n\nkeyterm: complet\nSeries([], Name: Message, dtype: int64)\n\nkeyterm: file\nSeries([], Name: Message, dtype: int64)\n\nkeyterm: instal\nSeries([], Name: Message, dtype: int64)\n\nkeyterm: start\nMethod not found: 'Int32 System.Runtime.InteropServices.Marshal.SizeOf(!!0)'.    2\nExternal component has thrown an exception.                                      2\nName: Message, dtype: int64\n\nkeyterm: softwar\nExternal component has thrown an exception.    2\nName: Message, dtype: int64\n\nkeyterm: year\nSeries([], Name: Message, dtype: int64)\n\nkeyterm: network\nSeries([], Name: Message, dtype: int64)\n\nkeyterm: transfer\nSeries([], Name: Message, dtype: int64)\n\nkeyterm: updat\nSeries([], Name: Message, dtype: int64)\n\nkeyterm: stop\nSeries([], Name: Message, dtype: int64)\n\nkeyterm: work\nSeries([], Name: Message, dtype: int64)\n\nkeyterm: inform\nSeries([], Name: Message, dtype: int64)\n\nkeyterm: dont\nExternal component has thrown an exception.                                      3\nMethod not found: 'Int32 System.Runtime.InteropServices.Marshal.SizeOf(!!0)'.    1\nName: Message, dtype: int64\n\n\n"
     ]
    }
   ],
   "source": [
    "\"\"\"\n",
    "Associate by keyterm\n",
    "\"\"\"\n",
    "from crash_analysis.analysis import associate_by_keyterms\n",
    "\n",
    "associate_by_keyterms(df, 'ProblemDescription', 'Message', min_count=2)\n",
    "print"
   ]
  },
  {
   "cell_type": "code",
   "execution_count": null,
   "metadata": {},
   "outputs": [],
   "source": [
    ""
   ]
  }
 ],
 "metadata": {
  "kernelspec": {
   "display_name": "Python 2",
   "language": "python",
   "name": "python2"
  },
  "language_info": {
   "codemirror_mode": {
    "name": "ipython",
    "version": 2.0
   },
   "file_extension": ".py",
   "mimetype": "text/x-python",
   "name": "python",
   "nbconvert_exporter": "python",
   "pygments_lexer": "ipython2",
   "version": "2.7.6"
  }
 },
 "nbformat": 4,
 "nbformat_minor": 0
}