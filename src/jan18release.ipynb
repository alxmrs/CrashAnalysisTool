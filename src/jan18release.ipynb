{
 "cells": [
  {
   "cell_type": "markdown",
   "metadata": {
    "collapsed": true
   },
   "source": [
    "# Crash Report Jan 18, 2016\n",
    "\n",
    "Version: 2016070012"
   ]
  },
  {
   "cell_type": "code",
   "execution_count": 28,
   "metadata": {},
   "outputs": [],
   "source": [
    "\"\"\"\n",
    "General import statements\n",
    "\"\"\"\n",
    "import crash_analysis\n",
    "import pandas as pd\n",
    "from matplotlib import pyplot as plt \n",
    "%matplotlib inline"
   ]
  },
  {
   "cell_type": "code",
   "execution_count": 3,
   "metadata": {},
   "outputs": [],
   "source": [
    "\"\"\"\n",
    "Parse zipfiles into dataframe\n",
    "\"\"\"\n",
    "from crash_analysis.parser import extract_zipfiles, xmldocs_to_dataframe\n",
    "zipfile_location = 'C:\\\\CrashReports\\\\'\n",
    "\n",
    "extract_zipfiles(zipfile_location)\n",
    "df = xmldocs_to_dataframe(zipfile_location)\n",
    "\n",
    "df.drop_duplicates(inplace=True)"
   ]
  },
  {
   "cell_type": "code",
   "execution_count": 29,
   "metadata": {},
   "outputs": [],
   "source": [
    "\"\"\"\n",
    "Save/load dataframe to/from CSV\n",
    "\"\"\"\n",
    "from crash_analysis import read_csv\n",
    "\n",
    "new_data = False\n",
    "cache_location = 'src/data/2016070012_feb2_530pm.csv'\n",
    "\n",
    "if new_data:\n",
    "    df.to_csv(cache_location, encoding='utf-8')\n",
    "else:\n",
    "    df = read_csv(cache_location)"
   ]
  },
  {
   "cell_type": "code",
   "execution_count": 6,
   "metadata": {
    "collapsed": false
   },
   "outputs": [
    {
     "name": "stdout",
     "output_type": "stream",
     "text": [
      "['Unnamed: 0', 'ACCDT_Field', 'Active_ClientFileName', 'Active_Field', 'Active_Form', 'Active_FormsetID', 'Active_FormsetVersion', 'AppName', 'AppVersion', 'BasWin16.INI', 'Batch_ClientFileName', 'CrashGUID', 'CrashRpt', 'Current_Calcsection', 'CustNum', 'CustomProps', 'DataFileCount', 'ExceptionAddress', 'ExceptionCode', 'ExceptionModule', 'ExceptionModuleBase', 'ExceptionModuleVersion', 'ExceptionType', 'FileList', 'FormsPrinter', 'GUIResourceCount', 'GeoLocation', 'ImageName', 'InnerException', 'InstallType', 'InvParamExpression', 'InvParamFile', 'InvParamFunction', 'InvParamLine', 'Last_Calcsection', 'ManagedException', 'ManagedException.txt', 'MemoryUsageKbytes', 'Message', 'OSIs64Bit', 'OpenHandleCount', 'OperatingSystem', 'ProWin16.INI', 'ProblemDescription', 'Source', 'StackTrace', 'SystemTimeUTC', 'TimeStamp', 'WorkStationName', 'WorkStationType', 'crashdump.dmp', 'crashrpt.xml', 'empty']\n2.016070e+09    6054\nName: AppVersion, dtype: int64\n6056\n"
     ]
    }
   ],
   "source": [
    "\"\"\"\n",
    "Get metadata about dataframe\n",
    "\"\"\"\n",
    "col_names = crash_analysis.get_columns(df)\n",
    "versions = df['AppVersion'].value_counts()\n",
    "num_crashes = len(df)\n",
    "# old num crashes: 672\n",
    "# Jan 23: 899\n",
    "# Jan 24: 1157\n",
    "# Jan 24 6pm: 1284\n",
    "# Jan 26 2pm: 1900\n",
    "# Feb 2 530pm: 6054\n",
    "\n",
    "print(col_names)\n",
    "print(versions)\n",
    "print(num_crashes)"
   ]
  },
  {
   "cell_type": "code",
   "execution_count": 7,
   "metadata": {},
   "outputs": [
    {
     "data": {
      "text/plain": [
       "6054"
      ]
     },
     "execution_count": 7,
     "metadata": {},
     "output_type": "execute_result"
    }
   ],
   "source": [
    "from crash_analysis import filter_dataframe\n",
    "df = filter_dataframe(df, AppVersion=2016070012)\n",
    "len(df)"
   ]
  },
  {
   "cell_type": "code",
   "execution_count": 8,
   "metadata": {},
   "outputs": [
    {
     "name": "stdout",
     "output_type": "stream",
     "text": [
      "\n"
     ]
    }
   ],
   "source": [
    "\"\"\"\n",
    "Customer Description Analysis\n",
    "\"\"\"\n",
    "from crash_analysis.analysis import remove_empty, get_column, stem_frequency\n",
    "customer_desc = remove_empty(get_column(df, 'ProblemDescription'))\n",
    "\n",
    "stem_frequency(customer_desc)\n",
    "\n",
    "print"
   ]
  },
  {
   "cell_type": "code",
   "execution_count": 74,
   "metadata": {},
   "outputs": [
    {
     "name": "stdout",
     "output_type": "stream",
     "text": [
      "Query 1 \t count: 154 \t ExceptionAddress: 0x100427a3\nCrashGUID                             ProblemDescription                                                                                                                                                                                                                  \n0d5b8dcf-a3f3-4dc1-a309-54738f033ba5  Deleting files                                                                                                                                                                                                                          1\n1056ee33-e719-4514-86ca-d9097e31ade7  renaming client                                                                                                                                                                                                                         1\n112fb07a-39bb-4c39-9485-f7ca5cc2954b  renaming client file                                                                                                                                                                                                                    1\n1e4c2ac4-a772-4584-840a-de90b3f64030  renaming client file                                                                                                                                                                                                                    1\n261ff23c-9a88-4fdf-b59c-b8dadfae2b9a  I was deleting a client folder                                                                                                                                                                                                          1\n2bf86de8-c4e3-4f2e-8781-9a0c77366ec8  deleting duplicate customer                                                                                                                                                                                                             1\n2cd3ada0-2c4c-46c5-8208-18d502b91235  i was trying to rename a client                                                                                                                                                                                                         1\n334e4a92-7141-4fab-9411-7c5893d0d40b  Removed client's state return                                                                                                                                                                                                           1\n485543fe-d2bf-4bec-9841-37227b553d25  deleting a client files                                                                                                                                                                                                                 1\n4952c4a7-e767-402c-bbfd-d1fc8a02cf5a  tried to delete a file from homebase                                                                                                                                                                                                    1\n4da3d387-042a-41f5-abcd-5b38937643f3  delite                                                                                                                                                                                                                                  1\n4e3de676-c21f-47bf-bb0a-d7b89bc26e13  Deleting a client                                                                                                                                                                                                                       1\n5121b7e5-c1c7-492b-81a3-b6000fa46d5a  tyring to delete practice problems and it crashed                                                                                                                                                                                       1\n555ac1c3-291d-4661-81af-1b227dca0e40  deleted a client file from 2016 software, because i made changes to 2015 software and wanted to transfer the client info as it was corrected.  error occurred when i was attempting to \"re-transfer\" the file after i had deleted it    1\n70df3d81-ecc6-497e-99d5-33c8061f926b  renaming a file                                                                                                                                                                                                                         1\n76c8b403-d70a-4056-99ba-7e223e3bcac6  I am trying to delete clients in the organizer home base                                                                                                                                                                                1\n7b498b70-988d-4d00-9f00-bec1b2292296  Deleting a file                                                                                                                                                                                                                         1\n7cc507a8-5219-4193-8869-1f84bbf3e07f  rename client, I have Windows 10                                                                                                                                                                                                        1\n83c44060-1555-4683-84d2-383e7adc95ba  deleting client file and program crashed                                                                                                                                                                                                1\n875f54a4-20aa-4e7d-bf1c-1425fda7015a  Delieting homebase entries manually because homebase cleanup would not do it.                                                                                                                                                           1\n885d1096-4882-4085-8a03-d186f997b645  Right click on client, delete, this error message occurred.                                                                                                                                                                             1\n8e42e732-908a-40f0-bf01-4936252cc4c1  Nothing                                                                                                                                                                                                                                 1\n8ea8ac31-159a-4db7-a27a-3a7879fca422  Same problem homebase not clearing cleaning deleted files                                                                                                                                                                               1\n8f02071a-ee12-44db-8708-bbdcf3385093  Deleting a client file                                                                                                                                                                                                                  1\n9aeeb8ca-61cc-4049-825d-9bb67928106b  Stopped working while i was deleted a few files at the same time                                                                                                                                                                        1\n9d6576d4-2806-442c-8a7c-8d09f7383a45  Delite a file                                                                                                                                                                                                                           1\na4f39232-a0fb-4704-94a7-348b36129204  deleting a client file.  it seems to be duplicating them when i reindex homebase                                                                                                                                                        1\nac9b8c0c-049a-4805-859d-db386e8ef419  transfer a client file                                                                                                                                                                                                                  1\nb0282d65-4a95-4ab9-84b3-7edea98487a6  I want to remove a client                                                                                                                                                                                                               1\nb657dfe7-fc62-4d56-a478-fedceb5f4fcc  deleting client                                                                                                                                                                                                                         1\nc36a0086-1a85-4497-9501-a628a7f0e0b1  system crashed                                                                                                                                                                                                                          1\ncca9ab74-2bd7-4206-9f13-e895441f9a1e  deleting a record from homebase                                                                                                                                                                                                         1\nccf392c8-af42-43a1-aa5a-c633e086802c  del clients                                                                                                                                                                                                                             1\nce02ffad-1751-4765-b898-915cff264197  Deleting a client                                                                                                                                                                                                                       1\nd98d0d61-1604-464c-83d0-035d5256ea3c  crashes when i try and clean up and delete pracitice files                                                                                                                                                                              1\nda52aa1e-c9b0-4890-bb48-cd4ea58575c9  wrong file name                                                                                                                                                                                                                         1\ndc8e9b29-59d1-4086-aa50-52aacacf4d16  deleting non-active clients                                                                                                                                                                                                             1\ndd976175-d410-4ca7-bec6-7f767e4e9312  Exiting program                                                                                                                                                                                                                         1\nde24f490-c3a7-4180-a472-67a3dfeb0cf8  software crashed when i was deleting a file                                                                                                                                                                                             1\ne3c71432-7d75-4c0b-8b46-87da025f07ea  deleting client                                                                                                                                                                                                                         1\ne3c9bcea-8cdc-40ea-b18c-04f640447d36  Switching between tax returns type to open....                                                                                                                                                                                          1\nf49a9f2a-0d19-4d28-8bec-8bb6dd0502fa  rename client file                                                                                                                                                                                                                      1\nf7e105d0-11f8-4d43-a10e-d00e3021ed11  trying to save 1040                                                                                                                                                                                                                     1\nName: CustNum, dtype: int64\n43\n\n\n"
     ]
    },
    {
     "data": {
      "text/plain": [
       "[None]"
      ]
     },
     "execution_count": 74,
     "metadata": {},
     "output_type": "execute_result"
    }
   ],
   "source": [
    "\"\"\"\n",
    "Frequency of error messages and stack traces\n",
    "\"\"\"\n",
    "\n",
    "from crash_analysis import filter_dataframe\n",
    "\n",
    "\n",
    "def get_value_from_hist(n, field='Message'):\n",
    "    field_hist = df[field].value_counts()\n",
    "    assert n < len(field_hist)\n",
    "    return field_hist.keys()[n], field_hist.values[n]\n",
    "\n",
    "\n",
    "def print_parings(n, field1='Message', groupings=['AppName', 'InstallType', 'OperatingSystem'], print_output=True):\n",
    "    top_key, count = get_value_from_hist(n, field1)\n",
    "    df_filtered = filter_dataframe(df, **{field1: top_key})\n",
    "    df_filt = df_filtered.copy()\n",
    "    if type(groupings) is type(list()):\n",
    "        field2_hist = df_filtered.groupby(groupings)['CustNum'].nunique()\n",
    "    else:\n",
    "        field2_hist = df_filtered[groupings].value_counts()\n",
    "\n",
    "    if print_output:\n",
    "        print(\"Query {0} \\t count: {1} \\t {2}: {3}\".format(n+1, count, field1, top_key.encode('ascii', 'ignore')))\n",
    "        print(field2_hist)\n",
    "        print(sum(field2_hist))\n",
    "        print '\\n'\n",
    "    \n",
    "# \n",
    "# pd.set_option('display.max_rows', 5000)\n",
    "# pd.set_option('display.height', 5000)\n",
    "# [print_parings(n, groupings='ProblemDescription') for n in range(5)]\n",
    "# print_parings(0, groupings='CustNum')\n",
    "# [print_parings(n, field1='ExceptionAddress') for n in [0]]\n",
    "# [print_parings(n, field1='ExceptionAddress', groupings='ProblemDescription') for n in [0]]\n",
    "\n",
    "[print_parings(n, field1='ExceptionAddress', groupings=['CrashGUID', 'ProblemDescription']) for n in range(1)]\n",
    "\n",
    "# file_counts_df = filter_dataframe(df, ExceptionAddress='0x100427a3')\n",
    "\n",
    "# file_counts_df = filtered_df.apply(lambda x: pd.to_numeric(x, errors='coerce'))\n",
    "# file_counts_df.hist(bins=50)\n",
    "# # file_counts_df = pd.to_numeric(file_counts_df, errors='ignore')\n",
    "# # file_counts_df.mean()\n",
    "# print(file_counts_df.min(), file_counts_df.max())\n",
    "# df[df['CustNum'] == '0614456913']"
   ]
  },
  {
   "cell_type": "code",
   "execution_count": 79,
   "metadata": {},
   "outputs": [
    {
     "name": "stdout",
     "output_type": "stream",
     "text": [
      "35\n"
     ]
    }
   ],
   "source": [
    "\"\"\" Customer Descriptions \"\"\"\n",
    "\n",
    "from crash_analysis import remove_empty\n",
    "# print(one_cust.head())\n",
    "pd.set_option('display.max_colwidth', 250)\n",
    "print(sum(remove_empty(df['ProblemDescription']).value_counts()))"
   ]
  },
  {
   "cell_type": "code",
   "execution_count": 80,
   "metadata": {},
   "outputs": [
    {
     "name": "stdout",
     "output_type": "stream",
     "text": [
      "Message by Keyterm\nkeyterm: program\nMethod not found: 'Void Intuit.Application.ProSeries.OptionSetupWizardAPI.DataModels.AdditionalInfo..ctor(System.String, System.String, System.String, System.String, System.String, System.String, System.String, System.String, System.String, System.String, System.String, System.String)'.    2\nMethod not found: 'Int32 System.Runtime.InteropServices.Marshal.SizeOf(!!0)'.                                                                                                                                                                                                                      1\nExternal component has thrown an exception.                                                                                                                                                                                                                                                        1\nName: Message, dtype: int64\n\nkeyterm: open\nExternal component has thrown an exception.                                                                                                                                                                                                                                                        4\nMethod not found: 'Void Intuit.Application.ProSeries.OptionSetupWizardAPI.DataModels.AdditionalInfo..ctor(System.String, System.String, System.String, System.String, System.String, System.String, System.String, System.String, System.String, System.String, System.String, System.String)'.    3\nAccess to the path 'e:\\$RECYCLE.BIN\\S-1-5-21-1734283657-823011882-2764790919-1001' is denied.                                                                                                                                                                                                      2\nName: Message, dtype: int64\n\nkeyterm: print\nExternal component has thrown an exception.    1\nName: Message, dtype: int64\n\nkeyterm: client\nSeries([], Name: Message, dtype: int64)\n\nkeyterm: input\nSeries([], Name: Message, dtype: int64)\n\nkeyterm: tri\nMethod not found: 'Void Intuit.Application.ProSeries.OptionSetupWizardAPI.DataModels.AdditionalInfo..ctor(System.String, System.String, System.String, System.String, System.String, System.String, System.String, System.String, System.String, System.String, System.String, System.String)'.    2\nExternal component has thrown an exception.                                                                                                                                                                                                                                                        2\nName: Message, dtype: int64\n\nkeyterm: close\nSeries([], Name: Message, dtype: int64)\n\nkeyterm: return\nAccess to the path 'e:\\$RECYCLE.BIN\\S-1-5-21-1734283657-823011882-2764790919-1001' is denied.    1\nName: Message, dtype: int64\n\nkeyterm: data\nSeries([], Name: Message, dtype: int64)\n\nkeyterm: save\nSeries([], Name: Message, dtype: int64)\n\nkeyterm: complet\nSeries([], Name: Message, dtype: int64)\n\nkeyterm: file\nSeries([], Name: Message, dtype: int64)\n\nkeyterm: instal\nSeries([], Name: Message, dtype: int64)\n\nkeyterm: start\nMethod not found: 'Int32 System.Runtime.InteropServices.Marshal.SizeOf(!!0)'.    2\nExternal component has thrown an exception.                                      2\nName: Message, dtype: int64\n\nkeyterm: softwar\nExternal component has thrown an exception.    2\nName: Message, dtype: int64\n\nkeyterm: year\nSeries([], Name: Message, dtype: int64)\n\nkeyterm: network\nSeries([], Name: Message, dtype: int64)\n\nkeyterm: transfer\nSeries([], Name: Message, dtype: int64)\n\nkeyterm: updat\nSeries([], Name: Message, dtype: int64)\n\nkeyterm: stop\nSeries([], Name: Message, dtype: int64)\n\nkeyterm: work\nSeries([], Name: Message, dtype: int64)\n\nkeyterm: inform\nSeries([], Name: Message, dtype: int64)\n\nkeyterm: dont\nExternal component has thrown an exception.                                      3\nMethod not found: 'Int32 System.Runtime.InteropServices.Marshal.SizeOf(!!0)'.    1\nName: Message, dtype: int64\n\n\n"
     ]
    }
   ],
   "source": [
    "\"\"\"\n",
    "Associate by keyterm\n",
    "\"\"\"\n",
    "from crash_analysis.analysis import associate_by_keyterms\n",
    "\n",
    "associate_by_keyterms(df, 'ProblemDescription', 'Message', min_count=2)\n",
    "print"
   ]
  },
  {
   "cell_type": "code",
   "execution_count": null,
   "metadata": {},
   "outputs": [],
   "source": [
    ""
   ]
  }
 ],
 "metadata": {
  "kernelspec": {
   "display_name": "Python 2",
   "language": "python",
   "name": "python2"
  },
  "language_info": {
   "codemirror_mode": {
    "name": "ipython",
    "version": 2.0
   },
   "file_extension": ".py",
   "mimetype": "text/x-python",
   "name": "python",
   "nbconvert_exporter": "python",
   "pygments_lexer": "ipython2",
   "version": "2.7.6"
  }
 },
 "nbformat": 4,
 "nbformat_minor": 0
}