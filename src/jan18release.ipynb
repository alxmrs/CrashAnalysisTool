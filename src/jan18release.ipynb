{
 "cells": [
  {
   "cell_type": "markdown",
   "metadata": {
    "collapsed": true
   },
   "source": [
    "# Crash Report Jan 18, 2016\n",
    "\n",
    "Version: 2016070012"
   ]
  },
  {
   "cell_type": "code",
   "execution_count": 1,
   "metadata": {},
   "outputs": [],
   "source": [
    "\"\"\"\n",
    "General import statements\n",
    "\"\"\"\n",
    "import crash_analysis\n",
    "import pandas as pd\n",
    "from matplotlib import pyplot as plt \n",
    "%matplotlib inline"
   ]
  },
  {
   "cell_type": "code",
   "execution_count": 9,
   "metadata": {},
   "outputs": [],
   "source": [
    "\"\"\"\n",
    "Parse zipfiles into dataframe\n",
    "\"\"\"\n",
    "from crash_analysis.parser import extract_zipfiles, xmldocs_to_dataframe\n",
    "zipfile_location = 'C:\\\\CrashReports\\\\'\n",
    "\n",
    "extract_zipfiles(zipfile_location)\n",
    "df = xmldocs_to_dataframe(zipfile_location)\n",
    "\n",
    "df.drop_duplicates(inplace=True)"
   ]
  },
  {
   "cell_type": "code",
   "execution_count": 11,
   "metadata": {},
   "outputs": [],
   "source": [
    "\"\"\"\n",
    "Save/load dataframe to/from CSV\n",
    "\"\"\"\n",
    "from crash_analysis import read_csv\n",
    "\n",
    "new_data = True\n",
    "cache_location = 'src/data/2016070012_jan23_5pm.csv'\n",
    "\n",
    "if new_data:\n",
    "    df.to_csv(cache_location, encoding='utf-8')\n",
    "else:\n",
    "    df = read_csv(cache_location)"
   ]
  },
  {
   "cell_type": "code",
   "execution_count": 12,
   "metadata": {
    "collapsed": false
   },
   "outputs": [
    {
     "name": "stdout",
     "output_type": "stream",
     "text": [
      "['Unnamed: 0', 'ACCDT_Field', 'Active_ClientFileName', 'Active_Field', 'Active_Form', 'Active_FormsetID', 'Active_FormsetVersion', 'AppName', 'AppVersion', 'BasWin16.INI', 'Batch_ClientFileName', 'CrashGUID', 'CrashRpt', 'Current_Calcsection', 'CustNum', 'CustomProps', 'DataFileCount', 'ExceptionAddress', 'ExceptionCode', 'ExceptionModule', 'ExceptionModuleBase', 'ExceptionModuleVersion', 'ExceptionType', 'FileList', 'FormsPrinter', 'GUIResourceCount', 'GeoLocation', 'ImageName', 'InnerException', 'InstallType', 'InvParamExpression', 'InvParamFile', 'InvParamFunction', 'InvParamLine', 'Last_Calcsection', 'ManagedException', 'ManagedException.txt', 'MemoryUsageKbytes', 'Message', 'OSIs64Bit', 'OpenHandleCount', 'OperatingSystem', 'ProWin16.INI', 'ProblemDescription', 'Source', 'StackTrace', 'SystemTimeUTC', 'TimeStamp', 'WorkStationName', 'WorkStationType', 'crashdump.dmp', 'crashrpt.xml', 'empty']\n2016070012    672\nName: AppVersion, dtype: int64\n672\n"
     ]
    }
   ],
   "source": [
    "\"\"\"\n",
    "Get metadata about dataframe\n",
    "\"\"\"\n",
    "col_names = crash_analysis.get_columns(df)\n",
    "versions = df['AppVersion'].value_counts()\n",
    "num_crashes = len(df)\n",
    "\n",
    "print(col_names)\n",
    "print(versions)\n",
    "print(num_crashes)"
   ]
  },
  {
   "cell_type": "code",
   "execution_count": 13,
   "metadata": {},
   "outputs": [
    {
     "name": "stdout",
     "output_type": "stream",
     "text": [
      "total words: 723\ntri        \t:   34 \t [['trying'], ['trying'], ['try'], ['trying'], ['tried'], ['trying']]\nprogram    \t:   33 \t [['program'], ['program'], ['program'], ['program'], ['program'], ['program']]\nfile       \t:   32 \t [['file'], ['file'], ['filing'], ['file'], ['file'], ['filing']]\nopen       \t:   28 \t [['opening'], ['opening'], ['opened'], ['opening'], ['open'], ['open']]\nsave       \t:   24 \t [['saving'], ['saving'], ['save'], ['save'], ['saving'], ['save']]\nclient     \t:   24 \t [['client'], ['clients'], ['client'], ['client'], ['client'], ['client']]\nprint      \t:   22 \t [['printing'], ['printing'], ['printing'], ['print'], ['print'], ['printing']]\nreturn     \t:   20 \t [['return'], ['returns'], ['returns'], ['returns'], ['return'], ['return']]\ncrash      \t:   14 \t [['crashing'], ['crashes'], ['crashes'], ['crashing'], ['crashes'], ['crashes']]\nyear       \t:   14 \t [['year'], ['years'], ['year'], ['years'], ['year'], ['year']]\nsoftwar    \t:   12 \t [['software'], ['software'], ['software'], ['software'], ['software'], ['software']]\nwork       \t:   11 \t [['working'], ['working'], ['work'], ['working'], ['working'], ['work']]\nproseri    \t:   10 \t [['proseries'], ['proseries'], ['proseries'], ['proseries'], ['proseries'], ['proseries']]\ntransfer   \t:   10 \t [['transferring'], ['transferring'], ['transferring'], ['transferring'], ['transferring'], ['transferring']]\nlast       \t:    9 \t [['last'], ['last'], ['last'], ['last'], ['last'], ['last']]\ntime       \t:    9 \t [['time'], ['time'], ['time'], ['time'], ['time'], ['time']]\ntax        \t:    8 \t [['tax'], ['tax'], ['tax'], ['taxes'], ['tax'], ['tax']]\nupdat      \t:    8 \t [['updating'], ['updating'], ['updating'], ['updating'], ['updates'], ['updates']]\ndata       \t:    8 \t [['data'], ['data'], ['data'], ['data'], ['data'], ['data']]\nstop       \t:    7 \t [['stop'], ['stopped'], ['stop'], ['stopped'], ['stops'], ['stopped']]\nclose      \t:    7 \t [['closing'], ['closing'], ['closes'], ['closed'], ['closed'], ['closed']]\ndelet      \t:    7 \t [['deleting'], ['deleting'], ['deleting'], ['deleting'], ['deleting'], ['deleting']]\nstart      \t:    7 \t [['starting'], ['starting'], ['start'], ['start'], ['starting'], ['starting']]\nclick      \t:    6 \t [['click'], ['click'], ['clicked'], ['click'], ['click'], ['clicked']]\nerror      \t:    6 \t [['error'], ['error'], ['error'], ['error'], ['error'], ['error']]\ninform     \t:    6 \t [['information'], ['information'], ['information'], ['information'], ['information'], ['information']]\ne          \t:    5 \t [['e'], ['e'], ['e'], ['e'], ['e']]\nsend       \t:    5 \t [['sending'], ['sending'], ['send'], ['send'], ['sending']]\ninput      \t:    5 \t [['inputting'], ['inputting'], ['inputting'], ['inputting'], ['inputing']]\nsign       \t:    5 \t [['signing'], ['sign'], ['sign'], ['sign'], ['signing']]\n\n"
     ]
    }
   ],
   "source": [
    "\"\"\"\n",
    "Customer Description Analysis\n",
    "\"\"\"\n",
    "from crash_analysis.analysis import remove_empty, get_column, stem_frequency\n",
    "customer_desc = remove_empty(get_column(df, 'ProblemDescription'))\n",
    "\n",
    "stem_frequency(customer_desc)\n",
    "print"
   ]
  },
  {
   "cell_type": "code",
   "execution_count": 67,
   "metadata": {
    "collapsed": false
   },
   "outputs": [
    {
     "name": "stdout",
     "output_type": "stream",
     "text": [
      "height has been deprecated.\n\nQuery 1 \t count: 74 \t StackTrace:    at _WinMainCRTStartup()\nAppName                         InstallType  OperatingSystem                             \nProSeries - 2016                Network      Windows 10 Home Build 14393                     4\n                                             Windows 10 Pro Build 14393                      4\n                                             Windows 7 Home Premium Build 7601               1\n                                             Windows 7 Professional Build 7601               4\n                                             Windows 8 Pro Build 9200                        1\n                                             Windows 8.1 Pro Build 9600                      1\n                                             Windows Server 2008 R2 Standard Build 7601      2\n                                             Windows Server 2012 R2 Datacenter Build 9600    2\n                                             Windows Server 2012 R2 Essentials Build 9600    1\n                                             Windows Server 2012 R2 Standard Build 9600      2\n                                             Windows Server 2012 Standard Build 9200         1\n                                             Windows Server 2016 Essentials Build 14393      2\n                                Standalone   Windows 10 Home Build 14393                     8\n                                             Windows 10 Pro Build 14393                      5\n                                             Windows 7 Home Premium Build 7601               3\n                                             Windows 7 Professional Build 7601               1\n                                             Windows 8.1 Build 9600                          2\n                                             Windows Server 2012 R2 Essentials Build 9600    1\nProSeries Basic Edition - 2016  Standalone   Windows 10 Home Build 14393                     5\n                                             Windows 7 Home Premium Build 7601               2\n                                             Windows 7 Professional Build 7601               1\nName: CustNum, dtype: int64\n53\n\n\n"
     ]
    },
    {
     "data": {
      "text/plain": [
       "[None]"
      ]
     },
     "execution_count": 67,
     "metadata": {},
     "output_type": "execute_result"
    }
   ],
   "source": [
    "\"\"\"\n",
    "Frequency of error messages and stack traces\n",
    "\"\"\"\n",
    "\n",
    "from crash_analysis import filter_dataframe\n",
    "\n",
    "\n",
    "def get_value_from_hist(n, field='Message'):\n",
    "    field_hist = df[field].value_counts()\n",
    "    assert n < len(field_hist)\n",
    "    return field_hist.keys()[n], field_hist.values[n]\n",
    "\n",
    "\n",
    "def print_parings(n, field1='Message', groupings=['AppName', 'InstallType', 'OperatingSystem']):\n",
    "    top_key, count = get_value_from_hist(n, field1)\n",
    "    df_filtered = filter_dataframe(df, **{field1: top_key})\n",
    "    if type(groupings) is type(list()):\n",
    "        field2_hist = df_filtered.groupby(groupings)['CustNum'].nunique()\n",
    "    else:\n",
    "        field2_hist = df_filtered[groupings].value_counts()\n",
    "\n",
    "    print(\"Query {0} \\t count: {1} \\t {2}: {3}\".format(n+1, count, field1, top_key))\n",
    "    print(field2_hist)\n",
    "    print(sum(field2_hist))\n",
    "    print '\\n'\n",
    "\n",
    "pd.set_option('display.max_rows', 5000)\n",
    "pd.set_option('display.height', 5000)\n",
    "# [print_parings(n, groupings='ProblemDescription') for n in range(5)]\n",
    "# print_parings(0, groupings='CustNum')\n",
    "# [print_parings(n, field1='ExceptionModuleBase', groupings='ExceptionAddress') for n in range(1,7)]\n",
    "[print_parings(n, field1='StackTrace') for n in [0]]\n",
    "\n",
    "# df[df['CustNum'] == '0000999480']['CrashGUID']"
   ]
  },
  {
   "cell_type": "code",
   "execution_count": 79,
   "metadata": {},
   "outputs": [
    {
     "name": "stdout",
     "output_type": "stream",
     "text": [
      "35\n"
     ]
    }
   ],
   "source": [
    "\"\"\" Customer Descriptions \"\"\"\n",
    "\n",
    "from crash_analysis import remove_empty\n",
    "# print(one_cust.head())\n",
    "pd.set_option('display.max_colwidth', 250)\n",
    "print(sum(remove_empty(df['ProblemDescription']).value_counts()))"
   ]
  },
  {
   "cell_type": "code",
   "execution_count": 80,
   "metadata": {},
   "outputs": [
    {
     "name": "stdout",
     "output_type": "stream",
     "text": [
      "Message by Keyterm\nkeyterm: program\nMethod not found: 'Void Intuit.Application.ProSeries.OptionSetupWizardAPI.DataModels.AdditionalInfo..ctor(System.String, System.String, System.String, System.String, System.String, System.String, System.String, System.String, System.String, System.String, System.String, System.String)'.    2\nMethod not found: 'Int32 System.Runtime.InteropServices.Marshal.SizeOf(!!0)'.                                                                                                                                                                                                                      1\nExternal component has thrown an exception.                                                                                                                                                                                                                                                        1\nName: Message, dtype: int64\n\nkeyterm: open\nExternal component has thrown an exception.                                                                                                                                                                                                                                                        4\nMethod not found: 'Void Intuit.Application.ProSeries.OptionSetupWizardAPI.DataModels.AdditionalInfo..ctor(System.String, System.String, System.String, System.String, System.String, System.String, System.String, System.String, System.String, System.String, System.String, System.String)'.    3\nAccess to the path 'e:\\$RECYCLE.BIN\\S-1-5-21-1734283657-823011882-2764790919-1001' is denied.                                                                                                                                                                                                      2\nName: Message, dtype: int64\n\nkeyterm: print\nExternal component has thrown an exception.    1\nName: Message, dtype: int64\n\nkeyterm: client\nSeries([], Name: Message, dtype: int64)\n\nkeyterm: input\nSeries([], Name: Message, dtype: int64)\n\nkeyterm: tri\nMethod not found: 'Void Intuit.Application.ProSeries.OptionSetupWizardAPI.DataModels.AdditionalInfo..ctor(System.String, System.String, System.String, System.String, System.String, System.String, System.String, System.String, System.String, System.String, System.String, System.String)'.    2\nExternal component has thrown an exception.                                                                                                                                                                                                                                                        2\nName: Message, dtype: int64\n\nkeyterm: close\nSeries([], Name: Message, dtype: int64)\n\nkeyterm: return\nAccess to the path 'e:\\$RECYCLE.BIN\\S-1-5-21-1734283657-823011882-2764790919-1001' is denied.    1\nName: Message, dtype: int64\n\nkeyterm: data\nSeries([], Name: Message, dtype: int64)\n\nkeyterm: save\nSeries([], Name: Message, dtype: int64)\n\nkeyterm: complet\nSeries([], Name: Message, dtype: int64)\n\nkeyterm: file\nSeries([], Name: Message, dtype: int64)\n\nkeyterm: instal\nSeries([], Name: Message, dtype: int64)\n\nkeyterm: start\nMethod not found: 'Int32 System.Runtime.InteropServices.Marshal.SizeOf(!!0)'.    2\nExternal component has thrown an exception.                                      2\nName: Message, dtype: int64\n\nkeyterm: softwar\nExternal component has thrown an exception.    2\nName: Message, dtype: int64\n\nkeyterm: year\nSeries([], Name: Message, dtype: int64)\n\nkeyterm: network\nSeries([], Name: Message, dtype: int64)\n\nkeyterm: transfer\nSeries([], Name: Message, dtype: int64)\n\nkeyterm: updat\nSeries([], Name: Message, dtype: int64)\n\nkeyterm: stop\nSeries([], Name: Message, dtype: int64)\n\nkeyterm: work\nSeries([], Name: Message, dtype: int64)\n\nkeyterm: inform\nSeries([], Name: Message, dtype: int64)\n\nkeyterm: dont\nExternal component has thrown an exception.                                      3\nMethod not found: 'Int32 System.Runtime.InteropServices.Marshal.SizeOf(!!0)'.    1\nName: Message, dtype: int64\n\n\n"
     ]
    }
   ],
   "source": [
    "\"\"\"\n",
    "Associate by keyterm\n",
    "\"\"\"\n",
    "from crash_analysis.analysis import associate_by_keyterms\n",
    "\n",
    "associate_by_keyterms(df, 'ProblemDescription', 'Message', min_count=2)\n",
    "print"
   ]
  },
  {
   "cell_type": "code",
   "execution_count": null,
   "metadata": {},
   "outputs": [],
   "source": [
    ""
   ]
  }
 ],
 "metadata": {
  "kernelspec": {
   "display_name": "Python 2",
   "language": "python",
   "name": "python2"
  },
  "language_info": {
   "codemirror_mode": {
    "name": "ipython",
    "version": 2.0
   },
   "file_extension": ".py",
   "mimetype": "text/x-python",
   "name": "python",
   "nbconvert_exporter": "python",
   "pygments_lexer": "ipython2",
   "version": "2.7.6"
  }
 },
 "nbformat": 4,
 "nbformat_minor": 0
}