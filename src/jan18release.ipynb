{
 "cells": [
  {
   "cell_type": "markdown",
   "metadata": {
    "collapsed": true
   },
   "source": [
    "# Crash Report Jan 18, 2016\n",
    "\n",
    "Version: 2016070012"
   ]
  },
  {
   "cell_type": "code",
   "execution_count": 1,
   "metadata": {},
   "outputs": [],
   "source": [
    "\"\"\"\n",
    "General import statements\n",
    "\"\"\"\n",
    "import crash_analysis\n",
    "import pandas as pd\n",
    "from matplotlib import pyplot as plt \n",
    "%matplotlib inline"
   ]
  },
  {
   "cell_type": "code",
   "execution_count": 18,
   "metadata": {},
   "outputs": [],
   "source": [
    "\"\"\"\n",
    "Parse zipfiles into dataframe\n",
    "\"\"\"\n",
    "from crash_analysis.parser import extract_zipfiles, xmldocs_to_dataframe\n",
    "zipfile_location = 'C:\\\\CrashReports\\\\'\n",
    "\n",
    "extract_zipfiles(zipfile_location)\n",
    "df = xmldocs_to_dataframe(zipfile_location)\n",
    "\n",
    "df.drop_duplicates(inplace=True)"
   ]
  },
  {
   "cell_type": "code",
   "execution_count": 11,
   "metadata": {},
   "outputs": [],
   "source": [
    "\"\"\"\n",
    "Save/load dataframe to/from CSV\n",
    "\"\"\"\n",
    "from crash_analysis import read_csv\n",
    "\n",
    "new_data = False\n",
    "cache_location = 'src/data/2016070012_jan24_6pm.csv'\n",
    "\n",
    "if new_data:\n",
    "    df.to_csv(cache_location, encoding='utf-8')\n",
    "else:\n",
    "    df = read_csv(cache_location)"
   ]
  },
  {
   "cell_type": "code",
   "execution_count": 12,
   "metadata": {
    "collapsed": false
   },
   "outputs": [
    {
     "name": "stdout",
     "output_type": "stream",
     "text": [
      "['Unnamed: 0', 'ACCDT_Field', 'Active_ClientFileName', 'Active_Field', 'Active_Form', 'Active_FormsetID', 'Active_FormsetVersion', 'AppName', 'AppVersion', 'BasWin16.INI', 'Batch_ClientFileName', 'CrashGUID', 'CrashRpt', 'Current_Calcsection', 'CustNum', 'CustomProps', 'DataFileCount', 'ExceptionAddress', 'ExceptionCode', 'ExceptionModule', 'ExceptionModuleBase', 'ExceptionModuleVersion', 'ExceptionType', 'FileList', 'FormsPrinter', 'GUIResourceCount', 'GeoLocation', 'ImageName', 'InnerException', 'InstallType', 'InvParamExpression', 'InvParamFile', 'InvParamFunction', 'InvParamLine', 'Last_Calcsection', 'ManagedException', 'ManagedException.txt', 'MemoryUsageKbytes', 'Message', 'OSIs64Bit', 'OpenHandleCount', 'OperatingSystem', 'ProWin16.INI', 'ProblemDescription', 'Source', 'StackTrace', 'SystemTimeUTC', 'TimeStamp', 'WorkStationName', 'WorkStationType', 'crashdump.dmp', 'crashrpt.xml', 'empty']\n2016070012    1284\n201606008      857\nName: AppVersion, dtype: int64\n2141\n"
     ]
    }
   ],
   "source": [
    "\"\"\"\n",
    "Get metadata about dataframe\n",
    "\"\"\"\n",
    "col_names = crash_analysis.get_columns(df)\n",
    "versions = df['AppVersion'].value_counts()\n",
    "num_crashes = len(df)\n",
    "# old num crashes: 672\n",
    "# Jan 23: 899\n",
    "# Jan 24: 1157\n",
    "# Jan 24 6pm: 1284\n",
    "\n",
    "\n",
    "print(col_names)\n",
    "print(versions)\n",
    "print(num_crashes)"
   ]
  },
  {
   "cell_type": "code",
   "execution_count": 13,
   "metadata": {},
   "outputs": [
    {
     "data": {
      "text/plain": [
       "1284"
      ]
     },
     "execution_count": 13,
     "metadata": {},
     "output_type": "execute_result"
    }
   ],
   "source": [
    "from crash_analysis import filter_dataframe\n",
    "df = filter_dataframe(df, AppVersion=2016070012)\n",
    "len(df)"
   ]
  },
  {
   "cell_type": "code",
   "execution_count": 14,
   "metadata": {},
   "outputs": [
    {
     "name": "stdout",
     "output_type": "stream",
     "text": [
      "total words: 1418\ntri        \t:   70 \t [['trying'], ['trying'], ['trying'], ['trying'], ['trying'], ['trying']]\nfile       \t:   69 \t [['file'], ['file'], ['file'], ['file'], ['file'], ['file']]\nreturn     \t:   59 \t [['return'], ['return'], ['return'], ['return'], ['return'], ['return']]\nprogram    \t:   48 \t [['program'], ['program'], ['program'], ['program'], ['program'], ['program']]\nsave       \t:   47 \t [['save'], ['saving'], ['saving'], ['saving'], ['saving'], ['save']]\nopen       \t:   45 \t [['opening'], ['opening'], ['opening'], ['opens'], ['opening'], ['opening']]\nclient     \t:   45 \t [['client'], ['client'], ['clients'], ['client'], ['client'], ['clients']]\nprint      \t:   41 \t [['print'], ['print'], ['printing'], ['printing'], ['print'], ['printing']]\ncrash      \t:   30 \t [['crashes'], ['crashes'], ['crashes'], ['crashed'], ['crashed'], ['crashing']]\ntax        \t:   25 \t [['tax'], ['taxes'], ['tax'], ['tax'], ['tax'], ['tax']]\nproseri    \t:   25 \t [['proseries'], ['proseries'], ['proseries'], ['proseries'], ['proseries'], ['proseries']]\nclose      \t:   24 \t [['closed'], ['closed'], ['closing'], ['closing'], ['closed'], ['closes']]\nsoftwar    \t:   22 \t [['software'], ['software'], ['software'], ['software'], ['software'], ['software']]\ntransfer   \t:   22 \t [['transfer'], ['transferring'], ['transferring'], ['transfer'], ['transfer'], ['transferring']]\nyear       \t:   19 \t [['year'], ['years'], ['year'], ['year'], ['years'], ['year']]\nwork       \t:   18 \t [['working'], ['working'], ['working'], ['working'], ['working'], ['working']]\ne          \t:   16 \t [['e'], ['e'], ['e'], ['e'], ['e'], ['e']]\nstop       \t:   15 \t [['stopped'], ['stopped'], ['stopping'], ['stop'], ['stopped'], ['stopped']]\nsign       \t:   14 \t [['sign'], ['signing'], ['sign'], ['sign'], ['signing'], ['sign']]\ntime       \t:   14 \t [['time'], ['time'], ['time'], ['time'], ['time'], ['time']]\ndelet      \t:   13 \t [['deleting'], ['deleting'], ['deleting'], ['delete'], ['deleted'], ['deleted']]\nupdat      \t:   13 \t [['updating'], ['updating'], ['updating'], ['updating'], ['updates'], ['updating']]\ndata       \t:   11 \t [['data'], ['data'], ['data'], ['data'], ['data'], ['data']]\nerror      \t:   11 \t [['error'], ['error'], ['error'], ['error'], ['error'], ['error']]\n2016       \t:   10 \t [['2016'], ['2016'], ['2016'], ['2016'], ['2016'], ['2016']]\nefil       \t:   10 \t [['efile'], ['efile'], ['efiling'], ['efile'], ['efile'], ['efile']]\nlast       \t:   10 \t [['last'], ['last'], ['last'], ['last'], ['last'], ['last']]\nclick      \t:    9 \t [['click'], ['click'], ['click'], ['clicked'], ['click'], ['click']]\ninform     \t:    9 \t [['information'], ['information'], ['information'], ['information'], ['information'], ['information']]\nstart      \t:    9 \t [['starting'], ['starting'], ['starting'], ['start'], ['start'], ['starting']]\n\n"
     ]
    }
   ],
   "source": [
    "\"\"\"\n",
    "Customer Description Analysis\n",
    "\"\"\"\n",
    "from crash_analysis.analysis import remove_empty, get_column, stem_frequency\n",
    "customer_desc = remove_empty(get_column(df, 'ProblemDescription'))\n",
    "\n",
    "stem_frequency(customer_desc)\n",
    "\n",
    "print"
   ]
  },
  {
   "cell_type": "code",
   "execution_count": 27,
   "metadata": {},
   "outputs": [
    {
     "name": "stdout",
     "output_type": "stream",
     "text": [
      "height has been deprecated.\n\nQuery 1 \t count: 44 \t ExceptionAddress: 0x100427a3\nCustNum     ProblemDescription                                                                                                                                                                                                                  \n0000103064  Nothing                                                                                                                                                                                                                                 1\n0000158972  deleting client file and program crashed                                                                                                                                                                                                1\n0000619700  deleting non-active clients                                                                                                                                                                                                             1\n0001817949  software crashed when i was deleting a file                                                                                                                                                                                             1\n0003523776  del clients                                                                                                                                                                                                                             1\n            deleting client                                                                                                                                                                                                                         1\n0008581308  deleting a record from homebase                                                                                                                                                                                                         1\n0468013750  wrong file name                                                                                                                                                                                                                         1\n0478627392  deleted a client file from 2016 software, because i made changes to 2015 software and wanted to transfer the client info as it was corrected.  error occurred when i was attempting to \"re-transfer\" the file after i had deleted it    1\n0649705050  tyring to delete practice problems and it crashed                                                                                                                                                                                       1\n0802665405  deleting a client files                                                                                                                                                                                                                 1\n7514131052  Delite a file                                                                                                                                                                                                                           1\n7711225458  system crashed                                                                                                                                                                                                                          1\nName: CustNum, dtype: int64\n13\n\n\n"
     ]
    },
    {
     "data": {
      "text/plain": [
       "[None]"
      ]
     },
     "execution_count": 27,
     "metadata": {},
     "output_type": "execute_result"
    }
   ],
   "source": [
    "\"\"\"\n",
    "Frequency of error messages and stack traces\n",
    "\"\"\"\n",
    "\n",
    "from crash_analysis import filter_dataframe\n",
    "\n",
    "\n",
    "def get_value_from_hist(n, field='Message'):\n",
    "    field_hist = df[field].value_counts()\n",
    "    assert n < len(field_hist)\n",
    "    return field_hist.keys()[n], field_hist.values[n]\n",
    "\n",
    "\n",
    "def print_parings(n, field1='Message', groupings=['AppName', 'InstallType', 'OperatingSystem']):\n",
    "    top_key, count = get_value_from_hist(n, field1)\n",
    "    df_filtered = filter_dataframe(df, **{field1: top_key})\n",
    "    if type(groupings) is type(list()):\n",
    "        field2_hist = df_filtered.groupby(groupings)['CustNum'].nunique()\n",
    "    else:\n",
    "        field2_hist = df_filtered[groupings].value_counts()\n",
    "\n",
    "    print(\"Query {0} \\t count: {1} \\t {2}: {3}\".format(n+1, count, field1, top_key))\n",
    "    print(field2_hist)\n",
    "    print(len(field2_hist))\n",
    "    print '\\n'\n",
    "# \n",
    "# pd.set_option('display.max_rows', 5000)\n",
    "pd.set_option('display.height', 5000)\n",
    "# [print_parings(n, groupings='ProblemDescription') for n in range(5)]\n",
    "# print_parings(0, groupings='CustNum')\n",
    "# [print_parings(n, field1='ExceptionAddress') for n in [0]]\n",
    "# [print_parings(n, field1='ExceptionAddress', groupings='ProblemDescription') for n in [0]]\n",
    "\n",
    "[print_parings(n, field1='ExceptionAddress', groupings=['CustNum', 'ProblemDescription']) for n in range(0,1)]\n",
    "\n",
    "# df[df['CustNum'] == '0614456913']"
   ]
  },
  {
   "cell_type": "code",
   "execution_count": 79,
   "metadata": {},
   "outputs": [
    {
     "name": "stdout",
     "output_type": "stream",
     "text": [
      "35\n"
     ]
    }
   ],
   "source": [
    "\"\"\" Customer Descriptions \"\"\"\n",
    "\n",
    "from crash_analysis import remove_empty\n",
    "# print(one_cust.head())\n",
    "pd.set_option('display.max_colwidth', 250)\n",
    "print(sum(remove_empty(df['ProblemDescription']).value_counts()))"
   ]
  },
  {
   "cell_type": "code",
   "execution_count": 80,
   "metadata": {},
   "outputs": [
    {
     "name": "stdout",
     "output_type": "stream",
     "text": [
      "Message by Keyterm\nkeyterm: program\nMethod not found: 'Void Intuit.Application.ProSeries.OptionSetupWizardAPI.DataModels.AdditionalInfo..ctor(System.String, System.String, System.String, System.String, System.String, System.String, System.String, System.String, System.String, System.String, System.String, System.String)'.    2\nMethod not found: 'Int32 System.Runtime.InteropServices.Marshal.SizeOf(!!0)'.                                                                                                                                                                                                                      1\nExternal component has thrown an exception.                                                                                                                                                                                                                                                        1\nName: Message, dtype: int64\n\nkeyterm: open\nExternal component has thrown an exception.                                                                                                                                                                                                                                                        4\nMethod not found: 'Void Intuit.Application.ProSeries.OptionSetupWizardAPI.DataModels.AdditionalInfo..ctor(System.String, System.String, System.String, System.String, System.String, System.String, System.String, System.String, System.String, System.String, System.String, System.String)'.    3\nAccess to the path 'e:\\$RECYCLE.BIN\\S-1-5-21-1734283657-823011882-2764790919-1001' is denied.                                                                                                                                                                                                      2\nName: Message, dtype: int64\n\nkeyterm: print\nExternal component has thrown an exception.    1\nName: Message, dtype: int64\n\nkeyterm: client\nSeries([], Name: Message, dtype: int64)\n\nkeyterm: input\nSeries([], Name: Message, dtype: int64)\n\nkeyterm: tri\nMethod not found: 'Void Intuit.Application.ProSeries.OptionSetupWizardAPI.DataModels.AdditionalInfo..ctor(System.String, System.String, System.String, System.String, System.String, System.String, System.String, System.String, System.String, System.String, System.String, System.String)'.    2\nExternal component has thrown an exception.                                                                                                                                                                                                                                                        2\nName: Message, dtype: int64\n\nkeyterm: close\nSeries([], Name: Message, dtype: int64)\n\nkeyterm: return\nAccess to the path 'e:\\$RECYCLE.BIN\\S-1-5-21-1734283657-823011882-2764790919-1001' is denied.    1\nName: Message, dtype: int64\n\nkeyterm: data\nSeries([], Name: Message, dtype: int64)\n\nkeyterm: save\nSeries([], Name: Message, dtype: int64)\n\nkeyterm: complet\nSeries([], Name: Message, dtype: int64)\n\nkeyterm: file\nSeries([], Name: Message, dtype: int64)\n\nkeyterm: instal\nSeries([], Name: Message, dtype: int64)\n\nkeyterm: start\nMethod not found: 'Int32 System.Runtime.InteropServices.Marshal.SizeOf(!!0)'.    2\nExternal component has thrown an exception.                                      2\nName: Message, dtype: int64\n\nkeyterm: softwar\nExternal component has thrown an exception.    2\nName: Message, dtype: int64\n\nkeyterm: year\nSeries([], Name: Message, dtype: int64)\n\nkeyterm: network\nSeries([], Name: Message, dtype: int64)\n\nkeyterm: transfer\nSeries([], Name: Message, dtype: int64)\n\nkeyterm: updat\nSeries([], Name: Message, dtype: int64)\n\nkeyterm: stop\nSeries([], Name: Message, dtype: int64)\n\nkeyterm: work\nSeries([], Name: Message, dtype: int64)\n\nkeyterm: inform\nSeries([], Name: Message, dtype: int64)\n\nkeyterm: dont\nExternal component has thrown an exception.                                      3\nMethod not found: 'Int32 System.Runtime.InteropServices.Marshal.SizeOf(!!0)'.    1\nName: Message, dtype: int64\n\n\n"
     ]
    }
   ],
   "source": [
    "\"\"\"\n",
    "Associate by keyterm\n",
    "\"\"\"\n",
    "from crash_analysis.analysis import associate_by_keyterms\n",
    "\n",
    "associate_by_keyterms(df, 'ProblemDescription', 'Message', min_count=2)\n",
    "print"
   ]
  },
  {
   "cell_type": "code",
   "execution_count": null,
   "metadata": {},
   "outputs": [],
   "source": [
    ""
   ]
  }
 ],
 "metadata": {
  "kernelspec": {
   "display_name": "Python 2",
   "language": "python",
   "name": "python2"
  },
  "language_info": {
   "codemirror_mode": {
    "name": "ipython",
    "version": 2.0
   },
   "file_extension": ".py",
   "mimetype": "text/x-python",
   "name": "python",
   "nbconvert_exporter": "python",
   "pygments_lexer": "ipython2",
   "version": "2.7.6"
  }
 },
 "nbformat": 4,
 "nbformat_minor": 0
}