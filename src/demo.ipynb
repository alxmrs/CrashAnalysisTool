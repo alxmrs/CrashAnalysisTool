{
 "cells": [
  {
   "cell_type": "code",
   "execution_count": null,
   "metadata": {
    "collapsed": true
   },
   "outputs": [],
   "source": [
    "\"\"\" \n",
    "General import statements\n",
    "These can be used throughout the notebook\n",
    "\"\"\"\n",
    "\n",
    "import crash_analysis\n",
    "import pandas as pd\n",
    "from matplotlib import pyplot as plt \n",
    "%matplotlib inline"
   ]
  },
  {
   "cell_type": "code",
   "execution_count": null,
   "metadata": {
    "collapsed": true
   },
   "outputs": [],
   "source": [
    "\"\"\"\n",
    "IO\n",
    "How to write/read data to/from a file.\n",
    "How to extract a dataframe from a directory of zipfiles\n",
    "\"\"\"\n",
    "\n",
    "from crash_analysis import read_csv\n",
    "from crash_analysis.parser import extract_zipfiles, xmldocs_to_dataframe\n",
    "\n",
    "# If you are getting new data from zipfiles, set new_data to True. Otherwise, read from CSV\n",
    "new_data = False\n",
    "# location of a CSV file with cached data.\n",
    "cached_data = 'src/data/2016070012_jan24_6pm.csv'\n",
    "# location of zipflies, i.e. the raw crash reports. \n",
    "# Currently, an external tool is required to download all the crash reports from quickbase\n",
    "zipfile_path = 'C:\\\\CrashReports\\\\'\n",
    "\n",
    "if not new_data:\n",
    "    # How to read data from CSV\n",
    "    df = read_csv(cached_data)\n",
    "else:\n",
    "    # Get data from source XML files\n",
    "    extract_zipfiles(zipfile_path)  \n",
    "    df = xmldocs_to_dataframe(zipfile_path)  # maps contents of zipfiles to dataframe\n",
    "    df.to_csv(cached_data, encoding='utf-8')  # caches new data\n",
    "    \n",
    "\n",
    "# Make sure to remove duplicate data!\n",
    "df.drop_duplicates(inplace=True)"
   ]
  },
  {
   "cell_type": "code",
   "execution_count": null,
   "metadata": {
    "collapsed": true
   },
   "outputs": [],
   "source": [
    "\"\"\"\n",
    "Exploring the dataframe\n",
    "\"\"\"\n",
    "from crash_analysis import get_columns\n",
    "\n",
    "# Get the columns of the dataframe\n",
    "columns = get_columns(df)\n",
    "print(columns)\n",
    "\n",
    "# Get columns with native Pandas syntax\n",
    "columns2 = df.columns \n",
    "print(columns2)\n",
    "\n",
    "# Read the top few entries of the dataframe\n",
    "print(df.head())\n",
    "\n",
    "# Read the last few entries of the dataframe\n",
    "print(df.tail())"
   ]
  },
  {
   "cell_type": "code",
   "execution_count": null,
   "metadata": {
    "collapsed": true
   },
   "outputs": [],
   "source": [
    "\"\"\"\n",
    "Filtering the dataframe\n",
    "\n",
    "See http://pandas.pydata.org/pandas-docs/stable/10min.html#selection \n",
    "for more about indexing and selection.\n",
    "\"\"\"\n",
    "\n",
    "from crash_analysis import filter_dataframe, get_column\n",
    "\n",
    "# Before filtering\n",
    "print('Unfiltered number of crashes: ' + str(len(df)))\n",
    "\n",
    "# How to filter\n",
    "# filter_dataframe(df: DataFrame,  Key:Column_name=Value:Column_value)\n",
    "basic_only_df = filter_dataframe(df, AppName='ProSeries Basic Edition - 2016')\n",
    "\n",
    "# After filtering\n",
    "# Notice that there are fewer crashes in this dataframe!\n",
    "print('Filtered number of crashes: ' + str(len(basic_only_df)))\n",
    "\n",
    "# Filter multiple columns\n",
    "admin_network_df = filter_dataframe(df, InstallType='Network', WorkStationType='Admin')\n",
    "print('Number of Network Admins: ' + str(len(admin_network_df)))\n",
    "\n",
    "# Filter multiple values per column\n",
    "specific_os = filter_dataframe(df, OperatingSystem=['Windows 10 Home Build 14393', 'Windows 10 Pro Build 14393' ])\n",
    "print('Number of Windows 10 users: ' + str(len(specific_os)))\n",
    "\n",
    "# Get a specific column\n",
    "problem_descriptions_df = get_column(df, 'ProblemDescription')\n",
    "print('Problem description df columns: ', problem_descriptions_df.columns)\n",
    "\n",
    "# Native Pandas way to get a column\n",
    "problem_descriptions_df2 = df['ProblemDescription']\n",
    "print('Problem description df columns: ', problem_descriptions_df2.columns)\n",
    "\n",
    "# Native Pandas way to boolean index\n",
    "specific_cust_num = df[df['CustNum'] == '0614456913']\n",
    "print(specific_cust_num)"
   ]
  },
  {
   "cell_type": "code",
   "execution_count": 19,
   "metadata": {
    "collapsed": true
   },
   "outputs": [
    {
     "name": "stdout",
     "output_type": "stream",
     "text": [
      "95241                                                  NaN\n95305                        CONVERTIN RETURN FOR E-FILING\n95309              CONVERTING RETURN FOR ELECTRONIC FILING\n95312                                                  NaN\n95324                           down loading state updates\n95326                                      Initial Install\n95327                                           signing in\n95328                                                  NaN\n95329                                                  NaN\n95331                                                  NaN\n95332                                                  NaN\n95333                                  LOGIN TO MY ACCOUNT\n95334    Installing updates at the same time logging in...\n95335                                                  NaN\n95337       Trying to complete the 2016 Proseries download\n95338                              logging into my account\n95339                                                  NaN\n95340                                                  NaN\n95341                                                  NaN\n95342                                waiting for an upload\n95343                               installing the program\n95344                                     i do not know !!\n95346                                                  NaN\n95347                           downloading ProSeries 2016\n95348                                     I was signing in\n95349                                      Installing 2016\n95350                                                  NaN\n95352    trying to shut down Outlook for restart after ...\n95353                                                  NaN\n95354                 ProSeries - 2016 has stopped working\n                               ...                        \n97839                                            shut dowm\n97840                                 installing proseries\n97841                                  opening a form 1041\n97842    downloading ProSeries on 2nd computer connecte...\n97845                           downloading ProSeries 2016\n97847                                                  NaN\n97850                         just installing the software\n97851                       keeps closing down when i save\n97853                                 CLoses when hit save\n97854                         I don't know why it stopped.\n97855                                                  NaN\n97857                  I was installing Proseries for 2016\n97860    Proseries was starting up right for the first ...\n97862                       opeming partnership tax return\n97864                                                  NaN\n97866                                                  NaN\n97867                     Finishing up the initial install\n97868                                  setting up software\n97869                                    reseting password\n97871                                           opening it\n97872                                    installing update\n97875                                                  NaN\n97877                                                  NaN\n97878                                                  NaN\n97879                        setting up the online account\n97880                                                  NaN\n97883    ProSeries installed updates, then waited for P...\n97884                                                  NaN\n97887                                  Opening client file\n97888                                                  NaN\nName: Customer_Description, dtype: object\n95305              CONVERTIN RETURN FOR E-FILING\n95309    CONVERTING RETURN FOR ELECTRONIC FILING\n95324                 down loading state updates\n95326                            Initial Install\n95327                                 signing in\nName: Customer_Description, dtype: object\n"
     ]
    }
   ],
   "source": [
    "# Reading Text Data\n",
    "customer_desc_df = crash_analysis.get_column(current_version_df, 'Customer_Description')\n",
    "print(customer_desc_df)\n",
    "\n",
    "## Remove NaN values --> two options\n",
    "full_desc = crash_analysis.remove_empty(customer_desc_df)\n",
    "# full_desc = crash_analysis.fill_empty(customer_desc_df)\n",
    "print(full_desc.head())\n",
    "\n",
    "## Formatting Printed Output\n",
    "# import pandas as pd\n",
    "# pd.set_option('display.height', 5000)\n",
    "# pd.set_option('display.max_rows', 5000)\n",
    "# pd.set_option('display.max_colwidth', 250)"
   ]
  },
  {
   "cell_type": "code",
   "execution_count": 20,
   "metadata": {},
   "outputs": [
    {
     "data": {
      "text/plain": [
       "268690347    48\n26581991     16\n25336807     12\n8559591      12\n268707747    11\n25992167     11\n23501799     11\n16030695     10\n25730023     10\n19635175     10\n25861095     10\n8100839      10\n24222695     10\n23567335     10\n23239655      9\n7052263       9\n17865703      9\n23960551      9\n24681447      9\n6134759       9\nName: Error_Code, dtype: int64"
      ]
     },
     "execution_count": 20,
     "metadata": {},
     "output_type": "execute_result"
    }
   ],
   "source": [
    "# Gathering some simple statistics\n",
    "\n",
    "# crash_analysis.get_columns(current_version_df)\n",
    "## Find histograms of field\n",
    "\n",
    "current_version_df['Error_Code'].value_counts()[:20]"
   ]
  },
  {
   "cell_type": "code",
   "execution_count": 4,
   "metadata": {},
   "outputs": [
    {
     "name": "stdout",
     "output_type": "stream",
     "text": [
      "total words: 3176\ninstal     \t:  222 \t [['install'], ['installing'], ['installing'], ['installing'], ['install'], ['installing']]\n2016       \t:  170 \t [['2016'], ['2016'], ['2016'], ['2016'], ['2016'], ['2016']]\nproseri    \t:  121 \t [['proseries'], ['proseries'], ['proseries'], ['proseries'], ['proseries'], ['proseries']]\nprogram    \t:  110 \t [['program'], ['program'], ['program'], ['program'], ['program'], ['program']]\nopen       \t:  103 \t [['opening'], ['openning'], ['opening'], ['opening'], ['open'], ['open']]\nupdat      \t:   99 \t [['updates'], ['updates'], ['updating'], ['updating'], ['updates'], ['updates']]\ndownload   \t:   90 \t [['download'], ['downloading'], ['downloading'], ['downloading'], ['downloading'], ['downloading']]\nsign       \t:   87 \t [['signing'], ['signing'], ['signing'], ['sign'], ['signing'], ['signing']]\ntri        \t:   80 \t [['trying'], ['trying'], ['trying'], ['trying'], ['trying'], ['trying']]\nfile       \t:   78 \t [['filing'], ['filing'], ['file'], ['file'], ['file'], ['file']]\nclient     \t:   70 \t [['client'], ['client'], ['client'], ['client'], ['client'], ['client']]\nsoftwar    \t:   62 \t [['software'], ['software'], ['software'], ['software'], ['software'], ['software']]\npassword   \t:   49 \t [['password'], ['password'], ['password'], ['password'], ['password'], ['password']]\nenter      \t:   46 \t [['enter'], ['entered'], ['enter'], ['entering'], ['entering'], ['enter']]\nstop       \t:   38 \t [['stopped'], ['stopped'], ['stopped'], ['stop'], ['stopped'], ['stop']]\nlog        \t:   38 \t [['logging'], ['logging'], ['log'], ['log'], ['logging'], ['logging']]\nwork       \t:   37 \t [['working'], ['working'], ['work'], ['working'], ['working'], ['working']]\nbasic      \t:   37 \t [['basic'], ['basic'], ['basic'], ['basic'], ['basic'], ['basic']]\nnew        \t:   36 \t [['new'], ['new'], ['new'], ['new'], ['new'], ['new']]\ncrash      \t:   35 \t [['crashed'], ['crashing'], ['crashed'], ['crashing'], ['crashing'], ['crashes']]\nset        \t:   34 \t [['setting'], ['set'], ['setting'], ['setting'], ['set'], ['setting']]\naccount    \t:   32 \t [['account'], ['account'], ['account'], ['account'], ['account'], ['account']]\ntax        \t:   32 \t [['tax'], ['tax'], ['tax'], ['tax'], ['tax'], ['tax']]\nreturn     \t:   31 \t [['return'], ['return'], ['return'], ['return'], ['return'], ['return']]\nsave       \t:   28 \t [['saving'], ['save'], ['save'], ['save'], ['saving'], ['saving']]\ntime       \t:   26 \t [['time'], ['time'], ['time'], ['time'], ['time'], ['time']]\npro        \t:   24 \t [['pro'], ['pro'], ['pro'], ['pro'], ['pro'], ['pro']]\nerror      \t:   24 \t [['error'], ['error'], ['error'], ['error'], ['error'], ['errors']]\ntransfer   \t:   23 \t [['transferred'], ['transferred'], ['transferred'], ['transferring'], ['transferring'], ['transferring']]\ncode       \t:   22 \t [['code'], ['code'], ['code'], ['code'], ['code'], ['code']]\n\n"
     ]
    }
   ],
   "source": [
    "from crash_analysis import analysis\n",
    "from crash_analysis.preprocess import tokenize_stem_stop, tokenize\n",
    "\n",
    "analysis.stem_frequency(full_desc)\n",
    "print"
   ]
  },
  {
   "cell_type": "code",
   "execution_count": 43,
   "metadata": {
    "collapsed": false
   },
   "outputs": [],
   "source": [
    "# Groupings\n",
    "# print df_xml.columns\n",
    "# print df_xml.groupby(['WorkStationType', 'OSIs64Bit', 'OperatingSystem'])['CrashGUID'].count()\n",
    "# \n",
    "# # Group by keyterm\n",
    "# from crash_analysis import analysis\n",
    "# \n",
    "# analysis.associate_by_keyterms(df_xml, 'Message', 'StackTrace', print_output=True)\n",
    "# print"
   ]
  },
  {
   "cell_type": "code",
   "execution_count": 23,
   "metadata": {},
   "outputs": [
    {
     "data": {
      "text/plain": [
       "[(u'instal proseri 2016', 14),\n (u'instal 2016 proseri', 11),\n (u'open client file', 10),\n (u'instal proseri basic', 10),\n (u'2016 stop work', 9),\n (u'proseri basic 2016', 8),\n (u'instal pro seri', 6),\n (u'instal 2016 program', 6),\n (u'proseri basic edit', 6),\n (u'set onlin account', 5),\n (u'2016 proseri softwar', 5),\n (u'2016 proseri basic', 5),\n (u'proseri 2016 stop work', 5),\n (u'instal proseri basic edit', 5),\n (u'proseri 2016 stop', 5),\n (u'tri open partnership', 4),\n (u'download proseri 2016', 4),\n (u'proseri 2016 basic', 4),\n (u'sign first time', 4),\n (u'enter confirm code', 4)]"
      ]
     },
     "execution_count": 23,
     "metadata": {},
     "output_type": "execute_result"
    }
   ],
   "source": [
    "from crash_analysis import analysis\n",
    "\n",
    "from crash_analysis.preprocess import ngram, lower_and_tokenize, tokenize_stem_stop\n",
    "\n",
    "import re\n",
    "\n",
    "\n",
    "def word_trigram(text): return ngram(lower_and_tokenize(text), 5, skip=2)\n",
    "\n",
    "\n",
    "def word_trigram_stemmed(text): return ngram(tokenize_stem_stop(text), 10, skip=1)\n",
    "\n",
    "\n",
    "sorted_counts, total, vocab = analysis.stem_frequency(full_desc, _map=word_trigram_stemmed, print_output=False)\n",
    "\n",
    "filter(lambda tuple: len(re.split(r'\\W', tuple[0])) > 2, sorted_counts)[:20]"
   ]
  },
  {
   "cell_type": "markdown",
   "metadata": {},
   "source": [
    "[(u'instal 2016', 40),\n",
    " (u'instal proseri', 32),\n",
    " (u'proseri 2016', 31),\n",
    " (u'instal updat', 30),\n",
    " (u'stop work', 29),\n",
    " (u'proseri basic', 23),\n",
    " (u'instal program', 22),\n",
    " (u'open client', 22),\n",
    " (u'2016 proseri', 22),\n",
    " (u'tri open', 19),\n",
    " (u'2016 program', 19),\n",
    " (u'instal softwar', 18),\n",
    " (u'client file', 16),\n",
    " (u'download 2016', 15),\n",
    " (u'pro seri', 15),\n",
    " (u'first time', 14),\n",
    " (u'instal proseri 2016', 14),\n",
    " (u'open file', 13),\n",
    " (u'2016 softwar', 12),\n",
    " (u'enter password', 12)]\n",
    "\n",
    "\n",
    "[('trying to', 70),\n",
    " ('signing in', 39),\n",
    " ('a client', 28),\n",
    " ('proseries 2016', 28),\n",
    " ('the program', 27),\n",
    " ('installing 2016', 26),\n",
    " ('i was', 24),\n",
    " ('proseries basic', 23),\n",
    " ('setting up', 23),\n",
    " ('sign in', 23),\n",
    " ('in to', 23),\n",
    " ('installing updates', 22),\n",
    " ('installing the', 22),\n",
    " ('2016 proseries', 22),\n",
    " ('installing proseries', 22),\n",
    " ('to open', 21),\n",
    " ('logging in', 21),\n",
    " ('stopped working', 21),\n",
    " ('opening a', 21),\n",
    " ('a file', 20)]"
   ]
  },
  {
   "cell_type": "code",
   "execution_count": 23,
   "metadata": {},
   "outputs": [],
   "source": [
    "def char_ngram(text): return ngram(text, 20, skip=1, delim='')\n",
    "\n",
    "\n",
    "sorted_counts, total, vocab = analysis.stem_frequency(full_desc, _map=char_ngram, print_output=False)\n",
    "\n",
    "# filter(lambda tuple: len(tuple[0].split(' ')) > 2, sorted_counts)[:50]"
   ]
  },
  {
   "cell_type": "code",
   "execution_count": null,
   "metadata": {},
   "outputs": [],
   "source": [
    ""
   ]
  },
  {
   "cell_type": "code",
   "execution_count": 14,
   "metadata": {},
   "outputs": [],
   "source": [
    "# filter(lambda tuple: len(tuple[0].split(' ')) > 4, sorted_counts)[:50]"
   ]
  },
  {
   "cell_type": "code",
   "execution_count": null,
   "metadata": {},
   "outputs": [],
   "source": [
    "# Group by queries"
   ]
  }
 ],
 "metadata": {
  "kernelspec": {
   "display_name": "Python 2",
   "language": "python",
   "name": "python2"
  },
  "language_info": {
   "codemirror_mode": {
    "name": "ipython",
    "version": 2.0
   },
   "file_extension": ".py",
   "mimetype": "text/x-python",
   "name": "python",
   "nbconvert_exporter": "python",
   "pygments_lexer": "ipython2",
   "version": "2.7.6"
  }
 },
 "nbformat": 4,
 "nbformat_minor": 0
}