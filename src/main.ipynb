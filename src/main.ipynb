{
 "cells": [
  {
   "cell_type": "code",
   "execution_count": 1,
   "metadata": {
    "collapsed": false
   },
   "outputs": [],
   "source": [
    "# Global imports\n",
    "\n",
    "import pandas as pd"
   ]
  },
  {
   "cell_type": "markdown",
   "metadata": {},
   "source": [
    "# Downloading Crash Reports\n",
    "The following block uses the CrashReportParser (might be refactored) to download and process all the current crash reports. "
   ]
  },
  {
   "cell_type": "code",
   "execution_count": 2,
   "metadata": {},
   "outputs": [
    {
     "name": "stderr",
     "output_type": "stream",
     "text": [
      "C:\\Program Files\\Anaconda2\\envs\\crashanalyenv\\lib\\site-packages\\gensim\\utils.py:840: UserWarning: detected Windows; aliasing chunkize to chunkize_serial\n  warnings.warn(\"detected Windows; aliasing chunkize to chunkize_serial\")\nC:\\Program Files\\Anaconda2\\envs\\crashanalyenv\\lib\\site-packages\\gensim\\utils.py:1015: UserWarning: Pattern library is not installed, lemmatization won't be available.\n  warnings.warn(\"Pattern library is not installed, lemmatization won't be available.\")\n"
     ]
    }
   ],
   "source": [
    "from CrashAnalysis import CrashReportParser\n",
    "\n",
    "# constants\n",
    "\n",
    "crash_report_path = 'C:\\\\CrashReports\\\\'\n",
    "cached_dataframe_path = 'C:\\\\Dev\\\\CrashAnalysis\\\\src\\\\data\\\\xml_df.pkl'\n",
    "recompute = False\n",
    "\n",
    "if recompute:\n",
    "    # extract zipfiles\n",
    "    CrashReportParser.extract_zipfiles(crash_report_path)\n",
    "    \n",
    "    # Convert zipfiles to dataframe\n",
    "    df = CrashReportParser.xmldocs_to_dataframe(crash_report_path)\n",
    "    \n",
    "    # cache dataframe\n",
    "    df.to_pickle(cached_dataframe_path)\n",
    "else:\n",
    "    df = pd.read_pickle(cached_dataframe_path)"
   ]
  },
  {
   "cell_type": "code",
   "execution_count": 3,
   "metadata": {
    "collapsed": false
   },
   "outputs": [
    {
     "name": "stdout",
     "output_type": "stream",
     "text": [
      "Index([u'ACCDT_Field', u'Active_ClientFileName', u'Active_Field',\n       u'Active_Form', u'Active_FormsetID', u'Active_FormsetVersion',\n       u'AppName', u'AppVersion', u'BasWin16.INI', u'Batch_ClientFileName',\n       u'CrashGUID', u'CrashRpt', u'Current_Calcsection', u'CustNum',\n       u'CustomProps', u'DataFileCount', u'ExceptionAddress', u'ExceptionCode',\n       u'ExceptionModule', u'ExceptionModuleBase', u'ExceptionModuleVersion',\n       u'ExceptionType', u'FileList', u'FormsPrinter', u'GUIResourceCount',\n       u'GeoLocation', u'ImageName', u'InnerException', u'InstallType',\n       u'Last_Calcsection', u'ManagedException', u'ManagedException.txt',\n       u'MemoryUsageKbytes', u'Message', u'OSIs64Bit', u'OpenHandleCount',\n       u'OperatingSystem', u'ProWin16.INI', u'ProblemDescription', u'Source',\n       u'StackTrace', u'SystemTimeUTC', u'TimeStamp', u'WorkStationName',\n       u'WorkStationType', u'crashdump.dmp', u'crashrpt.xml'],\n      dtype='object')\n"
     ]
    }
   ],
   "source": [
    "# print(df['ProblemDescription'])\n",
    "print(df.columns)\n",
    "# print(df['CustNum'])"
   ]
  },
  {
   "cell_type": "code",
   "execution_count": 4,
   "metadata": {},
   "outputs": [],
   "source": [
    "from CrashAnalysis import analysis\n",
    "\n",
    "analysis.filter_dataframe(df, AppVersion='2016040014')"
   ]
  },
  {
   "cell_type": "code",
   "execution_count": null,
   "metadata": {},
   "outputs": [],
   "source": [
    ""
   ]
  }
 ],
 "metadata": {
  "kernelspec": {
   "display_name": "Python 2",
   "language": "python",
   "name": "python2"
  },
  "language_info": {
   "codemirror_mode": {
    "name": "ipython",
    "version": 2.0
   },
   "file_extension": ".py",
   "mimetype": "text/x-python",
   "name": "python",
   "nbconvert_exporter": "python",
   "pygments_lexer": "ipython2",
   "version": "2.7.6"
  }
 },
 "nbformat": 4,
 "nbformat_minor": 0
}