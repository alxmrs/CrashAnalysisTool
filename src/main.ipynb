{
 "cells": [
  {
   "cell_type": "code",
   "execution_count": 3,
   "metadata": {
    "collapsed": true
   },
   "outputs": [],
   "source": [
    "import crash_analysis\n",
    "from crash_analysis import parser\n",
    "# IO\n",
    "## Reading dataframe from CSV\n",
    "df = crash_analysis.read_csv('src/data/Crashes3.csv')\n",
    "\n",
    "## Reading dataframe from crashreport XML\n",
    "crash_report_zip_dir = 'C:\\\\CrashReports\\\\'\n",
    "# parser.extract_zipfiles(crash_report_zip_dir)\n",
    "df_xml = parser.xmldocs_to_dataframe(crash_report_zip_dir)"
   ]
  },
  {
   "cell_type": "code",
   "execution_count": null,
   "metadata": {},
   "outputs": [],
   "source": [
    ""
   ]
  },
  {
   "cell_type": "code",
   "execution_count": 47,
   "metadata": {},
   "outputs": [],
   "source": [
    "## dataframe to CSV, HDF5, etc.\n",
    "df_xml.to_csv('src/data/test.csv', encoding='utf-8')\n",
    "# df_xml.to_hdf('src/data/test')"
   ]
  },
  {
   "cell_type": "code",
   "execution_count": 13,
   "metadata": {
    "collapsed": true
   },
   "outputs": [
    {
     "name": "stdout",
     "output_type": "stream",
     "text": [
      "['Error_Code', 'Product', 'Version', 'Customer_Description', 'Customer_Email', 'Payload', 'Engineering Status', 'Engineering Notes', 'Date Created', 'Date Modified', 'Record ID#', 'Record Owner', 'Last Modified By']\n2004\n6166\n"
     ]
    }
   ],
   "source": [
    "# Filtering Dataframe\n",
    "# print df['Customer_Description'].tail()\n",
    "\n",
    "# ## Before\n",
    "# print(len(df))\n",
    "print(crash_analysis.get_columns(df))\n",
    "# print(df['Version'].head()) # .tail()\n",
    "# \n",
    "# ## After\n",
    "current_version_df = crash_analysis.filter_dataframe(df, Version='2016040014')\n",
    "print(len(current_version_df))\n",
    "# print(current_version_df['Version'][-10:])\n",
    "# \n",
    "# ## Get multiple\n",
    "two_rand_versions = crash_analysis.filter_dataframe(df, Version=['2016040014', '2015100018'])\n",
    "print(len(two_rand_versions))"
   ]
  },
  {
   "cell_type": "code",
   "execution_count": 15,
   "metadata": {
    "collapsed": true
   },
   "outputs": [
    {
     "name": "stdout",
     "output_type": "stream",
     "text": [
      "95241                                                  NaN\n95305                        CONVERTIN RETURN FOR E-FILING\n95309              CONVERTING RETURN FOR ELECTRONIC FILING\n95312                                                  NaN\n95324                           down loading state updates\n95326                                      Initial Install\n95327                                           signing in\n95328                                                  NaN\n95329                                                  NaN\n95331                                                  NaN\n95332                                                  NaN\n95333                                  LOGIN TO MY ACCOUNT\n95334    Installing updates at the same time logging in...\n95335                                                  NaN\n95337       Trying to complete the 2016 Proseries download\n95338                              logging into my account\n95339                                                  NaN\n95340                                                  NaN\n95341                                                  NaN\n95342                                waiting for an upload\n95343                               installing the program\n95344                                     i do not know !!\n95346                                                  NaN\n95347                           downloading ProSeries 2016\n95348                                     I was signing in\n95349                                      Installing 2016\n95350                                                  NaN\n95352    trying to shut down Outlook for restart after ...\n95353                                                  NaN\n95354                 ProSeries - 2016 has stopped working\n                               ...                        \n97839                                            shut dowm\n97840                                 installing proseries\n97841                                  opening a form 1041\n97842    downloading ProSeries on 2nd computer connecte...\n97845                           downloading ProSeries 2016\n97847                                                  NaN\n97850                         just installing the software\n97851                       keeps closing down when i save\n97853                                 CLoses when hit save\n97854                         I don't know why it stopped.\n97855                                                  NaN\n97857                  I was installing Proseries for 2016\n97860    Proseries was starting up right for the first ...\n97862                       opeming partnership tax return\n97864                                                  NaN\n97866                                                  NaN\n97867                     Finishing up the initial install\n97868                                  setting up software\n97869                                    reseting password\n97871                                           opening it\n97872                                    installing update\n97875                                                  NaN\n97877                                                  NaN\n97878                                                  NaN\n97879                        setting up the online account\n97880                                                  NaN\n97883    ProSeries installed updates, then waited for P...\n97884                                                  NaN\n97887                                  Opening client file\n97888                                                  NaN\nName: Customer_Description, dtype: object\n95305              CONVERTIN RETURN FOR E-FILING\n95309    CONVERTING RETURN FOR ELECTRONIC FILING\n95324                 down loading state updates\n95326                            Initial Install\n95327                                 signing in\nName: Customer_Description, dtype: object\n"
     ]
    }
   ],
   "source": [
    "# Reading Text Data\n",
    "customer_desc_df = crash_analysis.get_column(current_version_df, 'Customer_Description')\n",
    "print(customer_desc_df)\n",
    "\n",
    "## Remove NaN values --> two options\n",
    "full_desc = crash_analysis.remove_empty(customer_desc_df)\n",
    "# full_desc = crash_analysis.fill_empty(customer_desc_df)\n",
    "print(full_desc.head())\n",
    "\n",
    "# ## Formatting Printed Output\n",
    "# import pandas as pd\n",
    "# # pd.set_option('display.height', 5000)\n",
    "# # pd.set_option('display.max_rows', 5000)\n",
    "# # pd.set_option('display.max_colwidth', 250)\n",
    "# \n",
    "# # print(full_desc.head())"
   ]
  },
  {
   "cell_type": "code",
   "execution_count": 16,
   "metadata": {},
   "outputs": [
    {
     "data": {
      "text/plain": [
       "268690347    48\n26581991     16\n25336807     12\n8559591      12\n268707747    11\n25992167     11\n23501799     11\n16030695     10\n25730023     10\n19635175     10\n25861095     10\n8100839      10\n24222695     10\n23567335     10\n23239655      9\n7052263       9\n17865703      9\n23960551      9\n24681447      9\n6134759       9\nName: Error_Code, dtype: int64"
      ]
     },
     "execution_count": 16,
     "metadata": {},
     "output_type": "execute_result"
    }
   ],
   "source": [
    "# Gathering some simple statistics\n",
    "\n",
    "# crash_analysis.get_columns(current_version_df)\n",
    "## Find histograms of field\n",
    "\n",
    "current_version_df['Error_Code'].value_counts()[:20]"
   ]
  },
  {
   "cell_type": "code",
   "execution_count": 4,
   "metadata": {},
   "outputs": [
    {
     "name": "stdout",
     "output_type": "stream",
     "text": [
      "total words: 3176\ninstal     \t:  222 \t [['install'], ['installing'], ['installing'], ['installing'], ['install'], ['installing']]\n2016       \t:  170 \t [['2016'], ['2016'], ['2016'], ['2016'], ['2016'], ['2016']]\nproseri    \t:  121 \t [['proseries'], ['proseries'], ['proseries'], ['proseries'], ['proseries'], ['proseries']]\nprogram    \t:  110 \t [['program'], ['program'], ['program'], ['program'], ['program'], ['program']]\nopen       \t:  103 \t [['opening'], ['openning'], ['opening'], ['opening'], ['open'], ['open']]\nupdat      \t:   99 \t [['updates'], ['updates'], ['updating'], ['updating'], ['updates'], ['updates']]\ndownload   \t:   90 \t [['download'], ['downloading'], ['downloading'], ['downloading'], ['downloading'], ['downloading']]\nsign       \t:   87 \t [['signing'], ['signing'], ['signing'], ['sign'], ['signing'], ['signing']]\ntri        \t:   80 \t [['trying'], ['trying'], ['trying'], ['trying'], ['trying'], ['trying']]\nfile       \t:   78 \t [['filing'], ['filing'], ['file'], ['file'], ['file'], ['file']]\nclient     \t:   70 \t [['client'], ['client'], ['client'], ['client'], ['client'], ['client']]\nsoftwar    \t:   62 \t [['software'], ['software'], ['software'], ['software'], ['software'], ['software']]\npassword   \t:   49 \t [['password'], ['password'], ['password'], ['password'], ['password'], ['password']]\nenter      \t:   46 \t [['enter'], ['entered'], ['enter'], ['entering'], ['entering'], ['enter']]\nstop       \t:   38 \t [['stopped'], ['stopped'], ['stopped'], ['stop'], ['stopped'], ['stop']]\nlog        \t:   38 \t [['logging'], ['logging'], ['log'], ['log'], ['logging'], ['logging']]\nwork       \t:   37 \t [['working'], ['working'], ['work'], ['working'], ['working'], ['working']]\nbasic      \t:   37 \t [['basic'], ['basic'], ['basic'], ['basic'], ['basic'], ['basic']]\nnew        \t:   36 \t [['new'], ['new'], ['new'], ['new'], ['new'], ['new']]\ncrash      \t:   35 \t [['crashed'], ['crashing'], ['crashed'], ['crashing'], ['crashing'], ['crashes']]\nset        \t:   34 \t [['setting'], ['set'], ['setting'], ['setting'], ['set'], ['setting']]\naccount    \t:   32 \t [['account'], ['account'], ['account'], ['account'], ['account'], ['account']]\ntax        \t:   32 \t [['tax'], ['tax'], ['tax'], ['tax'], ['tax'], ['tax']]\nreturn     \t:   31 \t [['return'], ['return'], ['return'], ['return'], ['return'], ['return']]\nsave       \t:   28 \t [['saving'], ['save'], ['save'], ['save'], ['saving'], ['saving']]\ntime       \t:   26 \t [['time'], ['time'], ['time'], ['time'], ['time'], ['time']]\npro        \t:   24 \t [['pro'], ['pro'], ['pro'], ['pro'], ['pro'], ['pro']]\nerror      \t:   24 \t [['error'], ['error'], ['error'], ['error'], ['error'], ['errors']]\ntransfer   \t:   23 \t [['transferred'], ['transferred'], ['transferred'], ['transferring'], ['transferring'], ['transferring']]\ncode       \t:   22 \t [['code'], ['code'], ['code'], ['code'], ['code'], ['code']]\n\n"
     ]
    }
   ],
   "source": [
    "from crash_analysis import analysis\n",
    "from crash_analysis.preprocess import tokenize_stem_stop, tokenize\n",
    "\n",
    "analysis.stem_frequency(full_desc)\n",
    "print"
   ]
  },
  {
   "cell_type": "code",
   "execution_count": 17,
   "metadata": {
    "collapsed": false
   },
   "outputs": [
    {
     "name": "stdout",
     "output_type": "stream",
     "text": [
      "Index([u'ACCDT_Field', u'Active_ClientFileName', u'Active_Field',\n       u'Active_Form', u'Active_FormsetID', u'Active_FormsetVersion',\n       u'AppName', u'AppVersion', u'BasWin16.INI', u'Batch_ClientFileName',\n       u'CrashGUID', u'CrashRpt', u'Current_Calcsection', u'CustNum',\n       u'CustomProps', u'DataFileCount', u'ExceptionAddress', u'ExceptionCode',\n       u'ExceptionModule', u'ExceptionModuleBase', u'ExceptionModuleVersion',\n       u'ExceptionType', u'FileList', u'FormsPrinter', u'GUIResourceCount',\n       u'GeoLocation', u'ImageName', u'InnerException', u'InstallType',\n       u'Last_Calcsection', u'ManagedException', u'ManagedException.txt',\n       u'MemoryUsageKbytes', u'Message', u'OSIs64Bit', u'OpenHandleCount',\n       u'OperatingSystem', u'ProWin16.INI', u'ProblemDescription', u'Source',\n       u'StackTrace', u'SystemTimeUTC', u'TimeStamp', u'WorkStationName',\n       u'WorkStationType', u'crashdump.dmp', u'crashrpt.xml'],\n      dtype='object')\nWorkStationType  OSIs64Bit  OperatingSystem                                       \nAdmin            0          Windows 10 Pro Build 14393                                  2\n                            Windows 7 Professional Build 7601 Service Pack 1           16\n                            Windows 8.1 Pro Build 9600                                  1\n                 1          Windows (R) Small Business Server 2008 Build 6002           2\n                            Windows 10 Home Build 10586                                 1\n                            Windows 10 Home Build 14393                                17\n                            Windows 10 Pro Build 10240                                  1\n                            Windows 10 Pro Build 10586                                  3\n                            Windows 10 Pro Build 14393                                 25\n                            Windows 7 Enterprise Build 7601                             1\n                            Windows 7 Home Premium Build 7601                          11\n                            Windows 7 Professional Build 7601                          92\n                            Windows 7 Ultimate Build 7601                               5\n                            Windows 8.1 Build 9600                                      4\n                            Windows 8.1 Enterprise Build 9600                           1\n                            Windows 8.1 Pro Build 9600                                  1\n                            Windows Server (R) 2008 Enterprise Build 6002               2\n                            Windows Server 2008 R2 Datacenter Build 7601                6\n                            Windows Server 2008 R2 Enterprise Build 7601                3\n                            Windows Server 2008 R2 Standard Build 7601                 21\n                            Windows Server 2012 Essentials Build 9200                   1\n                            Windows Server 2012 Foundation Build 9200                   1\n                            Windows Server 2012 R2 Essentials Build 9600                8\n                            Windows Server 2012 R2 Standard Build 9600                 16\n                            Windows Server 2012 Standard Build 9200                     2\n                            Windows Server 2016 Essentials Build 14393                  4\n                            Windows Small Business Server 2011 Standard Build 7601      3\nNon-Admin        0          Windows 10 Pro Build 14393                                  3\n                            Windows 7 Professional Build 7601 Service Pack 1           21\n                 1          Microsoft Windows XP Build 2600 Service Pack 2              1\n                            Windows 10 Home Build 14393                                 3\n                            Windows 10 Pro Build 10586                                  3\n                            Windows 10 Pro Build 14393                                 11\n                            Windows 7 Enterprise Build 7601                             1\n                            Windows 7 Home Premium Build 7601                           5\n                            Windows 7 Professional Build 7601                         250\n                            Windows 7 Ultimate Build 7600                               1\n                            Windows 7 Ultimate Build 7601                              18\n                            Windows 8.1 Build 9600                                      7\n                            Windows 8.1 Pro Build 9600                                  4\n                            Windows Server (R) 2008 Enterprise Build 6002               8\n                            Windows Server 2008 R2 Standard Build 7601                  2\n                            Windows Server 2012 R2 Standard Build 9600                  5\n                            Windows Server 2012 Standard Build 9200                     2\nName: CrashGUID, dtype: int64\n"
     ]
    }
   ],
   "source": [
    "# Groupings\n",
    "print df_xml.columns\n",
    "print df_xml.groupby(['WorkStationType', 'OSIs64Bit', 'OperatingSystem'])['CrashGUID'].count()\n",
    "\n",
    "\n",
    "# from crash_analysis import analysis\n",
    "# \n",
    "# analysis.associate_by_keyterms(df_xml, 'Message', 'StackTrace', print_output=True)\n",
    "# print"
   ]
  },
  {
   "cell_type": "code",
   "execution_count": 13,
   "metadata": {},
   "outputs": [],
   "source": [
    "from crash_analysis import analysis\n",
    "\n",
    "from crash_analysis.preprocess import ngram, lower_and_tokenize, tokenize\n",
    "\n",
    "import re\n",
    "\n",
    "\n",
    "def word_trigram(text): return ngram(lower_and_tokenize(text), 5, skip=2)\n",
    "\n",
    "\n",
    "def word_trigram_stemmed(text): return ngram(tokenize(text, stop=False), 10, skip=1)\n",
    "\n",
    "\n",
    "sorted_counts, total, vocab = analysis.stem_frequency(full_desc, _map=word_trigram_stemmed, print_output=False)\n",
    "\n",
    "# filter(lambda tuple: len(re.split(r'\\W', tuple[0])) > 2, sorted_counts)[:20]"
   ]
  },
  {
   "cell_type": "markdown",
   "metadata": {},
   "source": [
    "[(u'instal 2016', 40),\n",
    " (u'instal proseri', 32),\n",
    " (u'proseri 2016', 31),\n",
    " (u'instal updat', 30),\n",
    " (u'stop work', 29),\n",
    " (u'proseri basic', 23),\n",
    " (u'instal program', 22),\n",
    " (u'open client', 22),\n",
    " (u'2016 proseri', 22),\n",
    " (u'tri open', 19),\n",
    " (u'2016 program', 19),\n",
    " (u'instal softwar', 18),\n",
    " (u'client file', 16),\n",
    " (u'download 2016', 15),\n",
    " (u'pro seri', 15),\n",
    " (u'first time', 14),\n",
    " (u'instal proseri 2016', 14),\n",
    " (u'open file', 13),\n",
    " (u'2016 softwar', 12),\n",
    " (u'enter password', 12)]\n",
    "\n",
    "\n",
    "[('trying to', 70),\n",
    " ('signing in', 39),\n",
    " ('a client', 28),\n",
    " ('proseries 2016', 28),\n",
    " ('the program', 27),\n",
    " ('installing 2016', 26),\n",
    " ('i was', 24),\n",
    " ('proseries basic', 23),\n",
    " ('setting up', 23),\n",
    " ('sign in', 23),\n",
    " ('in to', 23),\n",
    " ('installing updates', 22),\n",
    " ('installing the', 22),\n",
    " ('2016 proseries', 22),\n",
    " ('installing proseries', 22),\n",
    " ('to open', 21),\n",
    " ('logging in', 21),\n",
    " ('stopped working', 21),\n",
    " ('opening a', 21),\n",
    " ('a file', 20)]"
   ]
  },
  {
   "cell_type": "code",
   "execution_count": 23,
   "metadata": {},
   "outputs": [],
   "source": [
    "def char_ngram(text): return ngram(text, 20, skip=1, delim='')\n",
    "\n",
    "\n",
    "sorted_counts, total, vocab = analysis.stem_frequency(full_desc, _map=char_ngram, print_output=False)\n",
    "\n",
    "# filter(lambda tuple: len(tuple[0].split(' ')) > 2, sorted_counts)[:50]"
   ]
  },
  {
   "cell_type": "code",
   "execution_count": null,
   "metadata": {},
   "outputs": [],
   "source": [
    ""
   ]
  },
  {
   "cell_type": "code",
   "execution_count": 14,
   "metadata": {},
   "outputs": [],
   "source": [
    "# filter(lambda tuple: len(tuple[0].split(' ')) > 4, sorted_counts)[:50]"
   ]
  },
  {
   "cell_type": "code",
   "execution_count": null,
   "metadata": {},
   "outputs": [],
   "source": [
    "# Group by queries"
   ]
  }
 ],
 "metadata": {
  "kernelspec": {
   "display_name": "Python 2",
   "language": "python",
   "name": "python2"
  },
  "language_info": {
   "codemirror_mode": {
    "name": "ipython",
    "version": 2.0
   },
   "file_extension": ".py",
   "mimetype": "text/x-python",
   "name": "python",
   "nbconvert_exporter": "python",
   "pygments_lexer": "ipython2",
   "version": "2.7.6"
  }
 },
 "nbformat": 4,
 "nbformat_minor": 0
}