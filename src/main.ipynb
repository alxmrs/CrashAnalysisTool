{
 "cells": [
  {
   "cell_type": "code",
   "execution_count": 1,
   "metadata": {
    "collapsed": true
   },
   "outputs": [
    {
     "name": "stdout",
     "output_type": "stream",
     "text": [
      "97356    2015100018\n97357    2016040014\n97358    2016040014\n97359    2016040014\n97360    2016040014\n97361    2015030071\n97362    2016040014\n97363    2016040014\n97364    2016040014\n97365    2015100018\nName: Version, dtype: object\n1593\n5700\n95305                        CONVERTIN RETURN FOR E-FILING\n95309              CONVERTING RETURN FOR ELECTRONIC FILING\n95324                           down loading state updates\n95326                                      Initial Install\n95327                                           signing in\n95333                                  LOGIN TO MY ACCOUNT\n95334    Installing updates at the same time logging in...\n95337       Trying to complete the 2016 Proseries download\n95338                              logging into my account\n95342                                waiting for an upload\nName: Customer_Description, dtype: object\n"
     ]
    }
   ],
   "source": [
    "import crash_analysis\n",
    "# Reading dataframe from CSV\n",
    "df = crash_analysis.read_csv('src/data/Crashes2.csv')\n",
    "# Filtering Dataframe\n",
    "## Before\n",
    "# print(len(df))\n",
    "# print(crash_analysis.get_columns(df))\n",
    "print(df['Version'][-10:])\n",
    "\n",
    "## After\n",
    "current_version_df = crash_analysis.filter_dataframe(df, Version='2016040014')\n",
    "print(len(current_version_df))\n",
    "# print(current_version_df['Version'][-10:])\n",
    "\n",
    "## Get multiple\n",
    "two_rand_versions = crash_analysis.filter_dataframe(df, Version=['2016040014', '2015100018'])\n",
    "print(len(two_rand_versions))\n",
    "# Reading Text Data\n",
    "customer_desc_df = crash_analysis.get_column(current_version_df, 'Customer_Description')\n",
    "# print(customer_desc_df)\n",
    "\n",
    "## Remove NaN values --> two options\n",
    "full_desc = crash_analysis.remove_empty(customer_desc_df)\n",
    "# full_desc = crash_analysis.fill_empty(customer_desc_df)\n",
    "# print(full_desc[:10])\n",
    "\n",
    "## Formatting Printed Output\n",
    "# import pandas as pd\n",
    "# pd.set_option('display.height', 5000)\n",
    "# pd.set_option('display.max_rows', 5000)\n",
    "# pd.set_option('display.max_colwidth', 250)\n",
    "\n",
    "print(full_desc[:10])"
   ]
  },
  {
   "cell_type": "code",
   "execution_count": 4,
   "metadata": {},
   "outputs": [
    {
     "data": {
      "text/plain": [
       "['Error_Code',\n 'Product',\n 'Version',\n 'Customer_Description',\n 'Customer_Email',\n 'Payload',\n 'Engineering Status',\n 'Engineering Notes',\n 'Date Created',\n 'Date Modified',\n 'Record ID#',\n 'Record Owner',\n 'Last Modified By']"
      ]
     },
     "execution_count": 4,
     "metadata": {},
     "output_type": "execute_result"
    }
   ],
   "source": [
    "# Gathering some simple statistics\n",
    "\n",
    "crash_analysis.get_columns(current_version_df)"
   ]
  },
  {
   "cell_type": "code",
   "execution_count": 18,
   "metadata": {},
   "outputs": [
    {
     "data": {
      "text/plain": [
       "268690347    38\n26581991     14\n25992167     11\n25730023     10\n19635175     10\n23501799     10\n25336807     10\n23960551      9\n24222695      9\n8559591       9\n25861095      9\n23436263      9\n16030695      9\n9018343       9\n23239655      8\n24026087      8\n23567335      8\n8100839       8\n22977511      8\n7379943       7\nName: Error_Code, dtype: int64"
      ]
     },
     "execution_count": 18,
     "metadata": {},
     "output_type": "execute_result"
    }
   ],
   "source": [
    "## Find histograms of field\n",
    "\n",
    "current_version_df['Error_Code'].value_counts()[:20]"
   ]
  },
  {
   "cell_type": "code",
   "execution_count": 19,
   "metadata": {},
   "outputs": [],
   "source": [
    ""
   ]
  },
  {
   "cell_type": "code",
   "execution_count": 25,
   "metadata": {},
   "outputs": [
    {
     "data": {
      "text/plain": [
       "[('trying to', 58),\n ('signing in', 31),\n ('a client', 24),\n ('proseries 2016', 24),\n ('installing 2016', 23),\n ('installing updates', 22),\n ('the program', 21),\n ('proseries basic', 20),\n ('sign in', 20),\n ('installing proseries', 20),\n ('in to', 20),\n ('to open', 18),\n ('2016 proseries', 18),\n ('installing the', 17),\n ('setting up', 17),\n ('i was', 17),\n ('a file', 16),\n ('logging in', 16),\n ('stopped working', 16),\n ('opening a', 15),\n ('to sign', 14),\n ('2016 program', 14),\n ('the 2016', 14),\n ('trying to open', 13),\n ('to sign in', 12),\n ('pro series', 11),\n ('the software', 11),\n ('when i', 11),\n ('open a', 11),\n ('client file', 11),\n ('first time', 9),\n ('for the', 9),\n ('installing program', 9),\n ('to install', 9),\n ('trying_in', 9),\n ('basic 2016', 9),\n ('my password', 9),\n ('2016 software', 9),\n ('a client file', 9),\n ('proseries basic 2016', 8),\n ('downloading the', 8),\n ('installing proseries 2016', 8),\n ('signing into', 8),\n ('set up', 8),\n ('signing in to', 8),\n ('trying_the', 7),\n ('and installing', 7),\n ('for_time', 7),\n ('to save', 7),\n ('trying to install', 7),\n ('home base', 7),\n ('basic edition', 7),\n ('to open a', 7),\n ('installing_2016', 7),\n ('installing 2016 proseries', 7),\n ('log in', 7),\n ('new password', 7),\n ('for 2016', 7),\n ('trying_a', 7),\n ('s corp', 7),\n ('to proseries', 7),\n ('installing proseries basic', 7),\n ('trying to save', 6),\n ('when_a', 6),\n ('attempting to', 6),\n ('2016 basic', 6),\n ('installing_software', 6),\n ('installing software', 6),\n ('installing the software', 6),\n ('to log', 6),\n ('in to proconnect', 6),\n ('to proconnect', 6),\n ('i_the', 6),\n ('downloading 2016', 6)]"
      ]
     },
     "execution_count": 25,
     "metadata": {},
     "output_type": "execute_result"
    }
   ],
   "source": [
    "from crash_analysis import analysis\n",
    "\n",
    "from crash_analysis.preprocess import ngram, lower_and_tokenize\n",
    "\n",
    "\n",
    "def word_trigram(text): return ngram(lower_and_tokenize(text), 5, skip=2)\n",
    "\n",
    "\n",
    "sorted_counts, total, vocab = analysis.stem_frequency(full_desc, _map=word_trigram, print_output=False)\n",
    "\n",
    "filter(lambda tuple: len(tuple[0].split()) > 1 or '_' in tuple[0], sorted_counts)[:74]"
   ]
  },
  {
   "cell_type": "code",
   "execution_count": 23,
   "metadata": {},
   "outputs": [],
   "source": [
    "def char_ngram(text): return ngram(text, 20, skip=1, delim='')\n",
    "\n",
    "\n",
    "sorted_counts, total, vocab = analysis.stem_frequency(full_desc, _map=char_ngram, print_output=False)\n",
    "\n",
    "# filter(lambda tuple: len(tuple[0].split(' ')) > 2, sorted_counts)[:50]"
   ]
  },
  {
   "cell_type": "code",
   "execution_count": 20,
   "metadata": {},
   "outputs": [
    {
     "data": {
      "text/plain": [
       "[(' to open a ', 6),\n ('g to open a ', 5),\n ('ing to open a ', 5),\n ('ng to open a ', 5),\n (' to sign in ', 5),\n ('ying to open a ', 5),\n (' for the first ti', 4),\n ('trying to open a ', 4),\n (' for the first time', 4),\n (' for the first t', 4),\n (' for the first tim', 4),\n (' for the first ', 4),\n ('rying to open a ', 4),\n ('hen i deleted a file', 3),\n ('n i deleted a ', 3),\n (' 2016 has stopped ', 3),\n ('d when i deleted a', 3),\n ('d when i deleted a f', 3),\n (' i deleted a ', 3),\n ('n i deleted a file', 3),\n ('when i deleted a fil', 3),\n ('n i deleted a fil', 3),\n ('n i deleted a fi', 3),\n (' the first time ', 3),\n ('en i deleted a f', 3),\n ('d when i deleted a ', 3),\n (' i deleted a file', 3),\n (' when i deleted a fi', 3),\n ('ed when i deleted ', 3),\n (' when i deleted a f', 3),\n (' when i deleted a ', 3),\n ('rying to sign in ', 3),\n ('en i deleted a file', 3),\n ('ng to sign in ', 3),\n ('ng in to Proseries ', 3),\n ('n i deleted a f', 3),\n (' when i deleted a', 3),\n ('when i deleted a fi', 3),\n ('en i deleted a ', 3),\n (' when i deleted ', 3),\n ('hen i deleted a fil', 3),\n (' in to Proseries ', 3),\n ('ed when i deleted a ', 3),\n (' 2016 has stopped w', 3),\n ('g to sign in ', 3),\n ('ying to sign in ', 3),\n (' a client from ', 3),\n ('hen i deleted a f', 3),\n ('en i deleted a fil', 3),\n ('hen i deleted a ', 3)]"
      ]
     },
     "execution_count": 20,
     "metadata": {},
     "output_type": "execute_result"
    }
   ],
   "source": [
    "filter(lambda tuple: len(tuple[0].split(' ')) > 4, sorted_counts)[:50]"
   ]
  },
  {
   "cell_type": "code",
   "execution_count": null,
   "metadata": {},
   "outputs": [],
   "source": [
    ""
   ]
  }
 ],
 "metadata": {
  "kernelspec": {
   "display_name": "Python 2",
   "language": "python",
   "name": "python2"
  },
  "language_info": {
   "codemirror_mode": {
    "name": "ipython",
    "version": 2.0
   },
   "file_extension": ".py",
   "mimetype": "text/x-python",
   "name": "python",
   "nbconvert_exporter": "python",
   "pygments_lexer": "ipython2",
   "version": "2.7.6"
  }
 },
 "nbformat": 4,
 "nbformat_minor": 0
}