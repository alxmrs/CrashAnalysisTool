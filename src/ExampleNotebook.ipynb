{
 "cells": [
  {
   "cell_type": "markdown",
   "metadata": {
    "collapsed": true
   },
   "source": [
    "# Example Crash Report Notebook\n",
    "\n",
    "Release Date: \n",
    "\n",
    "Target Engine Version (s): \n",
    "\n",
    "Analysis Date: \n",
    "\n",
    "Author: \n",
    "\n"
   ]
  },
  {
   "cell_type": "code",
   "execution_count": 1,
   "metadata": {
    "collapsed": true
   },
   "outputs": [],
   "source": [
    "\"\"\"\n",
    "Add module path to sys path -- necessary if running from jupyter notebook and not an IDE\n",
    "\"\"\"\n",
    "\n",
    "import os\n",
    "import sys\n",
    "module_path = os.path.abspath(os.path.join('..'))\n",
    "if module_path not in sys.path:\n",
    "    sys.path.append(module_path)"
   ]
  },
  {
   "cell_type": "code",
   "execution_count": 7,
   "metadata": {},
   "outputs": [
    {
     "data": {
      "text/plain": [
       "'C:\\\\Dev\\\\CrashAnalysis\\\\tmp\\\\'"
      ]
     },
     "execution_count": 7,
     "metadata": {},
     "output_type": "execute_result"
    }
   ],
   "source": [
    "\"\"\"\n",
    "General import statements\n",
    "\"\"\"\n",
    "import crash_analysis\n",
    "import pandas as pd\n",
    "\n",
    "\"\"\"\n",
    "Constants\n",
    "Note: Make sure you update the name of the csv file!!\n",
    "\"\"\"\n",
    "cache_filename = 'betacrashes_1027.csv' # TODO: change my name!!\n",
    "zipfile_location = os.path.join(module_path, 'tmp' + os.sep)\n",
    "cache_location = os.path.join(module_path, 'src', 'data' + os.sep, cache_filename)\n",
    "\n",
    "if not os.path.exists(zipfile_location):\n",
    "    os.makedirs(zipfile_location)\n",
    "    \n",
    "zipfile_location"
   ]
  },
  {
   "cell_type": "code",
   "execution_count": 5,
   "metadata": {},
   "outputs": [
    {
     "name": "stdout",
     "output_type": "stream",
     "text": [
      "About to download 273 records.\n"
     ]
    }
   ],
   "source": [
    "\"\"\"\n",
    "Download crashes by date range\n",
    "\"\"\"\n",
    "from crash_analysis.downloader import download_time_range\n",
    "import datetime\n",
    "\n",
    "now = datetime.datetime.now()\n",
    "start = now + datetime.timedelta(days=-2)\n",
    "end = now\n",
    "\n",
    "\n",
    "download_time_range(start, end, zipfile_location)"
   ]
  },
  {
   "cell_type": "code",
   "execution_count": 6,
   "metadata": {},
   "outputs": [
    {
     "name": "stdout",
     "output_type": "stream",
     "text": [
      "BadZipFile: C:\\Dev\\CrashAnalysis\\tmp\\37e77ba2-921a-4634-b6c1-46ddebbe2761.zip\n",
      "BadZipFile: C:\\Dev\\CrashAnalysis\\tmp\\bb86afda-d8a6-4d25-9483-8da84915e4f3.zip\n"
     ]
    }
   ],
   "source": [
    "\"\"\"\n",
    "Parse zipfiles into dataframe\n",
    "\"\"\"\n",
    "from crash_analysis.parser import extract_zipfiles, xmldocs_to_dataframe\n",
    "\n",
    "extract_zipfiles(zipfile_location)\n",
    "df = xmldocs_to_dataframe(zipfile_location)\n",
    "\n",
    "df.drop_duplicates(inplace=True)"
   ]
  },
  {
   "cell_type": "code",
   "execution_count": 8,
   "metadata": {},
   "outputs": [],
   "source": [
    "\"\"\"\n",
    "Save/load dataframe to/from CSV\n",
    "\"\"\"\n",
    "from crash_analysis import read_csv\n",
    "\n",
    "file_exists = os.path.isfile(cache_location)\n",
    "\n",
    "\n",
    "if file_exists:\n",
    "    df = read_csv(cache_location)\n",
    "else:\n",
    "    df.to_csv(cache_location, encoding='utf-8')"
   ]
  },
  {
   "cell_type": "code",
   "execution_count": 9,
   "metadata": {},
   "outputs": [
    {
     "name": "stdout",
     "output_type": "stream",
     "text": [
      "['ACCDT_Field', 'Active_ClientFileName', 'Active_Field', 'Active_Form', 'Active_FormsetID', 'Active_FormsetVersion', 'AppName', 'AppVersion', 'BasWin15.INI', 'BasWin16.INI', 'BasWin17.INI', 'Batch_ClientFileName', 'CrashGUID', 'CrashRpt', 'Current_Calcsection', 'CustNum', 'CustomProps', 'DataFileCount', 'ExceptionAddress', 'ExceptionCode', 'ExceptionModule', 'ExceptionModuleBase', 'ExceptionModuleVersion', 'ExceptionType', 'FileList', 'FormsPrinter', 'GUIResourceCount', 'GeoLocation', 'ImageName', 'InnerException', 'InstallType', 'InvParamExpression', 'InvParamFile', 'InvParamFunction', 'InvParamLine', 'Last_Calcsection', 'ManagedException', 'ManagedException.txt', 'MemoryUsageKbytes', 'Message', 'OSIs64Bit', 'OpenHandleCount', 'OperatingSystem', 'ProWin15.INI', 'ProWin16.INI', 'ProWin17.INI', 'ProblemDescription', 'Source', 'StackTrace', 'SystemTimeUTC', 'TimeStamp', 'TrustedCustomerException.txt', 'WorkStationName', 'WorkStationType', 'crashdump.dmp', 'crashrpt.xml', 'empty']\n",
      "\n",
      "2016150023     1514\n",
      "2016150024     1405\n",
      "2016140020      524\n",
      "2015100026      267\n",
      "201613007        99\n",
      "2015100018       60\n",
      "2016120014       59\n",
      "2017020017       29\n",
      "2016110011       26\n",
      "2015030071       26\n",
      "2016030021       23\n",
      "20170100301      17\n",
      "20150900102      13\n",
      "20170100333      11\n",
      "20170100324      10\n",
      "201608003         9\n",
      "2016100028        8\n",
      "2015080023        7\n",
      "20170100338       6\n",
      "201609003         6\n",
      "2016040014        5\n",
      "2016070012        3\n",
      "201606008         3\n",
      "2015040017        3\n",
      "20170100241       3\n",
      "20170100266       2\n",
      "20170100346       2\n",
      "20170100374       2\n",
      "2016140015        2\n",
      "2017020028        1\n",
      "2015100011        1\n",
      "20170100341       1\n",
      "20170100409       1\n",
      "20170100175       1\n",
      "20170100358       1\n",
      "20170100361       1\n",
      "2016050015        1\n",
      "20170100421       1\n",
      "2015100017        1\n",
      "2016140014        1\n",
      "201614007         1\n",
      "nan               1\n",
      "Name: AppVersion, dtype: int64\n",
      "\n",
      "Number of crashes: 4157\n"
     ]
    }
   ],
   "source": [
    "\"\"\"\n",
    "Get metadata about dataframe\n",
    "\"\"\"\n",
    "col_names = crash_analysis.get_columns(df)\n",
    "versions = df['AppVersion'].apply(str)\n",
    "versions = versions.value_counts()\n",
    "num_crashes = len(df)\n",
    "\n",
    "\n",
    "print(col_names)\n",
    "print()\n",
    "print(versions)\n",
    "print()\n",
    "print('Number of crashes: {0}'.format(num_crashes))"
   ]
  },
  {
   "cell_type": "code",
   "execution_count": 11,
   "metadata": {},
   "outputs": [
    {
     "data": {
      "text/plain": [
       "59"
      ]
     },
     "execution_count": 11,
     "metadata": {},
     "output_type": "execute_result"
    }
   ],
   "source": [
    "\"\"\"\n",
    "Filter all crashes by app version. \n",
    "Output the number of crashes in this version. \n",
    "\"\"\"\n",
    "\n",
    "from crash_analysis import filter_dataframe\n",
    "\n",
    "march_release_df = filter_dataframe(df, AppVersion='2016120014')\n",
    "len(march_release_df)"
   ]
  },
  {
   "cell_type": "code",
   "execution_count": 12,
   "metadata": {},
   "outputs": [
    {
     "data": {
      "text/plain": [
       "AppName                         InstallType  OperatingSystem                                       \n",
       "ProSeries - 2016                Network      Windows 10 Home Build 14393                                1\n",
       "                                             Windows 7 Professional Build 7601                          6\n",
       "                                             Windows Server 2012 Essentials Build 9200                  1\n",
       "                                             Windows Server 2012 R2 Standard Build 9600                 1\n",
       "                                             Windows Small Business Server 2011 Standard Build 7601     2\n",
       "                                Standalone   Windows 10 Home Build 14393                                2\n",
       "                                             Windows 10 Home Build 15063                                5\n",
       "                                             Windows 10 Pro Build 15063                                 5\n",
       "                                             Windows 7 Home Premium Build 7601 Service Pack 1           1\n",
       "                                             Windows 7 Professional Build 7601                         10\n",
       "                                             Windows 8.1 Build 9600                                     1\n",
       "                                             Windows 8.1 Pro Build 9600                                 1\n",
       "ProSeries Basic Edition - 2016  Standalone   Windows 10 Enterprise Build 14393                          1\n",
       "                                             Windows 10 Home Build 10586                                1\n",
       "                                             Windows 10 Home Build 14393                                2\n",
       "                                             Windows 10 Home Build 15063                                2\n",
       "                                             Windows 10 Pro Build 10586                                 1\n",
       "                                             Windows 10 Pro Build 14393                                 2\n",
       "                                             Windows 10 Pro Build 15063                                 3\n",
       "                                             Windows 7 Home Premium Build 7601                          2\n",
       "                                             Windows 7 Professional Build 7601                          6\n",
       "                                             Windows 7 Ultimate Build 7601 Service Pack 1               1\n",
       "                                             Windows 8.1 Build 9600                                     2\n",
       "Name: CrashGUID, dtype: int64"
      ]
     },
     "execution_count": 12,
     "metadata": {},
     "output_type": "execute_result"
    }
   ],
   "source": [
    "\"\"\"\n",
    "Printed below will be a breakdown of the user's environment\n",
    "\"\"\"\n",
    "\n",
    "march_release_df.groupby(['AppName', 'InstallType', 'OperatingSystem'])['CrashGUID'].count()"
   ]
  },
  {
   "cell_type": "code",
   "execution_count": 13,
   "metadata": {},
   "outputs": [
    {
     "data": {
      "text/plain": [
       "KERNELBASE.dll          20\n",
       "None                    11\n",
       "protax16.exe             9\n",
       "nan                      6\n",
       "iebho.dll                3\n",
       "c4dll.dll                2\n",
       "CrashRpt1403.dll         2\n",
       "fcsmapi.dll              2\n",
       "user32.dll               1\n",
       "mso20win32client.dll     1\n",
       "mfc140.dll               1\n",
       "TerR.dll                 1\n",
       "Name: ExceptionModule, dtype: int64"
      ]
     },
     "execution_count": 13,
     "metadata": {},
     "output_type": "execute_result"
    }
   ],
   "source": [
    "\"\"\"\n",
    "Printed below will be the dlls or executables that were the sources \n",
    "of a crash, and how many caused a crash.\n",
    "\"\"\"\n",
    "def get_last_in_path(path_string):\n",
    "    return str(path_string).split('\\\\')[-1]\n",
    "\n",
    "march_release_df['ExceptionModule'] = march_release_df['ExceptionModule'].apply(get_last_in_path)\n",
    "march_release_df['ExceptionModule'].value_counts()"
   ]
  },
  {
   "cell_type": "code",
   "execution_count": 14,
   "metadata": {},
   "outputs": [],
   "source": [
    "\"\"\"\n",
    "Get actual addresses of exceptions (subtract base address from exception address)\n",
    "\"\"\"\n",
    "def add_const_ex_col(df):\n",
    "    to_base_16 = lambda x: int(x, 16) if not pd.isnull(x) else 0\n",
    "    ex1 = df['ExceptionAddress'].apply(to_base_16)\n",
    "    ex0 = df['ExceptionModuleBase'].apply(to_base_16)\n",
    "    df['const_exception_addr'] = ex1 - ex0\n",
    "    df['const_exception_addr'] = df['const_exception_addr'].apply(hex)\n",
    "    \n",
    "add_const_ex_col(march_release_df)"
   ]
  },
  {
   "cell_type": "code",
   "execution_count": 15,
   "metadata": {},
   "outputs": [
    {
     "data": {
      "text/plain": [
       "0xc54f                6\n",
       "0x0                   6\n",
       "0xda9f2               5\n",
       "0xeb832               3\n",
       "0x427a3               2\n",
       "0x22bab               2\n",
       "0x6fb189              2\n",
       "0x2fa0                2\n",
       "0x38f2                2\n",
       "0x6efbe4              2\n",
       "0xeb872               2\n",
       "0x790053              1\n",
       "0x5bd330              1\n",
       "0x17f2a               1\n",
       "0x630000              1\n",
       "0x51d0000             1\n",
       "0x3752                1\n",
       "0x9fa6                1\n",
       "0x11d4d               1\n",
       "0x22bbb               1\n",
       "0x10f18               1\n",
       "0xbdae8               1\n",
       "0x1a00845             1\n",
       "0xffffffffd2e8013a    1\n",
       "0xffffffffb5122763    1\n",
       "0x6e0077              1\n",
       "0x78100e              1\n",
       "0x10c48300            1\n",
       "0x105ed9              1\n",
       "0x240119              1\n",
       "0x6e83f0              1\n",
       "0x15608               1\n",
       "0x21ccf48             1\n",
       "0x77                  1\n",
       "0x25cee7              1\n",
       "0x6c0069              1\n",
       "Name: const_exception_addr, dtype: int64"
      ]
     },
     "execution_count": 15,
     "metadata": {},
     "output_type": "execute_result"
    }
   ],
   "source": [
    "\"\"\"\n",
    "These are the machine-agnostic exception addresses for all of the crashes, \n",
    "along with how many of this type of exception occurred\n",
    "\"\"\"\n",
    "march_release_df['const_exception_addr'].value_counts()"
   ]
  },
  {
   "cell_type": "code",
   "execution_count": 17,
   "metadata": {},
   "outputs": [
    {
     "data": {
      "text/plain": [
       "ExceptionModule       const_exception_addr  CustNum   \n",
       "CrashRpt1403.dll      0x38f2                0000195455    1\n",
       "                                            7806327544    1\n",
       "KERNELBASE.dll        0x11d4d               0606952497    1\n",
       "                      0x15608               0275797839    1\n",
       "                      0x17f2a               0682567470    1\n",
       "                      0xbdae8               7793063942    1\n",
       "                      0xc54f                7515059214    4\n",
       "                                            7702065919    2\n",
       "                      0xda9f2               0001840305    1\n",
       "                                            0135190306    1\n",
       "                                            0610714081    1\n",
       "                                            7710465831    1\n",
       "                                            7781781082    1\n",
       "                      0xeb832               0631854453    1\n",
       "                                            7515046107    1\n",
       "                                            7563283284    1\n",
       "                      0xeb872               0453516542    1\n",
       "                                            7515046107    1\n",
       "None                  0x10c48300            0003325636    1\n",
       "                      0x21ccf48             7757257296    1\n",
       "                      0x51d0000             7716360488    1\n",
       "                      0x5bd330              0102978733    1\n",
       "                      0x630000              0607041605    1\n",
       "                      0x6c0069              0682731738    1\n",
       "                      0x6e0077              0538689733    1\n",
       "                      0x77                  0003325636    1\n",
       "                      0x790053              0191081779    1\n",
       "                      0xffffffffb5122763    0606967909    1\n",
       "                      0xffffffffd2e8013a    0003325636    1\n",
       "TerR.dll              0x3752                0000058651    1\n",
       "c4dll.dll             0x427a3               0000084046    1\n",
       "                                            0000205274    1\n",
       "fcsmapi.dll           0x2fa0                7704912819    2\n",
       "iebho.dll             0x22bab               0607138674    2\n",
       "                      0x22bbb               7703940404    1\n",
       "mfc140.dll            0x240119              0001030725    1\n",
       "mso20win32client.dll  0x9fa6                0000363044    1\n",
       "nan                   0x0                   0000205274    1\n",
       "                                            0479400360    1\n",
       "                                            0607050606    1\n",
       "                                            0742429203    1\n",
       "                                            7564287924    1\n",
       "                                            7760355025    1\n",
       "protax16.exe          0x105ed9              0961354702    1\n",
       "                      0x1a00845             7701962354    1\n",
       "                      0x25cee7              0003325636    1\n",
       "                      0x6e83f0              0910617210    1\n",
       "                      0x6efbe4              0453516542    2\n",
       "                      0x6fb189              0961354702    1\n",
       "                                            7793480834    1\n",
       "                      0x78100e              7780842089    1\n",
       "user32.dll            0x10f18               0455571539    1\n",
       "Name: CrashGUID, dtype: int64"
      ]
     },
     "execution_count": 17,
     "metadata": {},
     "output_type": "execute_result"
    }
   ],
   "source": [
    "\"\"\"\n",
    "Here is a breakdown of the exception module, address number, and customer CAN, \n",
    "along with the number of crashes that occured for each grouping. \n",
    "\"\"\"\n",
    "\n",
    "march_release_df.groupby(['ExceptionModule','const_exception_addr', 'CustNum'])['CrashGUID'].count()"
   ]
  },
  {
   "cell_type": "code",
   "execution_count": 18,
   "metadata": {},
   "outputs": [
    {
     "name": "stdout",
     "output_type": "stream",
     "text": [
      "204                        attempting to open the program\n",
      "247                                          opening file\n",
      "596                        creating PDF file for a client\n",
      "636                                   Opening the program\n",
      "642                        attempting to open the program\n",
      "745                  Inputting password to access program\n",
      "1367    Trying to login to program even after updating...\n",
      "1467                       cannot print to pdf or printer\n",
      "1552    I am temp locked . Tried to use Pro series to ...\n",
      "1661                               will not open, crashed\n",
      "2119                           Deleting file off Homebase\n",
      "2244                        Trying to login into program!\n",
      "2499                     Printing out a K1 reconciliation\n",
      "2609                              CHANGING DIVIDEND INPUT\n",
      "2762                  CHANGING ADDRESS FOR PAGE 1 OF 1040\n",
      "2796                                 Won't print a return\n",
      "3159    Trying to print a client's tax return that was...\n",
      "3744                                Launching the program\n",
      "3910                                      trying to print\n",
      "4109                                    it keeps crashing\n",
      "Name: ProblemDescription, dtype: object\n"
     ]
    }
   ],
   "source": [
    "\"\"\"\n",
    "Display non-empty problem descriptions\n",
    "\"\"\"\n",
    "\n",
    "customer_desc_df = crash_analysis.get_column(march_release_df, 'ProblemDescription')\n",
    "\n",
    "full_desc = crash_analysis.remove_empty(customer_desc_df)\n",
    "print(full_desc)"
   ]
  },
  {
   "cell_type": "code",
   "execution_count": 30,
   "metadata": {},
   "outputs": [
    {
     "name": "stdout",
     "output_type": "stream",
     "text": [
      "total words: 83\n",
      "program    \t:    7 \t [['program'], ['program'], ['program'], ['program'], ['program'], ['program']]\n",
      "open       \t:    5 \t [['open'], ['opening'], ['opening'], ['open'], ['open']]\n",
      "tri        \t:    5 \t [['trying'], ['tried'], ['trying'], ['trying'], ['trying']]\n",
      "print      \t:    5 \t [['print'], ['printing'], ['print'], ['print'], ['print']]\n",
      "file       \t:    3 \t [['file'], ['file'], ['file']]\n",
      "return     \t:    3 \t [['return'], ['return'], ['return']]\n",
      "lock       \t:    3 \t [['locked'], ['lock'], ['locked']]\n",
      "chang      \t:    2 \t [['changing'], ['changing']]\n",
      "login      \t:    2 \t [['login'], ['login']]\n",
      "client     \t:    2 \t [['client'], ['client']]\n",
      "input      \t:    2 \t [['inputting'], ['input']]\n",
      "page       \t:    2 \t [['page'], ['pages']]\n",
      "one        \t:    2 \t [['one'], ['one']]\n",
      "pdf        \t:    2 \t [['pdf'], ['pdf']]\n",
      "crash      \t:    2 \t [['crashed'], ['crashing']]\n",
      "attempt    \t:    2 \t [['attempting'], ['attempting']]\n",
      "password   \t:    2 \t [['password'], ['password']]\n",
      "tax        \t:    2 \t [['tax'], ['tax']]\n",
      "flash      \t:    1 \t ['flash']\n",
      "sinc       \t:    1 \t ['since']\n",
      "april      \t:    1 \t ['april']\n",
      "dividend   \t:    1 \t ['dividend']\n",
      "updat      \t:    1 \t ['updating']\n",
      "keep       \t:    1 \t ['keeps']\n",
      "temp       \t:    1 \t ['temp']\n",
      "seri       \t:    1 \t ['series']\n",
      "cannot     \t:    1 \t ['cannot']\n",
      "1040       \t:    1 \t ['1040']\n",
      "2017       \t:    1 \t ['2017']\n",
      "access     \t:    1 \t ['access']\n"
     ]
    }
   ],
   "source": [
    "\"\"\"\n",
    "Find frequency count (most mentioned root words) from\n",
    "problem descriptions. \n",
    "\"\"\"\n",
    "from crash_analysis.analysis import stem_frequency\n",
    "\n",
    "vocab, sorted_counts, total = stem_frequency(full_desc, print_output=True, top=30)"
   ]
  },
  {
   "cell_type": "code",
   "execution_count": 29,
   "metadata": {},
   "outputs": [
    {
     "name": "stdout",
     "output_type": "stream",
     "text": [
      "StackTrace by Keyterm\n",
      "keyterm: except\n",
      "   at _WinMainCRTStartup()                                                                                                                                                                                                                                                                                                                                                                                                                                                                                                                                                                                                                                     14\n",
      "   at FPDFLIB.FPDFView.FPDF_InitLibrary(IntPtr hInstance)\\n   at FPDFLIB.Wrappers.FPDFViewWrapper.InitLibrary(IntPtr hInstance)\\n   at Printing.FoxitSDKApp..ctor(IFPDFView viewWrapper, IFPDFPPo ppoWrapper)\\n   at Printing.PDFPrinter..ctor(IFPDFView viewWrapper, IFPDFPPo ppoWrapper, IPDFDocFactory pdfDocFactory, IPrintDocumentWrapper printDocWrapper)\\n   at Printing.PDFPrinter..ctor()\\n   at PDFPrinting.PrintPreview(PDFPrinting* , basic_string<char\\,std::char_traits<char>\\,std::allocator<char> >* title, vector<PDFPrintInfoStruct\\,std::allocator<PDFPrintInfoStruct> >* filesToPreview, HWND__* appWindow)\\n   at _WinMainCRTStartup()     1\n",
      "Name: StackTrace, dtype: int64\n",
      "\n",
      "\n"
     ]
    }
   ],
   "source": [
    "\"\"\"\n",
    "Experimental/Not well maintained feature: Associate by Keyterm\n",
    "\"\"\"\n",
    "\n",
    "from crash_analysis.analysis import associate_by_keyterms\n",
    "\n",
    "field_map, key_term_map = associate_by_keyterms(march_release_df, 'Message', field='StackTrace')"
   ]
  },
  {
   "cell_type": "code",
   "execution_count": null,
   "metadata": {
    "collapsed": true
   },
   "outputs": [],
   "source": [
    ""
   ]
  }
 ],
 "metadata": {
  "kernelspec": {
   "display_name": "Python 3",
   "language": "python",
   "name": "python3"
  },
  "language_info": {
   "codemirror_mode": {
    "name": "ipython",
    "version": 3.0
   },
   "file_extension": ".py",
   "mimetype": "text/x-python",
   "name": "python",
   "nbconvert_exporter": "python",
   "pygments_lexer": "ipython3",
   "version": "3.5.4"
  }
 },
 "nbformat": 4,
 "nbformat_minor": 0
}