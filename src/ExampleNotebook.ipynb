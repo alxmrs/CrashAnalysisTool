{
 "cells": [
  {
   "cell_type": "markdown",
   "metadata": {
    "collapsed": true,
    "deletable": true,
    "editable": true
   },
   "source": [
    "# Example Crash Report Notebook\n",
    "\n",
    "Release Date: \n",
    "\n",
    "Target Engine Version (s): \n",
    "\n",
    "Analysis Date: \n",
    "\n",
    "Author: \n",
    "\n"
   ]
  },
  {
   "cell_type": "code",
   "execution_count": 1,
   "metadata": {
    "collapsed": true,
    "deletable": true,
    "editable": true
   },
   "outputs": [],
   "source": [
    "\"\"\"\n",
    "Add module path to sys path -- necessary if running from jupyter notebook and not an IDE\n",
    "\"\"\"\n",
    "\n",
    "import os\n",
    "import sys\n",
    "module_path = os.path.abspath(os.path.join('..'))\n",
    "if module_path not in sys.path:\n",
    "    sys.path.append(module_path)"
   ]
  },
  {
   "cell_type": "code",
   "execution_count": 2,
   "metadata": {
    "collapsed": false,
    "deletable": true,
    "editable": true
   },
   "outputs": [
    {
     "data": {
      "text/plain": [
       "'C:\\\\Dev\\\\CrashAnalysis\\\\CrashAnalysis\\\\tmp\\\\'"
      ]
     },
     "execution_count": 2,
     "metadata": {},
     "output_type": "execute_result"
    }
   ],
   "source": [
    "\"\"\"\n",
    "General import statements\n",
    "\"\"\"\n",
    "import crash_analysis\n",
    "import pandas as pd\n",
    "\n",
    "\"\"\"\n",
    "Constants\n",
    "\"\"\"\n",
    "cache_filename = 'april18data.csv'\n",
    "zipfile_location = os.path.join(module_path, 'CrashAnalysis', 'tmp' + os.sep)\n",
    "cache_location = os.path.join(module_path, 'CrashAnalysis', 'src', 'data' + os.sep, cache_filename)\n",
    "zipfile_location"
   ]
  },
  {
   "cell_type": "code",
   "execution_count": 4,
   "metadata": {
    "collapsed": false,
    "deletable": true,
    "editable": true
   },
   "outputs": [
    {
     "name": "stdout",
     "output_type": "stream",
     "text": [
      "Beginning download of crashes from within range 2017-09-11 10:58:14.871912 - 2017-09-12 10:58:14.871912.\n",
      "About to download 239 records.\n"
     ]
    },
    {
     "ename": "FileNotFoundError",
     "evalue": "[Errno 2] No such file or directory: 'C:\\\\Dev\\\\CrashAnalysis\\\\CrashAnalysis\\\\tmp\\\\3b54d8cb-df5c-4de2-ba2e-497838ddaf10.zip'",
     "output_type": "error",
     "traceback": [
      "\u001b[1;31m---------------------------------------------------------------------------\u001b[0m",
      "\u001b[1;31mRemoteTraceback\u001b[0m                           Traceback (most recent call last)",
      "\u001b[1;31mRemoteTraceback\u001b[0m: \n\"\"\"\nTraceback (most recent call last):\n  File \"C:\\Program Files\\Anaconda2\\envs\\catt-analysis\\lib\\multiprocessing\\pool.py\", line 119, in worker\n    result = (True, func(*args, **kwds))\n  File \"C:\\Program Files\\Anaconda2\\envs\\catt-analysis\\lib\\multiprocessing\\pool.py\", line 47, in starmapstar\n    return list(itertools.starmap(args[0], args[1]))\n  File \"C:\\Dev\\CrashAnalysis\\crash_analysis\\downloader.py\", line 76, in download_file\n    req.urlretrieve(req_url, dest + filename)\n  File \"C:\\Program Files\\Anaconda2\\envs\\catt-analysis\\lib\\urllib\\request.py\", line 198, in urlretrieve\n    tfp = open(filename, 'wb')\nFileNotFoundError: [Errno 2] No such file or directory: 'C:\\\\Dev\\\\CrashAnalysis\\\\CrashAnalysis\\\\tmp\\\\3b54d8cb-df5c-4de2-ba2e-497838ddaf10.zip'\n\"\"\"",
      "\nThe above exception was the direct cause of the following exception:\n",
      "\u001b[1;31mFileNotFoundError\u001b[0m                         Traceback (most recent call last)",
      "\u001b[1;32m<ipython-input-4-77eafd6f3209>\u001b[0m in \u001b[0;36m<module>\u001b[1;34m()\u001b[0m\n\u001b[0;32m     10\u001b[0m \u001b[1;33m\u001b[0m\u001b[0m\n\u001b[0;32m     11\u001b[0m \u001b[1;33m\u001b[0m\u001b[0m\n\u001b[1;32m---> 12\u001b[1;33m \u001b[0mdownload_time_range\u001b[0m\u001b[1;33m(\u001b[0m\u001b[0mstart\u001b[0m\u001b[1;33m,\u001b[0m \u001b[0mend\u001b[0m\u001b[1;33m,\u001b[0m \u001b[0mzipfile_location\u001b[0m\u001b[1;33m)\u001b[0m\u001b[1;33m\u001b[0m\u001b[0m\n\u001b[0m",
      "\u001b[1;32mC:\\Dev\\CrashAnalysis\\crash_analysis\\downloader.py\u001b[0m in \u001b[0;36mdownload_time_range\u001b[1;34m(start, end, dest)\u001b[0m\n\u001b[0;32m     63\u001b[0m \u001b[1;33m\u001b[0m\u001b[0m\n\u001b[0;32m     64\u001b[0m     \u001b[1;32mwith\u001b[0m \u001b[0mPool\u001b[0m\u001b[1;33m(\u001b[0m\u001b[0mprocesses\u001b[0m\u001b[1;33m=\u001b[0m\u001b[0moptimal_thread_count\u001b[0m\u001b[1;33m)\u001b[0m \u001b[1;32mas\u001b[0m \u001b[0mpool\u001b[0m\u001b[1;33m:\u001b[0m\u001b[1;33m\u001b[0m\u001b[0m\n\u001b[1;32m---> 65\u001b[1;33m         \u001b[0mpool\u001b[0m\u001b[1;33m.\u001b[0m\u001b[0mstarmap\u001b[0m\u001b[1;33m(\u001b[0m\u001b[0mdownload_file\u001b[0m\u001b[1;33m,\u001b[0m \u001b[0mzip\u001b[0m\u001b[1;33m(\u001b[0m\u001b[0mmap\u001b[0m\u001b[1;33m(\u001b[0m\u001b[1;32mlambda\u001b[0m \u001b[0mr\u001b[0m\u001b[1;33m:\u001b[0m \u001b[0mr\u001b[0m\u001b[1;33m[\u001b[0m\u001b[1;34m'url'\u001b[0m\u001b[1;33m]\u001b[0m\u001b[1;33m,\u001b[0m \u001b[0mrecords\u001b[0m\u001b[1;33m)\u001b[0m\u001b[1;33m,\u001b[0m \u001b[0mrepeat\u001b[0m\u001b[1;33m(\u001b[0m\u001b[0mclient\u001b[0m\u001b[1;33m.\u001b[0m\u001b[0mticket\u001b[0m\u001b[1;33m)\u001b[0m\u001b[1;33m,\u001b[0m \u001b[0mrepeat\u001b[0m\u001b[1;33m(\u001b[0m\u001b[0mdest\u001b[0m\u001b[1;33m)\u001b[0m\u001b[1;33m)\u001b[0m\u001b[1;33m)\u001b[0m\u001b[1;33m\u001b[0m\u001b[0m\n\u001b[0m\u001b[0;32m     66\u001b[0m \u001b[1;33m\u001b[0m\u001b[0m\n\u001b[0;32m     67\u001b[0m \u001b[1;33m\u001b[0m\u001b[0m\n",
      "\u001b[1;32mC:\\Program Files\\Anaconda2\\envs\\catt-analysis\\lib\\multiprocessing\\pool.py\u001b[0m in \u001b[0;36mstarmap\u001b[1;34m(self, func, iterable, chunksize)\u001b[0m\n\u001b[0;32m    266\u001b[0m         \u001b[0;31m`\u001b[0m\u001b[0mfunc\u001b[0m\u001b[0;31m`\u001b[0m \u001b[1;32mand\u001b[0m \u001b[1;33m(\u001b[0m\u001b[0ma\u001b[0m\u001b[1;33m,\u001b[0m \u001b[0mb\u001b[0m\u001b[1;33m)\u001b[0m \u001b[0mbecomes\u001b[0m \u001b[0mfunc\u001b[0m\u001b[1;33m(\u001b[0m\u001b[0ma\u001b[0m\u001b[1;33m,\u001b[0m \u001b[0mb\u001b[0m\u001b[1;33m)\u001b[0m\u001b[1;33m.\u001b[0m\u001b[1;33m\u001b[0m\u001b[0m\n\u001b[0;32m    267\u001b[0m         '''\n\u001b[1;32m--> 268\u001b[1;33m         \u001b[1;32mreturn\u001b[0m \u001b[0mself\u001b[0m\u001b[1;33m.\u001b[0m\u001b[0m_map_async\u001b[0m\u001b[1;33m(\u001b[0m\u001b[0mfunc\u001b[0m\u001b[1;33m,\u001b[0m \u001b[0miterable\u001b[0m\u001b[1;33m,\u001b[0m \u001b[0mstarmapstar\u001b[0m\u001b[1;33m,\u001b[0m \u001b[0mchunksize\u001b[0m\u001b[1;33m)\u001b[0m\u001b[1;33m.\u001b[0m\u001b[0mget\u001b[0m\u001b[1;33m(\u001b[0m\u001b[1;33m)\u001b[0m\u001b[1;33m\u001b[0m\u001b[0m\n\u001b[0m\u001b[0;32m    269\u001b[0m \u001b[1;33m\u001b[0m\u001b[0m\n\u001b[0;32m    270\u001b[0m     def starmap_async(self, func, iterable, chunksize=None, callback=None,\n",
      "\u001b[1;32mC:\\Program Files\\Anaconda2\\envs\\catt-analysis\\lib\\multiprocessing\\pool.py\u001b[0m in \u001b[0;36mget\u001b[1;34m(self, timeout)\u001b[0m\n\u001b[0;32m    606\u001b[0m             \u001b[1;32mreturn\u001b[0m \u001b[0mself\u001b[0m\u001b[1;33m.\u001b[0m\u001b[0m_value\u001b[0m\u001b[1;33m\u001b[0m\u001b[0m\n\u001b[0;32m    607\u001b[0m         \u001b[1;32melse\u001b[0m\u001b[1;33m:\u001b[0m\u001b[1;33m\u001b[0m\u001b[0m\n\u001b[1;32m--> 608\u001b[1;33m             \u001b[1;32mraise\u001b[0m \u001b[0mself\u001b[0m\u001b[1;33m.\u001b[0m\u001b[0m_value\u001b[0m\u001b[1;33m\u001b[0m\u001b[0m\n\u001b[0m\u001b[0;32m    609\u001b[0m \u001b[1;33m\u001b[0m\u001b[0m\n\u001b[0;32m    610\u001b[0m     \u001b[1;32mdef\u001b[0m \u001b[0m_set\u001b[0m\u001b[1;33m(\u001b[0m\u001b[0mself\u001b[0m\u001b[1;33m,\u001b[0m \u001b[0mi\u001b[0m\u001b[1;33m,\u001b[0m \u001b[0mobj\u001b[0m\u001b[1;33m)\u001b[0m\u001b[1;33m:\u001b[0m\u001b[1;33m\u001b[0m\u001b[0m\n",
      "\u001b[1;31mFileNotFoundError\u001b[0m: [Errno 2] No such file or directory: 'C:\\\\Dev\\\\CrashAnalysis\\\\CrashAnalysis\\\\tmp\\\\3b54d8cb-df5c-4de2-ba2e-497838ddaf10.zip'"
     ]
    }
   ],
   "source": [
    "\"\"\"\n",
    "Download crashes by date range\n",
    "\"\"\"\n",
    "from crash_analysis.downloader import download_time_range\n",
    "import datetime\n",
    "\n",
    "now = datetime.datetime.now()\n",
    "start = now + datetime.timedelta(days=-1)\n",
    "end = now\n",
    "\n",
    "\n",
    "download_time_range(start, end, zipfile_location)"
   ]
  },
  {
   "cell_type": "code",
   "execution_count": 3,
   "metadata": {
    "collapsed": false,
    "deletable": true,
    "editable": true
   },
   "outputs": [],
   "source": [
    "\"\"\"\n",
    "Parse zipfiles into dataframe\n",
    "\"\"\"\n",
    "from crash_analysis.parser import extract_zipfiles, xmldocs_to_dataframe\n",
    "\n",
    "extract_zipfiles(zipfile_location)\n",
    "df = xmldocs_to_dataframe(zipfile_location)\n",
    "\n",
    "df.drop_duplicates(inplace=True)"
   ]
  },
  {
   "cell_type": "code",
   "execution_count": 5,
   "metadata": {
    "collapsed": false,
    "deletable": true,
    "editable": true
   },
   "outputs": [],
   "source": [
    "\"\"\"\n",
    "Save/load dataframe to/from CSV\n",
    "\"\"\"\n",
    "from crash_analysis import read_csv\n",
    "\n",
    "new_data = True\n",
    "\n",
    "\n",
    "if new_data:\n",
    "    df.to_csv(cache_location, encoding='utf-8')\n",
    "else:\n",
    "    df = read_csv(cache_location)"
   ]
  },
  {
   "cell_type": "code",
   "execution_count": 4,
   "metadata": {
    "collapsed": false,
    "deletable": true,
    "editable": true
   },
   "outputs": [
    {
     "name": "stdout",
     "output_type": "stream",
     "text": [
      "['ACCDT_Field', 'Active_ClientFileName', 'Active_Field', 'Active_Form', 'Active_FormsetID', 'Active_FormsetVersion', 'AppName', 'AppVersion', 'BasWin15.INI', 'BasWin16.INI', 'Batch_ClientFileName', 'CrashGUID', 'CrashRpt', 'Current_Calcsection', 'CustNum', 'CustomProps', 'DataFileCount', 'ExceptionAddress', 'ExceptionCode', 'ExceptionModule', 'ExceptionModuleBase', 'ExceptionModuleVersion', 'ExceptionType', 'FileList', 'FormsPrinter', 'GUIResourceCount', 'GeoLocation', 'ImageName', 'InnerException', 'InstallType', 'InvParamExpression', 'InvParamFile', 'InvParamFunction', 'InvParamLine', 'Last_Calcsection', 'ManagedException', 'ManagedException.txt', 'MemoryUsageKbytes', 'Message', 'OSIs64Bit', 'OpenHandleCount', 'OperatingSystem', 'ProWin15.INI', 'ProWin16.INI', 'ProblemDescription', 'Source', 'StackTrace', 'SystemTimeUTC', 'TimeStamp', 'TrustedCustomerException.txt', 'WorkStationName', 'WorkStationType', 'crashdump.dmp', 'crashrpt.xml', 'empty']\n",
      "\n",
      "2016100028     8520\n",
      "2016120014     1329\n",
      "2016110011      251\n",
      "2015100026       63\n",
      "2015100018       30\n",
      "201608003         9\n",
      "20150900102       8\n",
      "2016070012        7\n",
      "2015100011        5\n",
      "201609003         4\n",
      "2015030071        3\n",
      "2016050015        2\n",
      "2016040014        2\n",
      "2016030021        2\n",
      "2015080023        2\n",
      "201507004         1\n",
      "201606008         1\n",
      "Name: AppVersion, dtype: int64\n",
      "\n",
      "Number of crashes: 10240\n"
     ]
    }
   ],
   "source": [
    "\"\"\"\n",
    "Get metadata about dataframe\n",
    "\"\"\"\n",
    "col_names = crash_analysis.get_columns(df)\n",
    "versions = df['AppVersion'].value_counts()\n",
    "num_crashes = len(df)\n",
    "\n",
    "\n",
    "print(col_names)\n",
    "print()\n",
    "print(versions)\n",
    "print()\n",
    "print('Number of crashes: {0}'.format(num_crashes))"
   ]
  },
  {
   "cell_type": "code",
   "execution_count": 12,
   "metadata": {
    "collapsed": false,
    "deletable": true,
    "editable": true
   },
   "outputs": [
    {
     "data": {
      "text/plain": [
       "814"
      ]
     },
     "execution_count": 12,
     "metadata": {},
     "output_type": "execute_result"
    }
   ],
   "source": [
    "from crash_analysis import filter_dataframe\n",
    "\n",
    "march_release_df = filter_dataframe(df, AppVersion=2016120014)\n",
    "len(march_release_df)"
   ]
  },
  {
   "cell_type": "code",
   "execution_count": 14,
   "metadata": {
    "collapsed": false,
    "deletable": true,
    "editable": true
   },
   "outputs": [
    {
     "data": {
      "text/plain": [
       "AppName                         InstallType  OperatingSystem                                          \n",
       "ProSeries - 2016                Network      Windows 10 Enterprise N Build 14393                            1\n",
       "                                             Windows 10 Home Build 14393                                   39\n",
       "                                             Windows 10 Pro Build 10240                                     1\n",
       "                                             Windows 10 Pro Build 10586                                     1\n",
       "                                             Windows 10 Pro Build 14393                                    64\n",
       "                                             Windows 10 Pro Build 15063                                     1\n",
       "                                             Windows 7 Enterprise Build 7601                                1\n",
       "                                             Windows 7 Home Premium Build 7601                             11\n",
       "                                             Windows 7 Home Premium Build 7601 Service Pack 1               1\n",
       "                                             Windows 7 Professional Build 7601                            146\n",
       "                                             Windows 7 Professional Build 7601 Service Pack 1               6\n",
       "                                             Windows 7 Ultimate Build 7600                                  3\n",
       "                                             Windows 7 Ultimate Build 7601                                  7\n",
       "                                             Windows 7 Ultimate Build 7601 Service Pack 1                   1\n",
       "                                             Windows 8 Pro Build 9200                                       4\n",
       "                                             Windows 8.1 Build 9600                                        11\n",
       "                                             Windows 8.1 Connected Build 9600                               1\n",
       "                                             Windows 8.1 Pro Build 9600                                     7\n",
       "                                             Windows 8.1 Pro with Media Center Build 9600                   2\n",
       "                                             Windows Server 2008 R2 Enterprise Build 7601                   3\n",
       "                                             Windows Server 2008 R2 Standard Build 7601                     3\n",
       "                                             Windows Server 2012 R2 Standard Build 9600                     1\n",
       "                                Standalone   Windows 10 Enterprise Build 14393                              3\n",
       "                                             Windows 10 Home Build 10586                                    2\n",
       "                                             Windows 10 Home Build 14393                                   67\n",
       "                                             Windows 10 Pro Build 10586                                     2\n",
       "                                             Windows 10 Pro Build 14393                                    39\n",
       "                                             Windows 7 Enterprise Build 7601                                1\n",
       "                                             Windows 7 Enterprise Build 7601 Service Pack 1                 1\n",
       "                                             Windows 7 Home Premium Build 7601                             20\n",
       "                                                                                                         ... \n",
       "                                             Windows 8.1 Build 9600                                         9\n",
       "                                             Windows 8.1 Connected Build 9600                               1\n",
       "                                             Windows 8.1 Pro Build 9600                                     5\n",
       "                                             Windows Server 2008 R2 Datacenter Build 7601                   2\n",
       "                                             Windows Server 2012 R2 Standard Build 9600                     1\n",
       "                                             Windows Server 2012 Standard Build 9200                        2\n",
       "                                             Windows Vista (TM) Home Basic Build 6002 Service Pack 2        2\n",
       "                                             Windows Vista (TM) Home Premium Build 6002 Service Pack 2      1\n",
       "ProSeries Basic Edition - 2016  Standalone   Microsoft Windows XP Build 2600 Service Pack 2                 1\n",
       "                                             Windows (TM) Vista Home Premium Build 6002                     1\n",
       "                                             Windows 10 Home Build 10586                                    1\n",
       "                                             Windows 10 Home Build 14393                                   41\n",
       "                                             Windows 10 Pro Build 10586                                     1\n",
       "                                             Windows 10 Pro Build 14393                                    12\n",
       "                                             Windows 7 Home Premium Build 7601                             73\n",
       "                                             Windows 7 Home Premium Build 7601 Service Pack 1              14\n",
       "                                             Windows 7 Professional Build 7601                             85\n",
       "                                             Windows 7 Professional Build 7601 Service Pack 1              15\n",
       "                                             Windows 7 Ultimate Build 7601                                 13\n",
       "                                             Windows 7 Ultimate Build 7601 Service Pack 1                   2\n",
       "                                             Windows 8 Pro Build 9200                                       2\n",
       "                                             Windows 8.1 Build 9600                                         8\n",
       "                                             Windows 8.1 Enterprise Build 9600                              3\n",
       "                                             Windows 8.1 Pro Build 9600                                     1\n",
       "                                             Windows 8.1 Pro with Media Center Build 9600                   1\n",
       "                                             Windows Server 2008 R2 Standard Build 7601                     1\n",
       "                                             Windows Vista (TM) Business Build 6002 Service Pack 2          1\n",
       "                                             Windows Vista (TM) Home Basic Build 6002 Service Pack 2        4\n",
       "                                             Windows Vista (TM) Home Premium Build 6002 Service Pack 2      3\n",
       "                                             Windows Vista (TM) Ultimate Build 6002 Service Pack 2          1\n",
       "Name: CrashGUID, dtype: int64"
      ]
     },
     "execution_count": 14,
     "metadata": {},
     "output_type": "execute_result"
    }
   ],
   "source": [
    "march_release_df.groupby(['AppName', 'InstallType', 'OperatingSystem'])['CrashGUID'].count()"
   ]
  },
  {
   "cell_type": "code",
   "execution_count": 24,
   "metadata": {
    "collapsed": false,
    "deletable": true,
    "editable": true
   },
   "outputs": [
    {
     "data": {
      "text/plain": [
       "nan                                    213\n",
       "protax16.exe                           148\n",
       "KERNELBASE.dll                         135\n",
       "AcroPDFImpl.dll                         90\n",
       "ntdll.dll                               69\n",
       "c4dll.dll                               69\n",
       "CrashRpt1403.dll                        28\n",
       "user32.dll                              15\n",
       "TerR.dll                                11\n",
       "mfc140.dll                               6\n",
       "ucrtbase.dll                             5\n",
       "Rep32.dll                                5\n",
       "ieframe.dll                              4\n",
       "shell32.dll                              2\n",
       "PSTPRX32.DLL                             2\n",
       "mso20win32client.dll                     2\n",
       "Flash32_25_0_0_148.ocx                   1\n",
       "ole32.dll                                1\n",
       "mshtml.dll                               1\n",
       "PSLogR.DLL                               1\n",
       "msxml6.dll                               1\n",
       "kernel32.dll                             1\n",
       "tv_w32.dll                               1\n",
       "QBInstanceFinder.dll                     1\n",
       "EMSMDB32.DLL                             1\n",
       "System.Runtime.Serialization.ni.dll      1\n",
       "Name: ExceptionModule, dtype: int64"
      ]
     },
     "execution_count": 24,
     "metadata": {},
     "output_type": "execute_result"
    }
   ],
   "source": [
    "def get_last_in_path(path_string):\n",
    "    return str(path_string).split('\\\\')[-1]\n",
    "\n",
    "march_release_df['ExceptionModule'].apply(get_last_in_path).value_counts()"
   ]
  },
  {
   "cell_type": "code",
   "execution_count": 27,
   "metadata": {
    "collapsed": false,
    "deletable": true,
    "editable": true
   },
   "outputs": [
    {
     "data": {
      "text/plain": [
       "0000216971    2\n",
       "0006404461    2\n",
       "0297743451    2\n",
       "7755643535    1\n",
       "0478204787    1\n",
       "0574525101    1\n",
       "0032650866    1\n",
       "7700765181    1\n",
       "0768698052    1\n",
       "7701116789    1\n",
       "7771106389    1\n",
       "0829781505    1\n",
       "7770424368    1\n",
       "0000178935    1\n",
       "0606910107    1\n",
       "0259128155    1\n",
       "0004373593    1\n",
       "0606907178    1\n",
       "0276439783    1\n",
       "0260458765    1\n",
       "0000550391    1\n",
       "0357795244    1\n",
       "0111723507    1\n",
       "0000999641    1\n",
       "0755622718    1\n",
       "0607152303    1\n",
       "0271699993    1\n",
       "0295164644    1\n",
       "0310013321    1\n",
       "0606995991    1\n",
       "7702384869    1\n",
       "7702764938    1\n",
       "0000957761    1\n",
       "7770838272    1\n",
       "Name: CustNum, dtype: int64"
      ]
     },
     "execution_count": 27,
     "metadata": {},
     "output_type": "execute_result"
    }
   ],
   "source": [
    "march_release_df[march_release_df['ExceptionAddress'] == '0x100427a3']['CustNum'].value_counts()"
   ]
  },
  {
   "cell_type": "code",
   "execution_count": null,
   "metadata": {
    "collapsed": true,
    "deletable": true,
    "editable": true
   },
   "outputs": [],
   "source": []
  }
 ],
 "metadata": {
  "kernelspec": {
   "display_name": "Python 3",
   "language": "python",
   "name": "python3"
  },
  "language_info": {
   "codemirror_mode": {
    "name": "ipython",
    "version": 3
   },
   "file_extension": ".py",
   "mimetype": "text/x-python",
   "name": "python",
   "nbconvert_exporter": "python",
   "pygments_lexer": "ipython3",
   "version": "3.5.3"
  }
 },
 "nbformat": 4,
 "nbformat_minor": 0
}
