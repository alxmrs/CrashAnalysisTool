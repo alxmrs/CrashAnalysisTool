{
 "cells": [
  {
   "cell_type": "markdown",
   "metadata": {
    "collapsed": true,
    "deletable": true,
    "editable": true
   },
   "source": [
    "# Example Crash Report Notebook\n",
    "\n",
    "Release Date: \n",
    "\n",
    "Target Engine Version (s): \n",
    "\n",
    "Analysis Date: \n",
    "\n",
    "Author: \n",
    "\n"
   ]
  },
  {
   "cell_type": "code",
   "execution_count": 1,
   "metadata": {
    "collapsed": true,
    "deletable": true,
    "editable": true
   },
   "outputs": [],
   "source": [
    "\"\"\"\n",
    "Add module path to sys path -- necessary if running from jupyter notebook and not an IDE\n",
    "\"\"\"\n",
    "\n",
    "import os\n",
    "import sys\n",
    "module_path = os.path.abspath(os.path.join('..'))\n",
    "if module_path not in sys.path:\n",
    "    sys.path.append(module_path)"
   ]
  },
  {
   "cell_type": "code",
   "execution_count": 3,
   "metadata": {
    "collapsed": false,
    "deletable": true,
    "editable": true
   },
   "outputs": [
    {
     "data": {
      "text/plain": [
       "'C:\\\\Dev\\\\CrashAnalysis\\\\tmp\\\\'"
      ]
     },
     "execution_count": 3,
     "metadata": {},
     "output_type": "execute_result"
    }
   ],
   "source": [
    "\"\"\"\n",
    "General import statements\n",
    "\"\"\"\n",
    "import crash_analysis\n",
    "import pandas as pd\n",
    "\n",
    "\"\"\"\n",
    "Constants\n",
    "\"\"\"\n",
    "cache_filename = 'betacrashes_1006.csv'\n",
    "zipfile_location = os.path.join(module_path, 'tmp' + os.sep)\n",
    "cache_location = os.path.join(module_path, 'src', 'data' + os.sep, cache_filename)\n",
    "zipfile_location"
   ]
  },
  {
   "cell_type": "code",
   "execution_count": 4,
   "metadata": {
    "collapsed": false,
    "deletable": true,
    "editable": true
   },
   "outputs": [
    {
     "name": "stdout",
     "output_type": "stream",
     "text": [
      "About to download 33 records.\n"
     ]
    }
   ],
   "source": [
    "\"\"\"\n",
    "Download crashes by date range\n",
    "\"\"\"\n",
    "from crash_analysis.downloader import download_time_range\n",
    "import datetime\n",
    "\n",
    "now = datetime.datetime.now()\n",
    "start = now + datetime.timedelta(days=-1)\n",
    "end = now\n",
    "\n",
    "\n",
    "download_time_range(start, end, zipfile_location)"
   ]
  },
  {
   "cell_type": "code",
   "execution_count": 5,
   "metadata": {
    "collapsed": false,
    "deletable": true,
    "editable": true
   },
   "outputs": [
    {
     "name": "stdout",
     "output_type": "stream",
     "text": [
      "BadZipFile: C:\\Dev\\CrashAnalysis\\tmp\\37e77ba2-921a-4634-b6c1-46ddebbe2761.zip\n"
     ]
    }
   ],
   "source": [
    "\"\"\"\n",
    "Parse zipfiles into dataframe\n",
    "\"\"\"\n",
    "from crash_analysis.parser import extract_zipfiles, xmldocs_to_dataframe\n",
    "\n",
    "extract_zipfiles(zipfile_location)\n",
    "df = xmldocs_to_dataframe(zipfile_location)\n",
    "\n",
    "df.drop_duplicates(inplace=True)"
   ]
  },
  {
   "cell_type": "code",
   "execution_count": 6,
   "metadata": {
    "collapsed": false,
    "deletable": true,
    "editable": true
   },
   "outputs": [],
   "source": [
    "\"\"\"\n",
    "Save/load dataframe to/from CSV\n",
    "\"\"\"\n",
    "from crash_analysis import read_csv\n",
    "\n",
    "file_exists = os.path.isfile(cache_location)\n",
    "\n",
    "\n",
    "if file_exists:\n",
    "    df = read_csv(cache_location)\n",
    "else:\n",
    "    df.to_csv(cache_location, encoding='utf-8')"
   ]
  },
  {
   "cell_type": "code",
   "execution_count": 8,
   "metadata": {
    "collapsed": false,
    "deletable": true,
    "editable": true
   },
   "outputs": [
    {
     "name": "stdout",
     "output_type": "stream",
     "text": [
      "['Unnamed: 0', 'ACCDT_Field', 'Active_ClientFileName', 'Active_Field', 'Active_Form', 'Active_FormsetID', 'Active_FormsetVersion', 'AppName', 'AppVersion', 'BasWin15.INI', 'BasWin16.INI', 'BasWin17.INI', 'Batch_ClientFileName', 'CrashGUID', 'CrashRpt', 'Current_Calcsection', 'CustNum', 'CustomProps', 'DataFileCount', 'ExceptionAddress', 'ExceptionCode', 'ExceptionModule', 'ExceptionModuleBase', 'ExceptionModuleVersion', 'ExceptionType', 'FileList', 'FormsPrinter', 'GUIResourceCount', 'GeoLocation', 'ImageName', 'InnerException', 'InstallType', 'InvParamExpression', 'InvParamFile', 'InvParamFunction', 'InvParamLine', 'Last_Calcsection', 'ManagedException', 'ManagedException.txt', 'MemoryUsageKbytes', 'Message', 'OSIs64Bit', 'OpenHandleCount', 'OperatingSystem', 'ProWin15.INI', 'ProWin16.INI', 'ProWin17.INI', 'ProblemDescription', 'Source', 'StackTrace', 'SystemTimeUTC', 'TimeStamp', 'TrustedCustomerException.txt', 'WorkStationName', 'WorkStationType', 'crashdump.dmp', 'crashrpt.xml', 'empty']\n",
      "\n",
      "2016150023.0     1472\n",
      "2016150024.0     1203\n",
      "2016140020.0      504\n",
      "2015100026.0      248\n",
      "201613007.0        96\n",
      "2015100018.0       57\n",
      "2016120014.0       52\n",
      "2017020017.0       29\n",
      "2015030071.0       26\n",
      "2016110011.0       25\n",
      "2016030021.0       22\n",
      "20170100301.0      17\n",
      "20150900102.0      12\n",
      "20170100333.0      11\n",
      "20170100324.0      10\n",
      "201608003.0         9\n",
      "2016100028.0        8\n",
      "2015080023.0        7\n",
      "201609003.0         6\n",
      "20170100338.0       6\n",
      "2016040014.0        4\n",
      "2016070012.0        3\n",
      "20170100241.0       3\n",
      "201606008.0         3\n",
      "20170100374.0       2\n",
      "20170100346.0       2\n",
      "2015040017.0        2\n",
      "2016140015.0        2\n",
      "20170100361.0       1\n",
      "nan                 1\n",
      "201614007.0         1\n",
      "20170100358.0       1\n",
      "2015100011.0        1\n",
      "2016140014.0        1\n",
      "2015100017.0        1\n",
      "20170100175.0       1\n",
      "20170100341.0       1\n",
      "2016050015.0        1\n",
      "20170100266.0       1\n",
      "Name: AppVersion, dtype: int64\n",
      "\n",
      "Number of crashes: 3852\n"
     ]
    }
   ],
   "source": [
    "\"\"\"\n",
    "Get metadata about dataframe\n",
    "\"\"\"\n",
    "col_names = crash_analysis.get_columns(df)\n",
    "versions = df['AppVersion'].apply(str)\n",
    "versions = versions.value_counts()\n",
    "num_crashes = len(df)\n",
    "\n",
    "\n",
    "print(col_names)\n",
    "print()\n",
    "print(versions)\n",
    "print()\n",
    "print('Number of crashes: {0}'.format(num_crashes))"
   ]
  },
  {
   "cell_type": "code",
   "execution_count": 10,
   "metadata": {
    "collapsed": false,
    "deletable": true,
    "editable": true
   },
   "outputs": [
    {
     "data": {
      "text/plain": [
       "52"
      ]
     },
     "execution_count": 10,
     "metadata": {},
     "output_type": "execute_result"
    }
   ],
   "source": [
    "\"\"\"\n",
    "Filter all crashes by app version. \n",
    "Output the number of crashes in this version. \n",
    "\"\"\"\n",
    "\n",
    "from crash_analysis import filter_dataframe\n",
    "\n",
    "march_release_df = filter_dataframe(df, AppVersion=2016120014)\n",
    "len(march_release_df)"
   ]
  },
  {
   "cell_type": "code",
   "execution_count": 11,
   "metadata": {
    "collapsed": false,
    "deletable": true,
    "editable": true
   },
   "outputs": [
    {
     "data": {
      "text/plain": [
       "AppName                         InstallType  OperatingSystem                                       \n",
       "ProSeries - 2016                Network      Windows 10 Home Build 14393                               1\n",
       "                                             Windows 7 Professional Build 7601                         6\n",
       "                                             Windows Server 2012 Essentials Build 9200                 1\n",
       "                                             Windows Server 2012 R2 Standard Build 9600                1\n",
       "                                             Windows Small Business Server 2011 Standard Build 7601    2\n",
       "                                Standalone   Windows 10 Home Build 14393                               2\n",
       "                                             Windows 10 Home Build 15063                               4\n",
       "                                             Windows 10 Pro Build 15063                                2\n",
       "                                             Windows 7 Professional Build 7601                         9\n",
       "                                             Windows 8.1 Build 9600                                    1\n",
       "                                             Windows 8.1 Pro Build 9600                                1\n",
       "ProSeries Basic Edition - 2016  Standalone   Windows 10 Enterprise Build 14393                         1\n",
       "                                             Windows 10 Home Build 10586                               1\n",
       "                                             Windows 10 Home Build 14393                               2\n",
       "                                             Windows 10 Home Build 15063                               1\n",
       "                                             Windows 10 Pro Build 10586                                1\n",
       "                                             Windows 10 Pro Build 14393                                2\n",
       "                                             Windows 10 Pro Build 15063                                3\n",
       "                                             Windows 7 Home Premium Build 7601                         2\n",
       "                                             Windows 7 Professional Build 7601                         6\n",
       "                                             Windows 7 Ultimate Build 7601 Service Pack 1              1\n",
       "                                             Windows 8.1 Build 9600                                    2\n",
       "Name: CrashGUID, dtype: int64"
      ]
     },
     "execution_count": 11,
     "metadata": {},
     "output_type": "execute_result"
    }
   ],
   "source": [
    "\"\"\"\n",
    "Printed below will be a breakdown of the user's environment\n",
    "\"\"\"\n",
    "\n",
    "march_release_df.groupby(['AppName', 'InstallType', 'OperatingSystem'])['CrashGUID'].count()"
   ]
  },
  {
   "cell_type": "code",
   "execution_count": 12,
   "metadata": {
    "collapsed": false,
    "deletable": true,
    "editable": true
   },
   "outputs": [
    {
     "data": {
      "text/plain": [
       "KERNELBASE.dll          18\n",
       "nan                     16\n",
       "protax16.exe             6\n",
       "iebho.dll                3\n",
       "c4dll.dll                2\n",
       "fcsmapi.dll              2\n",
       "CrashRpt1403.dll         2\n",
       "mfc140.dll               1\n",
       "user32.dll               1\n",
       "mso20win32client.dll     1\n",
       "Name: ExceptionModule, dtype: int64"
      ]
     },
     "execution_count": 12,
     "metadata": {},
     "output_type": "execute_result"
    }
   ],
   "source": [
    "\"\"\"\n",
    "Printed below will be the dlls or executables that were the sources \n",
    "of a crash, and how many caused a crash.\n",
    "\"\"\"\n",
    "def get_last_in_path(path_string):\n",
    "    return str(path_string).split('\\\\')[-1]\n",
    "\n",
    "march_release_df['ExceptionModule'] = march_release_df['ExceptionModule'].apply(get_last_in_path)\n",
    "march_release_df['ExceptionModule'].value_counts()"
   ]
  },
  {
   "cell_type": "code",
   "execution_count": 13,
   "metadata": {
    "collapsed": false,
    "deletable": true,
    "editable": true
   },
   "outputs": [],
   "source": [
    "\"\"\"\n",
    "Get actual addresses of exceptions (subtract base address from exception address)\n",
    "\"\"\"\n",
    "def add_const_ex_col(df):\n",
    "    to_base_16 = lambda x: int(x, 16) if not pd.isnull(x) else 0\n",
    "    ex1 = df['ExceptionAddress'].apply(to_base_16)\n",
    "    ex0 = df['ExceptionModuleBase'].apply(to_base_16)\n",
    "    df['const_exception_addr'] = ex1 - ex0\n",
    "    df['const_exception_addr'] = df['const_exception_addr'].apply(hex)\n",
    "    \n",
    "add_const_ex_col(march_release_df)"
   ]
  },
  {
   "cell_type": "code",
   "execution_count": 14,
   "metadata": {
    "collapsed": false,
    "deletable": true,
    "editable": true
   },
   "outputs": [
    {
     "data": {
      "text/plain": [
       "0xc54f                6\n",
       "0x0                   6\n",
       "0xda9f2               5\n",
       "0xeb832               3\n",
       "0x38f2                2\n",
       "0x22bab               2\n",
       "0x427a3               2\n",
       "0x2fa0                2\n",
       "0x6fb189              2\n",
       "0x6e0077              1\n",
       "0x6c0069              1\n",
       "0x790053              1\n",
       "0x17f2a               1\n",
       "0x51d0000             1\n",
       "0x11d4d               1\n",
       "0xffffffffd2e8013a    1\n",
       "0x21ccf48             1\n",
       "0x105ed9              1\n",
       "0x9fa6                1\n",
       "0x630000              1\n",
       "0x25cee7              1\n",
       "0x1a00845             1\n",
       "0x240119              1\n",
       "0x78100e              1\n",
       "0x22bbb               1\n",
       "0x77                  1\n",
       "0x15608               1\n",
       "0x10c48300            1\n",
       "0xbdae8               1\n",
       "0x10f18               1\n",
       "0x5bd330              1\n",
       "Name: const_exception_addr, dtype: int64"
      ]
     },
     "execution_count": 14,
     "metadata": {},
     "output_type": "execute_result"
    }
   ],
   "source": [
    "\"\"\"\n",
    "These are the machine-agnostic exception addresses for all of the crashes, \n",
    "along with how many of this type of exception occurred\n",
    "\"\"\"\n",
    "march_release_df['const_exception_addr'].value_counts()"
   ]
  },
  {
   "cell_type": "code",
   "execution_count": null,
   "metadata": {
    "collapsed": true
   },
   "outputs": [],
   "source": [
    "\"\"\"\n",
    "Here is a breakdown of the exception module, address number, and customer CAN, \n",
    "along with the number of crashes that occured for each grouping. \n",
    "\"\"\"\n",
    "\n",
    "march_release_df.groupby([ 'ExceptionModuleName','const_exception_addr', 'CustNum'])['CrashGUID'].count()"
   ]
  },
  {
   "cell_type": "code",
   "execution_count": 17,
   "metadata": {
    "collapsed": false
   },
   "outputs": [
    {
     "name": "stdout",
     "output_type": "stream",
     "text": [
      "162                        attempting to open the program\n",
      "196                                          opening file\n",
      "463                        creating PDF file for a client\n",
      "492                                   Opening the program\n",
      "497                        attempting to open the program\n",
      "578                  Inputting password to access program\n",
      "1066    Trying to login to program even after updating...\n",
      "1206    I am temp locked . Tried to use Pro series to ...\n",
      "1295                               will not open, crashed\n",
      "1653                           Deleting file off Homebase\n",
      "1747                        Trying to login into program!\n",
      "1951                     Printing out a K1 reconciliation\n",
      "2153                  CHANGING ADDRESS FOR PAGE 1 OF 1040\n",
      "2468    Trying to print a client's tax return that was...\n",
      "2919                                Launching the program\n",
      "3057                                      trying to print\n",
      "3227                                    it keeps crashing\n",
      "Name: ProblemDescription, dtype: object\n"
     ]
    }
   ],
   "source": [
    "\"\"\"\n",
    "Display non-empty problem descriptions\n",
    "\"\"\"\n",
    "\n",
    "customer_desc_df = crash_analysis.get_column(march_release_df, 'ProblemDescription')\n",
    "\n",
    "full_desc = crash_analysis.remove_empty(customer_desc_df)\n",
    "print(full_desc)"
   ]
  },
  {
   "cell_type": "code",
   "execution_count": 18,
   "metadata": {
    "collapsed": false
   },
   "outputs": [
    {
     "name": "stdout",
     "output_type": "stream",
     "text": [
      "total words: 74\n",
      "program    \t:    7 \t [['program'], ['program'], ['program'], ['program'], ['program'], ['program']]\n",
      "tri        \t:    5 \t [['trying'], ['tried'], ['trying'], ['trying'], ['trying']]\n",
      "open       \t:    5 \t [['open'], ['opening'], ['opening'], ['open'], ['open']]\n",
      "print      \t:    3 \t [['printing'], ['print'], ['print']]\n",
      "file       \t:    3 \t [['file'], ['file'], ['file']]\n",
      "lock       \t:    3 \t [['locked'], ['lock'], ['locked']]\n",
      "password   \t:    2 \t [['password'], ['password']]\n",
      "page       \t:    2 \t [['page'], ['pages']]\n",
      "attempt    \t:    2 \t [['attempting'], ['attempting']]\n",
      "crash      \t:    2 \t [['crashed'], ['crashing']]\n",
      "client     \t:    2 \t [['client'], ['client']]\n",
      "one        \t:    2 \t [['one'], ['one']]\n",
      "login      \t:    2 \t [['login'], ['login']]\n",
      "tax        \t:    2 \t [['tax'], ['tax']]\n",
      "return     \t:    2 \t [['return'], ['return']]\n",
      "input      \t:    1 \t ['inputting']\n",
      "approxim   \t:    1 \t ['approximately']\n",
      "launch     \t:    1 \t ['launching']\n",
      "1          \t:    1 \t ['1']\n",
      "chang      \t:    1 \t ['changing']\n",
      "k1         \t:    1 \t ['k1']\n",
      "even       \t:    1 \t ['even']\n",
      "temp       \t:    1 \t ['temp']\n",
      "put        \t:    1 \t ['put']\n",
      "creat      \t:    1 \t ['creating']\n",
      "60         \t:    1 \t ['60']\n",
      "pdf        \t:    1 \t ['pdf']\n",
      "address    \t:    1 \t ['address']\n",
      "sinc       \t:    1 \t ['since']\n",
      "delet      \t:    1 \t ['deleting']\n"
     ]
    },
    {
     "data": {
      "text/plain": [
       "([('program', 7),\n",
       "  ('tri', 5),\n",
       "  ('open', 5),\n",
       "  ('print', 3),\n",
       "  ('file', 3),\n",
       "  ('lock', 3),\n",
       "  ('password', 2),\n",
       "  ('page', 2),\n",
       "  ('attempt', 2),\n",
       "  ('crash', 2),\n",
       "  ('client', 2),\n",
       "  ('one', 2),\n",
       "  ('login', 2),\n",
       "  ('tax', 2),\n",
       "  ('return', 2),\n",
       "  ('input', 1),\n",
       "  ('approxim', 1),\n",
       "  ('launch', 1),\n",
       "  ('1', 1),\n",
       "  ('chang', 1),\n",
       "  ('k1', 1),\n",
       "  ('even', 1),\n",
       "  ('temp', 1),\n",
       "  ('put', 1),\n",
       "  ('creat', 1),\n",
       "  ('60', 1),\n",
       "  ('pdf', 1),\n",
       "  ('address', 1),\n",
       "  ('sinc', 1),\n",
       "  ('delet', 1),\n",
       "  ('done', 1),\n",
       "  ('corerect', 1),\n",
       "  ('flash', 1),\n",
       "  ('homebas', 1),\n",
       "  ('reconcili', 1),\n",
       "  ('updat', 1),\n",
       "  ('2017', 1),\n",
       "  ('appar', 1),\n",
       "  ('use', 1),\n",
       "  ('seri', 1),\n",
       "  ('april', 1),\n",
       "  ('1040', 1),\n",
       "  ('access', 1),\n",
       "  ('keep', 1),\n",
       "  ('pro', 1)],\n",
       " 74,\n",
       "                     words\n",
       " attempt        attempting\n",
       " open                 open\n",
       " program           program\n",
       " open              opening\n",
       " file                 file\n",
       " creat            creating\n",
       " pdf                   pdf\n",
       " file                 file\n",
       " client             client\n",
       " open              opening\n",
       " program           program\n",
       " attempt        attempting\n",
       " open                 open\n",
       " program           program\n",
       " input           inputting\n",
       " password         password\n",
       " access             access\n",
       " program           program\n",
       " tri                trying\n",
       " login               login\n",
       " program           program\n",
       " even                 even\n",
       " updat            updating\n",
       " flash               flash\n",
       " temp                 temp\n",
       " lock               locked\n",
       " tri                 tried\n",
       " use                   use\n",
       " pro                   pro\n",
       " seri               series\n",
       " ...                   ...\n",
       " open                 open\n",
       " crash             crashed\n",
       " delet            deleting\n",
       " file                 file\n",
       " homebas          homebase\n",
       " tri                trying\n",
       " login               login\n",
       " program           program\n",
       " print            printing\n",
       " k1                     k1\n",
       " reconcili  reconciliation\n",
       " chang            changing\n",
       " address           address\n",
       " page                 page\n",
       " 1                       1\n",
       " 1040                 1040\n",
       " tri                trying\n",
       " print               print\n",
       " client             client\n",
       " tax                   tax\n",
       " return             return\n",
       " approxim    approximately\n",
       " 60                     60\n",
       " page                pages\n",
       " launch          launching\n",
       " program           program\n",
       " tri                trying\n",
       " print               print\n",
       " keep                keeps\n",
       " crash            crashing\n",
       " \n",
       " [74 rows x 1 columns])"
      ]
     },
     "execution_count": 18,
     "metadata": {},
     "output_type": "execute_result"
    }
   ],
   "source": [
    "\"\"\"\n",
    "Find frequency count (most mentioned root words) from\n",
    "problem descriptions. \n",
    "\"\"\"\n",
    "from crash_analysis.analysis import stem_frequency\n",
    "\n",
    "stem_frequency(full_desc)\n"
   ]
  },
  {
   "cell_type": "code",
   "execution_count": null,
   "metadata": {
    "collapsed": true
   },
   "outputs": [],
   "source": []
  }
 ],
 "metadata": {
  "kernelspec": {
   "display_name": "Python 3",
   "language": "python",
   "name": "python3"
  },
  "language_info": {
   "codemirror_mode": {
    "name": "ipython",
    "version": 3
   },
   "file_extension": ".py",
   "mimetype": "text/x-python",
   "name": "python",
   "nbconvert_exporter": "python",
   "pygments_lexer": "ipython3",
   "version": "3.5.3"
  }
 },
 "nbformat": 4,
 "nbformat_minor": 0
}
