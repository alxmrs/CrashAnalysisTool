{
 "cells": [
  {
   "cell_type": "markdown",
   "metadata": {
    "collapsed": true
   },
   "source": [
    "# Crash Report March 8, 2017 Release\n",
    "## First Recorded 3/9/17\n",
    "\n",
    "\n",
    "\n",
    "Version: 2016100028"
   ]
  },
  {
   "cell_type": "code",
   "execution_count": 2,
   "metadata": {
    "collapsed": true
   },
   "outputs": [],
   "source": [
    "\"\"\"\n",
    "Add module path to sys path -- necessary if running from jupyter notebook an not an IDE\n",
    "\"\"\"\n",
    "\n",
    "import os\n",
    "import sys\n",
    "module_path = os.path.abspath(os.path.join('..'))\n",
    "if module_path not in sys.path:\n",
    "    sys.path.append(module_path)"
   ]
  },
  {
   "cell_type": "code",
   "execution_count": 3,
   "metadata": {
    "collapsed": false
   },
   "outputs": [],
   "source": [
    "\"\"\"\n",
    "General import statements\n",
    "\"\"\"\n",
    "import crash_analysis\n",
    "import pandas as pd"
   ]
  },
  {
   "cell_type": "code",
   "execution_count": null,
   "metadata": {
    "collapsed": true
   },
   "outputs": [],
   "source": [
    "\"\"\"\n",
    "Download crashes by date range\n",
    "\"\"\"\n"
   ]
  },
  {
   "cell_type": "code",
   "execution_count": 2,
   "metadata": {
    "collapsed": true
   },
   "outputs": [],
   "source": [
    "\"\"\"\n",
    "Parse zipfiles into dataframe\n",
    "\"\"\"\n",
    "from crash_analysis.parser import extract_zipfiles, xmldocs_to_dataframe\n",
    "zipfile_location = 'C:\\\\CrashReportsMarch8\\\\'\n",
    "\n",
    "extract_zipfiles(zipfile_location)\n",
    "df = xmldocs_to_dataframe(zipfile_location)\n",
    "\n",
    "df.drop_duplicates(inplace=True)"
   ]
  },
  {
   "cell_type": "code",
   "execution_count": 4,
   "metadata": {
    "collapsed": false
   },
   "outputs": [
    {
     "ename": "FileNotFoundError",
     "evalue": "[Errno 2] No such file or directory: 'src/data'",
     "output_type": "error",
     "traceback": [
      "\u001b[0;31m---------------------------------------------------------------------------\u001b[0m",
      "\u001b[0;31mFileNotFoundError\u001b[0m                         Traceback (most recent call last)",
      "\u001b[0;32m<ipython-input-4-bef05b75efec>\u001b[0m in \u001b[0;36m<module>\u001b[0;34m()\u001b[0m\n\u001b[1;32m     10\u001b[0m     \u001b[0mdf\u001b[0m\u001b[0;34m.\u001b[0m\u001b[0mto_csv\u001b[0m\u001b[0;34m(\u001b[0m\u001b[0mcache_location\u001b[0m\u001b[0;34m,\u001b[0m \u001b[0mencoding\u001b[0m\u001b[0;34m=\u001b[0m\u001b[0;34m'utf-8'\u001b[0m\u001b[0;34m)\u001b[0m\u001b[0;34m\u001b[0m\u001b[0m\n\u001b[1;32m     11\u001b[0m \u001b[0;32melse\u001b[0m\u001b[0;34m:\u001b[0m\u001b[0;34m\u001b[0m\u001b[0m\n\u001b[0;32m---> 12\u001b[0;31m     \u001b[0mdf\u001b[0m \u001b[0;34m=\u001b[0m \u001b[0mread_csv\u001b[0m\u001b[0;34m(\u001b[0m\u001b[0mcache_location\u001b[0m\u001b[0;34m)\u001b[0m\u001b[0;34m\u001b[0m\u001b[0m\n\u001b[0m",
      "\u001b[0;32m/Users/arosengarten/Documents/CrashAnalysis/crash_analysis/dataframe_helper.py\u001b[0m in \u001b[0;36mread_csv\u001b[0;34m(csv_file_path)\u001b[0m\n\u001b[1;32m     43\u001b[0m \u001b[0;34m\u001b[0m\u001b[0m\n\u001b[1;32m     44\u001b[0m     \u001b[0mpwd\u001b[0m \u001b[0;34m=\u001b[0m \u001b[0mos\u001b[0m\u001b[0;34m.\u001b[0m\u001b[0mgetcwd\u001b[0m\u001b[0;34m(\u001b[0m\u001b[0;34m)\u001b[0m\u001b[0;34m\u001b[0m\u001b[0m\n\u001b[0;32m---> 45\u001b[0;31m     \u001b[0mos\u001b[0m\u001b[0;34m.\u001b[0m\u001b[0mchdir\u001b[0m\u001b[0;34m(\u001b[0m\u001b[0mos\u001b[0m\u001b[0;34m.\u001b[0m\u001b[0mpath\u001b[0m\u001b[0;34m.\u001b[0m\u001b[0mdirname\u001b[0m\u001b[0;34m(\u001b[0m\u001b[0mcsv_file_path\u001b[0m\u001b[0;34m)\u001b[0m\u001b[0;34m)\u001b[0m\u001b[0;34m\u001b[0m\u001b[0m\n\u001b[0m\u001b[1;32m     46\u001b[0m \u001b[0;34m\u001b[0m\u001b[0m\n\u001b[1;32m     47\u001b[0m     \u001b[0mdf\u001b[0m \u001b[0;34m=\u001b[0m \u001b[0mpd\u001b[0m\u001b[0;34m.\u001b[0m\u001b[0mread_csv\u001b[0m\u001b[0;34m(\u001b[0m\u001b[0mos\u001b[0m\u001b[0;34m.\u001b[0m\u001b[0mpath\u001b[0m\u001b[0;34m.\u001b[0m\u001b[0mbasename\u001b[0m\u001b[0;34m(\u001b[0m\u001b[0mcsv_file_path\u001b[0m\u001b[0;34m)\u001b[0m\u001b[0;34m,\u001b[0m \u001b[0mlow_memory\u001b[0m\u001b[0;34m=\u001b[0m\u001b[0;32mFalse\u001b[0m\u001b[0;34m)\u001b[0m\u001b[0;34m\u001b[0m\u001b[0m\n",
      "\u001b[0;31mFileNotFoundError\u001b[0m: [Errno 2] No such file or directory: 'src/data'"
     ]
    }
   ],
   "source": [
    "\"\"\"\n",
    "Save/load dataframe to/from CSV\n",
    "\"\"\"\n",
    "from crash_analysis import read_csv\n",
    "\n",
    "new_data = False\n",
    "cache_location = 'src/data/201608003_march9_535pm.csv'\n",
    "\n",
    "if new_data:\n",
    "    df.to_csv(cache_location, encoding='utf-8')\n",
    "else:\n",
    "    df = read_csv(cache_location)"
   ]
  },
  {
   "cell_type": "code",
   "execution_count": 3,
   "metadata": {
    "collapsed": false
   },
   "outputs": [
    {
     "name": "stdout",
     "output_type": "stream",
     "text": [
      "['Unnamed: 0', 'ACCDT_Field', 'Active_ClientFileName', 'Active_Field', 'Active_Form', 'Active_FormsetID', 'Active_FormsetVersion', 'AppName', 'AppVersion', 'BasWin16.INI', 'Batch_ClientFileName', 'CrashGUID', 'CrashRpt', 'Current_Calcsection', 'CustNum', 'CustomProps', 'DataFileCount', 'ExceptionAddress', 'ExceptionCode', 'ExceptionModule', 'ExceptionModuleBase', 'ExceptionModuleVersion', 'ExceptionType', 'FileList', 'FormsPrinter', 'GUIResourceCount', 'GeoLocation', 'ImageName', 'InnerException', 'InstallType', 'Last_Calcsection', 'ManagedException', 'ManagedException.txt', 'MemoryUsageKbytes', 'Message', 'OSIs64Bit', 'OpenHandleCount', 'OperatingSystem', 'ProWin16.INI', 'ProblemDescription', 'Source', 'StackTrace', 'SystemTimeUTC', 'TimeStamp', 'WorkStationName', 'WorkStationType', 'crashdump.dmp', 'crashrpt.xml']\n",
      "2016100028    452\n",
      "Name: AppVersion, dtype: int64\n",
      "452\n"
     ]
    }
   ],
   "source": [
    "\"\"\"\n",
    "Get metadata about dataframe\n",
    "\"\"\"\n",
    "col_names = crash_analysis.get_columns(df)\n",
    "versions = df['AppVersion'].value_counts()\n",
    "num_crashes = len(df)\n",
    "\n",
    "# March 9, 2017: 452\n",
    "\n",
    "\n",
    "print(col_names)\n",
    "print(versions)\n",
    "print(num_crashes)"
   ]
  },
  {
   "cell_type": "code",
   "execution_count": 5,
   "metadata": {
    "collapsed": true
   },
   "outputs": [],
   "source": []
  },
  {
   "cell_type": "code",
   "execution_count": 8,
   "metadata": {
    "collapsed": false
   },
   "outputs": [
    {
     "name": "stdout",
     "output_type": "stream",
     "text": [
      "\n"
     ]
    }
   ],
   "source": [
    "\"\"\"\n",
    "Customer Description Analysis\n",
    "\"\"\"\n",
    "from crash_analysis.analysis import remove_empty, get_column, stem_frequency\n",
    "customer_desc = remove_empty(get_column(df, 'ProblemDescription'))\n",
    "\n",
    "stem_frequency(customer_desc)\n",
    "\n",
    "print"
   ]
  },
  {
   "cell_type": "code",
   "execution_count": 6,
   "metadata": {
    "collapsed": true
   },
   "outputs": [],
   "source": [
    "\"\"\"\n",
    "Frequency of error messages and stack traces\n",
    "\"\"\"\n",
    "\n",
    "from crash_analysis import filter_dataframe\n",
    "\n",
    "\n",
    "def get_value_from_hist(n, field='Message'):\n",
    "    field_hist = df[field].value_counts()\n",
    "    assert n < len(field_hist)\n",
    "    return field_hist.keys()[n], field_hist.values[n]\n",
    "\n",
    "df_filt = None\n",
    "\n",
    "def print_parings(n, field1='Message', groupings=['AppName', 'InstallType', 'OperatingSystem'], print_output=True):\n",
    "    top_key, count = get_value_from_hist(n, field1)\n",
    "    df_filtered = filter_dataframe(df, **{field1: top_key})\n",
    "    global df_filt\n",
    "    df_filt = df_filtered.copy()\n",
    "    if type(groupings) is type(list()):\n",
    "        field2_hist = df_filtered.groupby(groupings)['CustNum'].nunique()\n",
    "    else:\n",
    "        field2_hist = df_filtered[groupings].value_counts()\n",
    "\n",
    "    if print_output:\n",
    "        print(\"Query {0} \\t count: {1} \\t {2}: {3}\".format(n+1, count, field1, top_key.encode('ascii', 'ignore')))\n",
    "        print(field2_hist)\n",
    "        print(sum(field2_hist))\n",
    "        print '\\n'\n",
    "    \n",
    "#"
   ]
  },
  {
   "cell_type": "code",
   "execution_count": 68,
   "metadata": {
    "collapsed": true
   },
   "outputs": [
    {
     "name": "stdout",
     "output_type": "stream",
     "text": [
      "height has been deprecated.\n",
      "\n",
      "Query 1 \t count: 811 \t ExceptionModule: C:\\Windows\\System32\\ucrtbase.dll\n",
      "CustNum     CrashGUID                             ProblemDescription                                                                                                \n",
      "0000008012  39f728a9-b5ac-45f8-b736-7e46c92d0ab2  Saving a new client file                                                                                              1\n",
      "0000132119  0825ec0a-1d82-44e7-bade-e16d140a1e9c  Crash#6 today.  was saving a tax file                                                                                 1\n",
      "            19e60d34-9d25-4167-bc9d-e2dc561bd428  CRASH #8 TODAY.  WAS ENTERING INFORMATION INTO FORM                                                                   1\n",
      "            1ba3271a-9a4d-4b42-89ff-d33be47f82d1  Crash #1.  Was saving a tax file                                                                                      1\n",
      "            30b98404-a954-400e-b58b-1c711db5e6e6  saving a tax file.  crash #1 today                                                                                    1\n",
      "            450bb1d0-e9ee-49a6-81cf-1f97b45201e0  2nd Crash.  Was Saving a Tax Client file                                                                              1\n",
      "            491a389c-4212-49d8-893a-dbc5e469c7dd  Saving a Tax File...Crash #3 today                                                                                    1\n",
      "            5bf7f635-7bf8-4459-b2f7-b58b3fc37f7d  Second Crash today...was saving a file                                                                                1\n",
      "            5dcf2887-5301-4d6e-90b8-0d0d915d7e49  Crash #3, saving a file                                                                                               1\n",
      "            6b4ab058-fc93-4581-8fc7-0d685cee449a  saving file.  9th crash today.  This is ridiculous                                                                    1\n",
      "            761848e3-3029-459e-8e38-7cfb29715172  Crashed 3rd time today....Printing a file                                                                             1\n",
      "            869c97dd-5caf-4eb9-af36-eba2195268b7  Crashed Saving a File...                                                                                              1\n",
      "            91c7f75b-8658-4e89-848d-a419aaeca7e6  Crash #5 today.  Are you guys even reading this stuff?  I was saving a file                                           1\n",
      "            a39f792d-4db5-4736-8089-a25c0c9fb180  first crash of the day.  saving taxpayer file                                                                         1\n",
      "            b0bdab2b-da43-4975-950c-84ce7ca11745  Crash #7 today.  was saving a tax file                                                                                1\n",
      "            b3847885-1736-4b41-9ab2-3b68547ff77c  SAVING A CLIENT FILE                                                                                                  1\n",
      "            c4b1a24a-76e3-40ba-a1c0-5ac5ded7714a  3rd Crash was transferring file                                                                                       1\n",
      "            f618e288-9a38-4bea-8030-09ce55c5ac6d  Saving a tax file crash #2 today                                                                                      1\n",
      "            f7496e97-1228-4fc2-a96b-4ba98982949e  crash #1 today.  closing a file                                                                                       1\n",
      "0000181205  19520a98-cbc8-45b2-8224-b7b490a6b185  closing a client file                                                                                                 1\n",
      "            c6a59373-7c69-4322-ae5e-5291a5d8da27  close a client file                                                                                                   1\n",
      "0000217202  869914a0-f91f-40e3-9ecb-0164884030c9  Clicking print                                                                                                        1\n",
      "0000510476  3afad729-c1c6-45f8-a00f-11a6888941da  Saving a file                                                                                                         1\n",
      "            492e4b48-e248-4658-97c7-8b393ff62cb8  Saving a file                                                                                                         1\n",
      "            72f7e99a-d20e-4993-b745-4cc457cea1b1  Transferring a client from 2015                                                                                       1\n",
      "0002456762  75f02134-912d-4e80-983e-d818b9efd835  jUST ENTERING DATA                                                                                                    1\n",
      "0003247962  b23e59d8-aac6-4a0c-b077-043d6e561c9c  WORKING ON RETURN                                                                                                     1\n",
      "            e1e19d29-71f9-426d-8dd3-92faf1e6df9b  PRINTING                                                                                                              1\n",
      "0005885793  ac52f607-cef0-4e21-a812-538249dde15e  TRIED TO SAVE FILE AND IT THRU ME OUT.                                                                                1\n",
      "            ad219c12-3d97-4c59-8f90-fb4f6cb833a2  MIDDLE OF TAX RETURN, GO TO HOME BASE AND GET KICKED OUT                                                              1\n",
      "            c367e19b-b3f5-4faf-a746-496418caff43  TRYING TO GO TO HOME BASE                                                                                             1\n",
      "            d42bc556-ad5c-4ba9-8e26-c4327593e768  AGAIN.  NUMBER 17                                                                                                     1\n",
      "0006869275  ed4b98ba-d6a6-4749-96cb-f8e2116b2231  kicks me out everytime i close a client or print a return.    sick of it have been reporting ths for 2 weeks          1\n",
      "0008669043  09633d17-5a3d-40e4-a18f-31b03a9c08b3  SAVING                                                                                                                1\n",
      "            43e41c50-baf5-4f3b-880a-40ef14e5fd31  SAVING                                                                                                                1\n",
      "            4d5e0213-3466-4e92-a8d7-34e154cb047c  SAVING                                                                                                                1\n",
      "            57b8c3e8-2cb6-4fe2-a113-b23733b61cbb  SAVING FILE!!!!!!!!!!! AGAIN                                                                                          1\n",
      "            9d6e8949-0c69-4bc1-a1bb-ce5e7a3798d2  SAVING                                                                                                                1\n",
      "            c4591e53-65f8-404d-a6e1-a587225132b1  SAVING                                                                                                                1\n",
      "            d9823299-98d8-41f1-91f6-a2c8edbaea77  SAVING                                                                                                                1\n",
      "            eda24d0e-d30b-41e0-b64e-1413d97c8c14  SAVING                                                                                                                1\n",
      "            f3363b7c-5498-44c0-b08a-55a2e92543d3  SAVING                                                                                                                1\n",
      "            f42fc3cf-c80d-446e-b59d-b1a28788ee7d  ASVINF                                                                                                                1\n",
      "            fade64c3-394d-4a01-93e7-98f7bef1810c  SAVING                                                                                                                1\n",
      "0008988693  32c97984-d487-4d3a-8356-2c9e8861116a  Updating billing                                                                                                      1\n",
      "0045823868  88f2555d-81b4-4047-96b5-255c3e37c497  Saving a return this program keeps crashing                                                                           1\n",
      "            a7ab32ad-d49c-4937-a4be-00a48bb40326  Sch C is crashing the program                                                                                         1\n",
      "0054200791  415ecce9-d46c-46ef-b929-9162418c5cf6  MFS worksheet                                                                                                         1\n",
      "            8900aae6-2295-41af-93da-5eea71006c20  closing the 1065                                                                                                      1\n",
      "            e0673cda-f845-4254-8532-18e6b75c2d0f  printing                                                                                                              1\n",
      "0075868041  0c4ef0ce-b3de-4e78-a1e2-f3667088b891  saving                                                                                                                1\n",
      "            1f44b1bf-2119-4a52-9985-4a0adc91ac0d  saving                                                                                                                1\n",
      "            2ff1fd63-0f6d-49f4-91db-37f7f295b9c3  SAVING                                                                                                                1\n",
      "            43adacb3-73b1-4f25-a904-9dbc6d7ac366  CLOSING                                                                                                               1\n",
      "            468fbeec-9e3e-4a6c-85d4-4e3cca6a9a61  saving                                                                                                                1\n",
      "            533da586-b17b-4f77-8105-0cb1aceb9014  Saving                                                                                                                1\n",
      "            5887e1c0-a507-42d9-8675-a8169cc8a25c  SAVING                                                                                                                1\n",
      "            687493e7-476b-4d7a-aca4-bef33a2a65fd  SAVING                                                                                                                1\n",
      "            6cfa53b2-d25b-4e03-88d7-1d61e353a005  saving                                                                                                                1\n",
      "            6e49b105-54f1-4456-a194-265a203f298c  SAVING                                                                                                                1\n",
      "            71e36714-c76c-4781-8f0d-1a6c08a511e2  saving                                                                                                                1\n",
      "            875b58fe-a4ae-4de0-a8b8-6c0e672590f3  saving                                                                                                                1\n",
      "            b3f6ba4a-c62c-4d4e-955f-850043fdab74  Saving                                                                                                                1\n",
      "            cca018ff-b29c-4ef8-b7dd-dfc8d16748cd  SAVING                                                                                                                1\n",
      "            d5095870-7b13-4912-bb0f-9816a8a581b4  Saving                                                                                                                1\n",
      "            f084a9d1-7830-4a4d-96e0-32b5887e1bf7  SAVING                                                                                                                1\n",
      "            f244a63e-9c9c-4fc5-9a40-87d6422a8762  SAVING                                                                                                                1\n",
      "0117387612  ad94aa6f-316e-45b6-ae1f-e6683a508b41  STOPPED WORKING WHEN SAVING                                                                                           1\n",
      "            e2516138-3bc2-45c3-b2ee-0e2874a9468e  stopped working                                                                                                       1\n",
      "            f66310a6-4d25-44c9-9262-6931c9d6b9c8  STOPPED AND AUTO LOG OFF                                                                                              1\n",
      "0259109486  d040842d-1e9c-45dc-bbc9-490e4ecae9ec  SAVING A 1065                                                                                                         1\n",
      "0286702436  6e5958f1-57a2-4c0b-8990-b391a3cdfc0c  was saving file and program closed                                                                                    1\n",
      "0317925055  8272b78b-4e6a-4bd8-8d28-50b618b2e629  CLOSING 2016 TAX RETURN AND GOING TO HOME BASE                                                                        1\n",
      "            a13cc754-9f43-4a9e-8132-f84d6c1e231f  CLOSING RETURN AND GOING TO HOME BASE                                                                                 1\n",
      "            fd8f9d65-ba84-4bcc-932a-39818c975afb  nothing                                                                                                               1\n",
      "0318933512  472cd97f-f504-42f5-ba03-438b342903ea  saving a client                                                                                                       1\n",
      "            4af7a3cb-e29a-4ab8-9379-61d079792cc4  SAVING CLIENT                                                                                                         1\n",
      "            57e20eef-2473-46a4-9019-33699bce1b57  SAVING A CLIENT                                                                                                       1\n",
      "            7e497c9f-88f6-42f7-8bdd-2fb08c807a0e  SAVING AND CLOSING A CLIENT                                                                                           1\n",
      "            91f225b5-ce7e-4e66-942a-444545099b51  saving a client                                                                                                       1\n",
      "            9a4315e8-e80a-4ae0-9984-7b33948b0dd5  SAVING AND CLOSING A CLIENT                                                                                           1\n",
      "            9a4bc831-4cd5-4901-939c-0eec072ca9e6  saving a client                                                                                                       1\n",
      "0320651596  33ebca27-b8ee-49c5-a3f0-e7faa278e435  AFTER I SAVE THE FILE OF THE CLIENT                                                                                   1\n",
      "            8394071a-389b-4f00-8335-c51ca42bbbc1  SOMETHING WRONG IF KEEP DOING THIS                                                                                    1\n",
      "            ff0c0885-52b3-4815-8da0-a75058f32aff  AFTER I SAVE THE CLIENT, THIS HAPPEN MORE FREQUENT                                                                    1\n",
      "0325237120  0b588028-9a96-4690-971b-4201e08dff7f  JUST SAVED RETURN.                                                                                                    1\n",
      "            d92b3f29-800a-42b5-aa54-c1f2153fa125  printing return                                                                                                       1\n",
      "0329060230  231c9de7-94ba-44e6-b756-1b5ab2914db6  SAVING A FILE                                                                                                         1\n",
      "0385553003  148f4351-3bdc-47a0-b16c-d902ac5b68ef  Clicked the save button, then ProSeries crashed                                                                       1\n",
      "            e98f930d-54f8-45cb-910b-8244b2158e68  second time this morning Proseries crashes after I save.                                                              1\n",
      "0390368663  a04c2229-3cbc-46eb-aeb6-8d9fa1b0999e  SAVE                                                                                                                  1\n",
      "            fba2d416-dba8-4071-8273-0bf69ab727bd  SAVE                                                                                                                  1\n",
      "0396359027  23d83576-2192-46fb-b608-a2e1b5476742  Exiting client to homebase.  I have adjusted my antivirus and firewall.  Proseries sucks!                             1\n",
      "            c23e66ed-b09a-4293-a122-426653ffc161  PROSERIES SUCKS!                                                                                                      1\n",
      "            c523d408-8a4a-4687-ab72-0c89492a9a7b  Clicked the Homebase icon exiting a client file.  Proseries sucks!                                                    1\n",
      "            cfd9dbc0-6073-4368-9c88-837264de5761  Printing 8879s.  Proseries sucks!                                                                                     1\n",
      "0396562464  1742fd59-227a-4c2c-8f4f-c6d3ecb7e59d  closing a client file                                                                                                 1\n",
      "            8c8e101e-b7a9-4257-93c8-50e707042626  ProSeries stops working when I save/close a client file                                                               1\n",
      "            d7302204-e31b-41b7-b886-5188dc85d03f  saving/closing a client file                                                                                          1\n",
      "0501399669  033b4bc9-476c-42e0-8ea4-4c8a9c66d619  THE ENDLESS BOOTING                                                                                                   1\n",
      "            42423cfd-a5cb-4dc5-9031-f01b402c423e  BOOTING CONTINUES                                                                                                     1\n",
      "            708a595b-4321-4124-a1b0-89e002b9f85c  NOTHING NEW SYSTEM CONTINUES TO BOOT ME RANDOMLY UPON COMPLETING RETURNS                                              1\n",
      "            9ffa240f-1ed7-44a3-bec4-3a2d5411219d  MORE BOOTINGS AFTER COMPLETING RETURNS CONTINUE                                                                       1\n",
      "0524130124  3790dce3-4114-4802-8f12-dda29bb8915a  CRASH                                                                                                                 1\n",
      "            f2de089d-9f6b-4503-a0cd-1c2d2c0120db  PRO SERIES JUST CLOSE OUT                                                                                             1\n",
      "0559770029  312a7aa4-93e8-41db-ae6f-cd88dbfab71e  PRINTING CLIENT COPIES                                                                                                1\n",
      "            65bab3b0-74c7-4f04-9a9a-4964a98352d0  COMING OUT OF CLIENT AND SAVING DATA                                                                                  1\n",
      "0561852517  570bc672-1b4c-4347-aa59-95c9019381a3  saving client file                                                                                                    1\n",
      "            b4585d49-aa34-4d2a-8f08-74b479742265  this happens every time I save a new file. Is there someone I can contact?                                            1\n",
      "0607048626  6a7fca69-5e02-4ed7-ba33-4c2f790e4308  saving a return                                                                                                       1\n",
      "            88723745-9501-4885-a162-befc2919439a  Again, trying to save a tax return. This is about the 7th or 8th time in the last week. it is getting frustrating.    1\n",
      "            e70514ae-c797-40ab-a208-1f1d6a0e7c8b  Saving a client return keeps happening when saving a return                                                           1\n",
      "0607112836  2f46ab86-a1d1-4527-9e96-ddac9712a102  i JUST USED THE SAVE BUTTON AND THE PROGRAM SHUT DOWN, AGAIN                                                          1\n",
      "            33455ed0-7e3e-47a1-9dbd-12f3a92d8065  i clicked the save button and it shut down                                                                            1\n",
      "            a32e179d-eb5d-4c3d-abad-24a25044616d  SAVING THE FILE AND THE PROGRAM SHUT DOWN AGAIN!!!!!!!!                                                               1\n",
      "0607154671  8ea271a6-5510-445d-8505-97493fd63cce  I LEFT THE CLIENT OPEN AND NAVIGATED AWAY FROM PROSERIES FOR A FEW MINUTES                                            1\n",
      "0608036893  9770c779-00cb-4bda-9a4d-44e34877142e  START PRINTING RETURN                                                                                                 1\n",
      "0608963955  acb444cb-8ffc-45b7-b35d-9d378fdf5e35  PRINTING A 1040 TAX RETURN.                                                                                           1\n",
      "0608966826  18329001-3c57-4120-a756-a428c6658b86  Print                                                                                                                 1\n",
      "            a24309d6-f8bd-428b-96c4-c1981a2effb7  Printing a Return                                                                                                     1\n",
      "0609671151  32af480c-7b5b-4b52-a287-1d143705edc6  SAVING                                                                                                                1\n",
      "            41ce6f2a-25a8-4e8f-bd67-8c8d5ee02ac5  printing return                                                                                                       1\n",
      "            553cf409-fcc9-4034-9517-abff1f071165  saving return                                                                                                         1\n",
      "            6fe106a7-0548-4e28-899d-c3d9d48eb25c  SAVING RETURN                                                                                                         1\n",
      "            7a38e706-ceab-437b-9bd5-290e6a6bf137  trying to save, this happens several times a day now                                                                  1\n",
      "            dafb7677-14f5-4ed9-bfdf-e547273b3143  SAVING                                                                                                                1\n",
      "            ff5cdfb4-a11e-4d65-ac2c-e2f0531b0715  SAVING                                                                                                                1\n",
      "0609934641  350de1f6-5485-424e-8b8e-93125e74ada5  printing                                                                                                              1\n",
      "            63472ec5-2a69-4ffe-b25b-0e56a927e59d  SAVING                                                                                                                1\n",
      "0611354747  3f15a8ec-861b-42af-b35b-8312309b989f  SAVING AN ALREADY EXISTING CLIET UNDER FILE SAVE CLIENT                                                               1\n",
      "            94f4794a-eb22-4e11-9d91-c91ae2332fa1  TRYING TO SAVE A CLIENT                                                                                               1\n",
      "            dee7aef1-bf6c-4e35-947e-a86d9e338cc0  SAVING AN EXISTING CLIENT                                                                                             1\n",
      "0644350387  e0d3c55f-65c1-4da1-b192-186f9f1aceb5  saving a client file                                                                                                  1\n",
      "0651643481  311fd2e9-3c10-42cf-9ada-63a5f2295f65  I HAVE TURNED OFF THE ANTI VIRUS AND STILL IS STILL HAPPENING                                                         1\n",
      "            b388f88f-c032-4775-b05c-b566865e5977  PLEASE CORRECT THIS, NO MATTER WHAT I DO IT KEEP CLOSING ME OUT                                                       1\n",
      "0709931280  5c673bbf-5fe9-4436-ab6e-ecc5be7caafb  SAVING                                                                                                                1\n",
      "0747646624  03b1f68a-8159-4433-8c86-c023ea181b97  WHEN PRINTING                                                                                                         1\n",
      "            2c600d5b-7c33-48f9-9f53-02328b2d83fa  WHEN RETURNING HOMEBASE                                                                                               1\n",
      "            5d734e0e-1131-4ae4-b083-2150279ee33b  WHEN GOING BACK TO HB                                                                                                 1\n",
      "            69641aeb-8685-44c6-a2e4-eb5c791cef20  WHEN SAVING                                                                                                           1\n",
      "            7171e769-2cec-49cf-9e54-62b80a90ee98  WHEN GOING BACK HB                                                                                                    1\n",
      "            8802ab3d-12c0-4c42-b90e-54ad23379999  WHEN RETURNING HOME BASE                                                                                              1\n",
      "            a5cfe348-368f-430f-877f-466672c2381f  WHEN SAVING                                                                                                           1\n",
      "            d6864222-4a3b-4f6f-af30-0fd9febba703  WHEN RETURNING HOMEBASE                                                                                               1\n",
      "0767274499  d150c7ac-d23b-4879-a99a-78400b1f1404  THE DATABASE IS CRUSH EVERY DAY                                                                                       1\n",
      "0803693660  cbe560e3-9d3e-48f1-b953-f5e7881d4044  I AM GETING TIRED OF THIS PROGRAM CONSTANTLY CRASHING!                                                                1\n",
      "            eb496a36-d475-4afa-86c5-f61f0add4378  i was attempting to print a return and the program crashed AGAIN!                                                     1\n",
      "0834308156  3ceeaa53-d33f-478b-82ce-a49755fe49d5  When saving a tax file, the program crashes                                                                           1\n",
      "            795534de-2993-4be2-81ab-9b413e1769f9  Tried to save using F10... program crashed                                                                            1\n",
      "            7bac5e0c-90c6-43bc-a249-d2dd24dd7e90  Crashed while saving                                                                                                  1\n",
      "            9784c963-9540-4a95-a9bd-c5d349ddab77  Crashed while saving                                                                                                  1\n",
      "0935224172  7f2701d2-a21e-4b65-8e5b-3645cc1a66fa  saving file                                                                                                           1\n",
      "            ef5fe4de-d33c-4012-9d16-d943effe52b3  saving file                                                                                                           1\n",
      "0952206849  3d239f22-59be-4c70-a321-93c58e07fa6a  Saving a file                                                                                                         1\n",
      "            541edf2f-4b86-450e-a3ee-9dc145b95bac  printing!!!                                                                                                           1\n",
      "            676be7f2-93a1-4a8b-985e-a5feb85f31cb  print to pdf                                                                                                          1\n",
      "0986364995  2fdac2a6-7e5a-48ac-831c-12a622b7518e  PRINTING RETURN                                                                                                       1\n",
      "7513653980  099f45a2-818b-46ac-b815-e95c8be095c3  Just saved a client file and tried to return to homebase                                                              1\n",
      "            1271256b-a697-4e6e-a38d-0fb9723113d2  SAVING CLIENT                                                                                                         1\n",
      "            22eb357a-23a4-4706-8ff0-22d70421c520  SAVING CLIENT                                                                                                         1\n",
      "            48d97b08-1b6f-4ade-a8b6-50ab0f5fd00c  SAVING CLIENT                                                                                                         1\n",
      "            4e242c3a-326e-4c40-8ece-e3df4da8eacd  SAVING CLIENT FILE                                                                                                    1\n",
      "            5bf643ab-d9d7-4244-9321-cc1d941621e6  SAVING CLIENT                                                                                                         1\n",
      "            75d19d12-2a32-472e-a3f8-42dba7fcbd63  SAVING CLIENT FILE                                                                                                    1\n",
      "            78aa08e7-16bf-496f-bd76-4800559d0a74  SAVING CLIENT FILE                                                                                                    1\n",
      "            7fd43fe9-1fdf-4e0c-b241-91067d23a0eb  SAVING CLIENT                                                                                                         1\n",
      "            9c8cfb98-96e0-48bb-8958-7afa7d3db4a3  SAVING CLIENT FILE                                                                                                    1\n",
      "            b946862f-0768-4d94-81b4-57f1fc673393  SAVING CLIENT                                                                                                         1\n",
      "            c8c8937a-27bd-4624-8db2-ba9dcf8bf10c  SAVING A NEW CLIENT FILE                                                                                              1\n",
      "            efe7ff1a-b6d2-48f4-9f2a-1d3845de2ad4  saving client                                                                                                         1\n",
      "7514948197  387d6730-23ba-4d80-9789-c26cf48e57d4  ENTERING STATE INFO                                                                                                   1\n",
      "7702138771  72668c88-1afc-4855-96d6-9e92e1a446ff  Program stopped working after saving a tax return.                                                                    1\n",
      "            74c4a1eb-7c96-4f77-9de9-890dfc548564  SAVING FILE                                                                                                           1\n",
      "            c2a46b61-e4cc-4546-93c8-b0694672673a  saving file                                                                                                           1\n",
      "            ed26cca8-8468-48cc-b47c-f739fdc795f4  SAVING FILE                                                                                                           1\n",
      "7702313448  0a6d1ecc-f3f5-4307-9112-1d5cdcf663d4  SAVING RETURN                                                                                                         1\n",
      "            45c6680b-819b-487d-aa06-ec884339437c  PRINTING FINISHED RETURN                                                                                              1\n",
      "            5ba9f3f9-3932-4912-81f9-501bd24dfab6  SAVING RETURN                                                                                                         1\n",
      "            85464b1c-a72e-49b6-9bc9-91587289ed6e  PRINTING FINISHED RETURN                                                                                              1\n",
      "            adabe9b0-ecec-431d-979f-a2a3699dbf50  CLOSING A FINISHED RETURN                                                                                             1\n",
      "            d1e78b97-ce78-40d1-9928-71f1faa8ffa4  PRINTING FINISHED RETURN                                                                                              1\n",
      "            d5d93339-ad20-481c-bf9f-3aee182a9f62  CLOSING RETURN                                                                                                        1\n",
      "7703389524  6557b1a1-f129-435d-a250-44b72fbffc49  SAVING THE RETURN WHICH OCCURS AT LEAST 4 TIMES A DAY!!!                                                              1\n",
      "            c2301218-294a-45e7-a861-ef71532b5be5  saving return                                                                                                         1\n",
      "7703802651  0a9a1cfc-2dfb-47e0-83e4-4ad34037bd1e  PRINTING                                                                                                              1\n",
      "            58871eef-0c4d-4352-b39e-bfc98c72fba0  TRYING TO SAVE                                                                                                        1\n",
      "            da76ce45-c19f-40f9-afa5-c7c08a6c6895  ARBITRARILLY                                                                                                          1\n",
      "7706960778  995240f8-c86b-47c9-ab91-36e9ab86aa3d  PRINTING                                                                                                              1\n",
      "7713199360  01a2c6ca-1483-41e9-9ccd-553e4a58fca9  saving a file i was currently working on                                                                              1\n",
      "7773463353  dac935a5-7559-4be5-aa17-0821f95f0d57  returning to home base                                                                                                1\n",
      "7780148495  556e6bfc-8ade-404f-b26f-ffc43ff9217f  program quit                                                                                                          1\n",
      "7791576379  77940187-0644-4acc-8820-6753f1971b91  STUPID                                                                                                                1\n",
      "7805517891  20698c47-90aa-4c2a-bea3-e758c792bb1b  TURNS OFF EVERY TIME I SAVE MY WORK                                                                                   1\n",
      "            bc98dad1-4783-4308-8e01-3d2532aeacd3  KEEPS TURNING OFF                                                                                                     1\n",
      "Name: CustNum, dtype: int64\n",
      "194\n",
      "\n",
      "\n"
     ]
    },
    {
     "data": {
      "text/plain": [
       "[None]"
      ]
     },
     "execution_count": 72,
     "metadata": {},
     "output_type": "execute_result"
    }
   ],
   "source": [
    "df['ExceptionAddress'].str.endswith('ed0a').value_counts()\n",
    "\n",
    "def parse_exception_address(exad_str):\n",
    "    exad_str = exad_str[::-1] # reverse string\n",
    "\n",
    "    retstr = ''\n",
    "\n",
    "    if(exad_str[:4] == 'a0de'):\n",
    "        retstr += 'A'\n",
    "\n",
    "\n",
    "    else:\n",
    "        retstr += 'B'\n",
    "\n",
    "    return retstr\n",
    "\n",
    "ucrt_df = filter_dataframe(df, ExceptionModule='C:\\Windows\\System32\\ucrtbase.dll')\n",
    "rev_excep_addr_df = ucrt_df['ExceptionAddress'].apply(parse_exception_address)\n",
    "# rev_excep_addr_df.srt.startswith('')\n",
    "rev_excep_addr_df.value_counts()\n",
    "# print(len(ucrt_df))"
   ]
  },
  {
   "cell_type": "code",
   "execution_count": 31,
   "metadata": {
    "collapsed": false
   },
   "outputs": [
    {
     "data": {
      "text/plain": [
       "CustNum\n",
       "7743220085    1\n",
       "7770129748    1\n",
       "Name: CrashGUID, dtype: int64"
      ]
     },
     "execution_count": 31,
     "metadata": {},
     "output_type": "execute_result"
    }
   ],
   "source": [
    "# pd.set_option('display.max_rows', 5000)\n",
    "# pd.set_option('display.height', 5000)\n",
    "\n",
    "\n",
    "\n",
    "# [print_parings(n, field1='ExceptionAddress', groupings='CrashGUID') for n in [6]]\n",
    "\n",
    "# df_filt[df_filt['ExceptionAddress'].str.contains('0xffffffffffffec6c')]\n",
    "df[df['ExceptionAddress'] == '0xffffffffffffec6c'].groupby(['CustNum'])['CrashGUID'].count()\n",
    "# df[df['CustNum'].str.contains('213368').fillna(value=False)]['CustNum'].value_counts()[:10]\n",
    "\n",
    "# df[df['CustNum'].str.contains('213368').fillna(value=False)]['ExceptionAddress']\n",
    "\n",
    "# df[df['CustNum']=='0955920737']['OperatingSystem']"
   ]
  },
  {
   "cell_type": "code",
   "execution_count": 30,
   "metadata": {
    "collapsed": true
   },
   "outputs": [
    {
     "ename": "ValueError",
     "evalue": "cannot convert float NaN to integer",
     "output_type": "error",
     "traceback": [
      "\u001b[0;31m\u001b[0m",
      "\u001b[0;31mValueError\u001b[0mTraceback (most recent call last)",
      "\u001b[0;32m<ipython-input-30-df9b927b507e>\u001b[0m in \u001b[0;36m<module>\u001b[0;34m()\u001b[0m\n\u001b[1;32m      1\u001b[0m \u001b[0mstr_to_hex\u001b[0m \u001b[1;33m=\u001b[0m \u001b[1;32mlambda\u001b[0m \u001b[0mx\u001b[0m\u001b[1;33m:\u001b[0m \u001b[0mhex\u001b[0m\u001b[1;33m(\u001b[0m\u001b[0mint\u001b[0m\u001b[1;33m(\u001b[0m\u001b[0mx\u001b[0m\u001b[1;33m,\u001b[0m \u001b[1;36m16\u001b[0m\u001b[1;33m)\u001b[0m\u001b[1;33m)\u001b[0m \u001b[1;32mif\u001b[0m \u001b[0misinstance\u001b[0m\u001b[1;33m(\u001b[0m\u001b[0mx\u001b[0m\u001b[1;33m,\u001b[0m \u001b[0mstr\u001b[0m\u001b[1;33m)\u001b[0m \u001b[1;32melse\u001b[0m \u001b[0mint\u001b[0m\u001b[1;33m(\u001b[0m\u001b[0mx\u001b[0m\u001b[1;33m)\u001b[0m\u001b[1;33m\u001b[0m\u001b[0m\n\u001b[1;32m      2\u001b[0m \u001b[1;33m\u001b[0m\u001b[0m\n\u001b[0;32m----> 3\u001b[0;31m \u001b[0mdf\u001b[0m\u001b[1;33m[\u001b[0m\u001b[1;34m'ActualAddress'\u001b[0m\u001b[1;33m]\u001b[0m \u001b[1;33m=\u001b[0m \u001b[0mdf\u001b[0m\u001b[1;33m[\u001b[0m\u001b[1;34m'ExceptionAddress'\u001b[0m\u001b[1;33m]\u001b[0m\u001b[1;33m.\u001b[0m\u001b[0mapply\u001b[0m\u001b[1;33m(\u001b[0m\u001b[0mstr_to_hex\u001b[0m\u001b[1;33m)\u001b[0m \u001b[1;33m-\u001b[0m \u001b[0mdf\u001b[0m\u001b[1;33m[\u001b[0m\u001b[1;34m'ExceptionModuleBase'\u001b[0m\u001b[1;33m]\u001b[0m\u001b[1;33m.\u001b[0m\u001b[0mapply\u001b[0m\u001b[1;33m(\u001b[0m\u001b[0mstr_to_hex\u001b[0m\u001b[1;33m)\u001b[0m\u001b[1;33m\u001b[0m\u001b[0m\n\u001b[0m\u001b[1;32m      4\u001b[0m \u001b[1;33m\u001b[0m\u001b[0m\n\u001b[1;32m      5\u001b[0m \u001b[1;31m# str_to_hex(0x1212) - str_to_hex(0x1010)\u001b[0m\u001b[1;33m\u001b[0m\u001b[1;33m\u001b[0m\u001b[0m\n",
      "\u001b[0;32mC:\\Program Files\\Anaconda2\\envs\\crashanalyenv\\lib\\site-packages\\pandas\\core\\series.pyc\u001b[0m in \u001b[0;36mapply\u001b[0;34m(self, func, convert_dtype, args, **kwds)\u001b[0m\n\u001b[1;32m   2292\u001b[0m             \u001b[1;32melse\u001b[0m\u001b[1;33m:\u001b[0m\u001b[1;33m\u001b[0m\u001b[0m\n\u001b[1;32m   2293\u001b[0m                 \u001b[0mvalues\u001b[0m \u001b[1;33m=\u001b[0m \u001b[0mself\u001b[0m\u001b[1;33m.\u001b[0m\u001b[0masobject\u001b[0m\u001b[1;33m\u001b[0m\u001b[0m\n\u001b[0;32m-> 2294\u001b[0;31m                 \u001b[0mmapped\u001b[0m \u001b[1;33m=\u001b[0m \u001b[0mlib\u001b[0m\u001b[1;33m.\u001b[0m\u001b[0mmap_infer\u001b[0m\u001b[1;33m(\u001b[0m\u001b[0mvalues\u001b[0m\u001b[1;33m,\u001b[0m \u001b[0mf\u001b[0m\u001b[1;33m,\u001b[0m \u001b[0mconvert\u001b[0m\u001b[1;33m=\u001b[0m\u001b[0mconvert_dtype\u001b[0m\u001b[1;33m)\u001b[0m\u001b[1;33m\u001b[0m\u001b[0m\n\u001b[0m\u001b[1;32m   2295\u001b[0m \u001b[1;33m\u001b[0m\u001b[0m\n\u001b[1;32m   2296\u001b[0m         \u001b[1;32mif\u001b[0m \u001b[0mlen\u001b[0m\u001b[1;33m(\u001b[0m\u001b[0mmapped\u001b[0m\u001b[1;33m)\u001b[0m \u001b[1;32mand\u001b[0m \u001b[0misinstance\u001b[0m\u001b[1;33m(\u001b[0m\u001b[0mmapped\u001b[0m\u001b[1;33m[\u001b[0m\u001b[1;36m0\u001b[0m\u001b[1;33m]\u001b[0m\u001b[1;33m,\u001b[0m \u001b[0mSeries\u001b[0m\u001b[1;33m)\u001b[0m\u001b[1;33m:\u001b[0m\u001b[1;33m\u001b[0m\u001b[0m\n",
      "\u001b[0;32mpandas\\src\\inference.pyx\u001b[0m in \u001b[0;36mpandas.lib.map_infer (pandas\\lib.c:66124)\u001b[0;34m()\u001b[0m\n",
      "\u001b[0;32m<ipython-input-30-df9b927b507e>\u001b[0m in \u001b[0;36m<lambda>\u001b[0;34m(x)\u001b[0m\n\u001b[0;32m----> 1\u001b[0;31m \u001b[0mstr_to_hex\u001b[0m \u001b[1;33m=\u001b[0m \u001b[1;32mlambda\u001b[0m \u001b[0mx\u001b[0m\u001b[1;33m:\u001b[0m \u001b[0mhex\u001b[0m\u001b[1;33m(\u001b[0m\u001b[0mint\u001b[0m\u001b[1;33m(\u001b[0m\u001b[0mx\u001b[0m\u001b[1;33m,\u001b[0m \u001b[1;36m16\u001b[0m\u001b[1;33m)\u001b[0m\u001b[1;33m)\u001b[0m \u001b[1;32mif\u001b[0m \u001b[0misinstance\u001b[0m\u001b[1;33m(\u001b[0m\u001b[0mx\u001b[0m\u001b[1;33m,\u001b[0m \u001b[0mstr\u001b[0m\u001b[1;33m)\u001b[0m \u001b[1;32melse\u001b[0m \u001b[0mint\u001b[0m\u001b[1;33m(\u001b[0m\u001b[0mx\u001b[0m\u001b[1;33m)\u001b[0m\u001b[1;33m\u001b[0m\u001b[0m\n\u001b[0m\u001b[1;32m      2\u001b[0m \u001b[1;33m\u001b[0m\u001b[0m\n\u001b[1;32m      3\u001b[0m \u001b[0mdf\u001b[0m\u001b[1;33m[\u001b[0m\u001b[1;34m'ActualAddress'\u001b[0m\u001b[1;33m]\u001b[0m \u001b[1;33m=\u001b[0m \u001b[0mdf\u001b[0m\u001b[1;33m[\u001b[0m\u001b[1;34m'ExceptionAddress'\u001b[0m\u001b[1;33m]\u001b[0m\u001b[1;33m.\u001b[0m\u001b[0mapply\u001b[0m\u001b[1;33m(\u001b[0m\u001b[0mstr_to_hex\u001b[0m\u001b[1;33m)\u001b[0m \u001b[1;33m-\u001b[0m \u001b[0mdf\u001b[0m\u001b[1;33m[\u001b[0m\u001b[1;34m'ExceptionModuleBase'\u001b[0m\u001b[1;33m]\u001b[0m\u001b[1;33m.\u001b[0m\u001b[0mapply\u001b[0m\u001b[1;33m(\u001b[0m\u001b[0mstr_to_hex\u001b[0m\u001b[1;33m)\u001b[0m\u001b[1;33m\u001b[0m\u001b[0m\n\u001b[1;32m      4\u001b[0m \u001b[1;33m\u001b[0m\u001b[0m\n\u001b[1;32m      5\u001b[0m \u001b[1;31m# str_to_hex(0x1212) - str_to_hex(0x1010)\u001b[0m\u001b[1;33m\u001b[0m\u001b[1;33m\u001b[0m\u001b[0m\n",
      "\u001b[0;31mValueError\u001b[0m: cannot convert float NaN to integer"
     ]
    }
   ],
   "source": [
    "# str_to_hex = lambda x: hex(int(x, 16)) if isinstance(x, str) else int(x) if x is NaN) else 0\n",
    "# \n",
    "# df['ActualAddress'] = df['ExceptionAddress'].apply(str_to_hex) - df['ExceptionModuleBase'].apply(str_to_hex)\n",
    "\n",
    "# str_to_hex(0x1212) - str_to_hex(0x1010)"
   ]
  },
  {
   "cell_type": "code",
   "execution_count": null,
   "metadata": {
    "collapsed": true
   },
   "outputs": [],
   "source": []
  },
  {
   "cell_type": "code",
   "execution_count": 79,
   "metadata": {
    "collapsed": false
   },
   "outputs": [
    {
     "name": "stdout",
     "output_type": "stream",
     "text": [
      "35\n"
     ]
    }
   ],
   "source": [
    "\"\"\" Customer Descriptions \"\"\"\n",
    "\n",
    "from crash_analysis import remove_empty\n",
    "# print(one_cust.head())\n",
    "pd.set_option('display.max_colwidth', 250)\n",
    "print(sum(remove_empty(df['ProblemDescription']).value_counts()))"
   ]
  },
  {
   "cell_type": "code",
   "execution_count": 80,
   "metadata": {
    "collapsed": true
   },
   "outputs": [
    {
     "name": "stdout",
     "output_type": "stream",
     "text": [
      "Message by Keyterm\n",
      "keyterm: program\n",
      "Method not found: 'Void Intuit.Application.ProSeries.OptionSetupWizardAPI.DataModels.AdditionalInfo..ctor(System.String, System.String, System.String, System.String, System.String, System.String, System.String, System.String, System.String, System.String, System.String, System.String)'.    2\n",
      "Method not found: 'Int32 System.Runtime.InteropServices.Marshal.SizeOf(!!0)'.                                                                                                                                                                                                                      1\n",
      "External component has thrown an exception.                                                                                                                                                                                                                                                        1\n",
      "Name: Message, dtype: int64\n",
      "\n",
      "keyterm: open\n",
      "External component has thrown an exception.                                                                                                                                                                                                                                                        4\n",
      "Method not found: 'Void Intuit.Application.ProSeries.OptionSetupWizardAPI.DataModels.AdditionalInfo..ctor(System.String, System.String, System.String, System.String, System.String, System.String, System.String, System.String, System.String, System.String, System.String, System.String)'.    3\n",
      "Access to the path 'e:\\$RECYCLE.BIN\\S-1-5-21-1734283657-823011882-2764790919-1001' is denied.                                                                                                                                                                                                      2\n",
      "Name: Message, dtype: int64\n",
      "\n",
      "keyterm: print\n",
      "External component has thrown an exception.    1\n",
      "Name: Message, dtype: int64\n",
      "\n",
      "keyterm: client\n",
      "Series([], Name: Message, dtype: int64)\n",
      "\n",
      "keyterm: input\n",
      "Series([], Name: Message, dtype: int64)\n",
      "\n",
      "keyterm: tri\n",
      "Method not found: 'Void Intuit.Application.ProSeries.OptionSetupWizardAPI.DataModels.AdditionalInfo..ctor(System.String, System.String, System.String, System.String, System.String, System.String, System.String, System.String, System.String, System.String, System.String, System.String)'.    2\n",
      "External component has thrown an exception.                                                                                                                                                                                                                                                        2\n",
      "Name: Message, dtype: int64\n",
      "\n",
      "keyterm: close\n",
      "Series([], Name: Message, dtype: int64)\n",
      "\n",
      "keyterm: return\n",
      "Access to the path 'e:\\$RECYCLE.BIN\\S-1-5-21-1734283657-823011882-2764790919-1001' is denied.    1\n",
      "Name: Message, dtype: int64\n",
      "\n",
      "keyterm: data\n",
      "Series([], Name: Message, dtype: int64)\n",
      "\n",
      "keyterm: save\n",
      "Series([], Name: Message, dtype: int64)\n",
      "\n",
      "keyterm: complet\n",
      "Series([], Name: Message, dtype: int64)\n",
      "\n",
      "keyterm: file\n",
      "Series([], Name: Message, dtype: int64)\n",
      "\n",
      "keyterm: instal\n",
      "Series([], Name: Message, dtype: int64)\n",
      "\n",
      "keyterm: start\n",
      "Method not found: 'Int32 System.Runtime.InteropServices.Marshal.SizeOf(!!0)'.    2\n",
      "External component has thrown an exception.                                      2\n",
      "Name: Message, dtype: int64\n",
      "\n",
      "keyterm: softwar\n",
      "External component has thrown an exception.    2\n",
      "Name: Message, dtype: int64\n",
      "\n",
      "keyterm: year\n",
      "Series([], Name: Message, dtype: int64)\n",
      "\n",
      "keyterm: network\n",
      "Series([], Name: Message, dtype: int64)\n",
      "\n",
      "keyterm: transfer\n",
      "Series([], Name: Message, dtype: int64)\n",
      "\n",
      "keyterm: updat\n",
      "Series([], Name: Message, dtype: int64)\n",
      "\n",
      "keyterm: stop\n",
      "Series([], Name: Message, dtype: int64)\n",
      "\n",
      "keyterm: work\n",
      "Series([], Name: Message, dtype: int64)\n",
      "\n",
      "keyterm: inform\n",
      "Series([], Name: Message, dtype: int64)\n",
      "\n",
      "keyterm: dont\n",
      "External component has thrown an exception.                                      3\n",
      "Method not found: 'Int32 System.Runtime.InteropServices.Marshal.SizeOf(!!0)'.    1\n",
      "Name: Message, dtype: int64\n",
      "\n",
      "\n"
     ]
    }
   ],
   "source": [
    "\"\"\"\n",
    "Associate by keyterm\n",
    "\"\"\"\n",
    "from crash_analysis.analysis import associate_by_keyterms\n",
    "\n",
    "associate_by_keyterms(df, 'ProblemDescription', 'Message', min_count=2)\n",
    "print"
   ]
  },
  {
   "cell_type": "code",
   "execution_count": null,
   "metadata": {
    "collapsed": true
   },
   "outputs": [],
   "source": []
  }
 ],
 "metadata": {
  "kernelspec": {
   "display_name": "Python [conda env:catt-dataproc]",
   "language": "python",
   "name": "conda-env-catt-dataproc-py"
  },
  "language_info": {
   "codemirror_mode": {
    "name": "ipython",
    "version": 3
   },
   "file_extension": ".py",
   "mimetype": "text/x-python",
   "name": "python",
   "nbconvert_exporter": "python",
   "pygments_lexer": "ipython3",
   "version": "3.5.3"
  }
 },
 "nbformat": 4,
 "nbformat_minor": 0
}
