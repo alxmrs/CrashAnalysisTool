{
 "cells": [
  {
   "cell_type": "markdown",
   "metadata": {
    "collapsed": true
   },
   "source": [
    "# Crash Report Jan 18, 2016\n",
    "\n",
    "\n",
    "## Step 1: Setup"
   ]
  },
  {
   "cell_type": "code",
   "execution_count": 1,
   "metadata": {},
   "outputs": [],
   "source": [
    "\"\"\"\n",
    "General import statements\n",
    "\"\"\"\n",
    "import crash_analysis\n",
    "import pandas as pd\n",
    "from matplotlib import pyplot as plt \n",
    "%matplotlib inline"
   ]
  },
  {
   "cell_type": "code",
   "execution_count": 3,
   "metadata": {},
   "outputs": [],
   "source": [
    "\"\"\"\n",
    "Parse zipfiles into dataframe\n",
    "\"\"\"\n",
    "from crash_analysis.parser import extract_zipfiles, xmldocs_to_dataframe\n",
    "zipfile_location = 'C:\\\\CrashReports\\\\'\n",
    "\n",
    "extract_zipfiles(zipfile_location)\n",
    "df = xmldocs_to_dataframe(zipfile_location)\n",
    "\n",
    "df.drop_duplicates(inplace=True)"
   ]
  },
  {
   "cell_type": "code",
   "execution_count": 4,
   "metadata": {},
   "outputs": [],
   "source": [
    "\"\"\"\n",
    "Save/load dataframe to/from CSV\n",
    "\"\"\"\n",
    "new_data = False\n",
    "cache_location = 'src/data/2016040014.csv'\n",
    "\n",
    "if new_data:\n",
    "    df.to_csv(cache_location, encoding='utf-8')\n",
    "else:\n",
    "    df = crash_analysis.read_csv(cache_location)"
   ]
  },
  {
   "cell_type": "code",
   "execution_count": 5,
   "metadata": {
    "collapsed": false
   },
   "outputs": [
    {
     "name": "stdout",
     "output_type": "stream",
     "text": [
      "['ACCDT_Field', 'Active_ClientFileName', 'Active_Field', 'Active_Form', 'Active_FormsetID', 'Active_FormsetVersion', 'AppName', 'AppVersion', 'BasWin16.INI', 'Batch_ClientFileName', 'CrashGUID', 'CrashRpt', 'Current_Calcsection', 'CustNum', 'CustomProps', 'DataFileCount', 'ExceptionAddress', 'ExceptionCode', 'ExceptionModule', 'ExceptionModuleBase', 'ExceptionModuleVersion', 'ExceptionType', 'FileList', 'FormsPrinter', 'GUIResourceCount', 'GeoLocation', 'ImageName', 'InnerException', 'InstallType', 'Last_Calcsection', 'ManagedException', 'ManagedException.txt', 'MemoryUsageKbytes', 'Message', 'OSIs64Bit', 'OpenHandleCount', 'OperatingSystem', 'ProWin16.INI', 'ProblemDescription', 'Source', 'StackTrace', 'SystemTimeUTC', 'TimeStamp', 'WorkStationName', 'WorkStationType', 'crashdump.dmp', 'crashrpt.xml']\n2016040014    5085\nName: AppVersion, dtype: int64\n5085\n"
     ]
    }
   ],
   "source": [
    "\"\"\"\n",
    "Get metadata about dataframe\n",
    "\"\"\"\n",
    "col_names = crash_analysis.get_columns(df)\n",
    "versions = df['AppVersion'].value_counts()\n",
    "num_crashes = len(df)\n",
    "\n",
    "print(col_names)\n",
    "print(versions)\n",
    "print(num_crashes)"
   ]
  },
  {
   "cell_type": "code",
   "execution_count": 6,
   "metadata": {},
   "outputs": [
    {
     "name": "stdout",
     "output_type": "stream",
     "text": [
      "total words: 7650\ninstal     \t:  463 \t [['installing'], ['installing'], ['installing'], ['installed'], ['install'], ['installing']]\nopen       \t:  349 \t [['opening'], ['opening'], ['opening'], ['opening'], ['opened'], ['opening']]\n2016       \t:  318 \t [['2016'], ['2016'], ['2016'], ['2016'], ['2016'], ['2016']]\nprogram    \t:  254 \t [['program'], ['program'], ['program'], ['program'], ['program'], ['program']]\nclient     \t:  244 \t [['clients'], ['clients'], ['client'], ['client'], ['client'], ['client']]\nupdat      \t:  230 \t [['updating'], ['updates'], ['updates'], ['updates'], ['updates'], ['updates']]\nproseri    \t:  217 \t [['proseries'], ['proseries'], ['proseries'], ['proseries'], ['proseries'], ['proseries']]\nfile       \t:  217 \t [['file'], ['files'], ['file'], ['file'], ['file'], ['file']]\ntri        \t:  191 \t [['trying'], ['trying'], ['trying'], ['trying'], ['trying'], ['trying']]\ndownload   \t:  166 \t [['downloading'], ['downloading'], ['downloading'], ['downloading'], ['downloading'], ['downloading']]\nsoftwar    \t:  144 \t [['software'], ['software'], ['software'], ['software'], ['software'], ['software']]\nsign       \t:  141 \t [['signing'], ['sign'], ['sign'], ['signing'], ['sign'], ['signing']]\nreturn     \t:  115 \t [['return'], ['return'], ['return'], ['return'], ['return'], ['return']]\nenter      \t:  111 \t [['entering'], ['entering'], ['entering'], ['entered'], ['entering'], ['entering']]\nlog        \t:  110 \t [['logging'], ['logging'], ['log'], ['logging'], ['log'], ['logging']]\nnew        \t:  105 \t [['new'], ['new'], ['new'], ['new'], ['new'], ['new']]\nwork       \t:   98 \t [['working'], ['work'], ['working'], ['working'], ['work'], ['working']]\npassword   \t:   95 \t [['password'], ['password'], ['password'], ['password'], ['password'], ['password']]\ncrash      \t:   91 \t [['crashed'], ['crashed'], ['crashes'], ['crash'], ['crashes'], ['crashed']]\ntax        \t:   90 \t [['tax'], ['tax'], ['tax'], ['tax'], ['tax'], ['tax']]\nbasic      \t:   85 \t [['basic'], ['basic'], ['basic'], ['basic'], ['basic'], ['basic']]\ntime       \t:   85 \t [['time'], ['time'], ['time'], ['time'], ['time'], ['time']]\ntransfer   \t:   82 \t [['transferred'], ['transfer'], ['transfered'], ['transfer'], ['transferred'], ['transfering']]\nstop       \t:   78 \t [['stopped'], ['stopped'], ['stopped'], ['stopped'], ['stopped'], ['stopped']]\nset        \t:   73 \t [['setting'], ['set'], ['setting'], ['setting'], ['setting'], ['set']]\ncode       \t:   66 \t [['code'], ['code'], ['code'], ['code'], ['code'], ['code']]\nerror      \t:   63 \t [['error'], ['errors'], ['error'], ['error'], ['error'], ['error']]\npro        \t:   60 \t [['pro'], ['pro'], ['pro'], ['pro'], ['pro'], ['pro']]\naccount    \t:   59 \t [['account'], ['account'], ['account'], ['account'], ['account'], ['account']]\nsave       \t:   55 \t [['saving'], ['save'], ['saving'], ['save'], ['save'], ['save']]\n\n"
     ]
    }
   ],
   "source": [
    "\"\"\"\n",
    "Customer Description Analysis\n",
    "\"\"\"\n",
    "from crash_analysis.analysis import remove_empty, get_column, stem_frequency\n",
    "customer_desc = remove_empty(get_column(df, 'ProblemDescription'))\n",
    "\n",
    "stem_frequency(customer_desc)\n",
    "print"
   ]
  },
  {
   "cell_type": "code",
   "execution_count": 34,
   "metadata": {
    "collapsed": false
   },
   "outputs": [
    {
     "name": "stdout",
     "output_type": "stream",
     "text": [
      "Query 2 \t count: 138 \t Message: Method not found: 'Int32 System.Runtime.InteropServices.Marshal.SizeOf(!!0)'.\nCustNum     CrashGUID                           \n0000087725  46c951f7-d192-45be-bffd-930e1cd2e111    1\n0000356345  9c457a20-8e20-48e8-a1f3-1c4293f51f54    1\n            9eeeb411-3bbf-4c1e-85a1-01c9801b079d    1\n            c319626e-34fb-45d7-af81-8209ac1af518    1\n0000391052  67418492-77b1-48fb-8358-96bfd9c82d15    1\n            b85ef955-ee09-4d37-9382-ea9bb59a0a08    1\n            cf1dc68f-cfdd-4afa-b674-152e2f753385    1\n0000461049  819fe619-c4b9-4e45-a52b-a043101bb8fc    1\n            e3e0c5e6-7cf9-4663-9f13-3ee49b61d56f    1\n0000887695  4e6ecba2-709f-4096-8350-7329043e3020    1\n            4eab30e3-7bc3-4e9a-a9a4-4567518c3fad    1\n            72ccdd8c-4c8c-4139-8c5f-0f55cc73cac7    1\n            7e5aa7dd-e4a0-41a0-bcd8-33b3c489070b    1\n            8f1a8ce1-6c45-4bca-8fca-b177de5661ae    1\n            9dc069c3-c319-42b5-9256-9623c1876945    1\n            a3f9bf63-9d32-43e3-a228-98f0603257e5    1\n            bc64deb9-d9ec-42e6-bdba-933402ac6d36    1\n            c6cc610c-9df8-4699-af30-c1538d5826af    1\n            d845cd5e-a221-4205-b87f-394a5501cdaa    1\n0005942057  89aa3d23-ac0d-44d8-98ca-fc95f67eaf42    1\n0008590994  5192e777-61d1-418d-ac41-5f17e4dde74e    1\n0163960182  9b8d223e-66a6-4e9d-ad58-7283bc42a425    1\n0307872424  5b8839da-adcc-41fc-a775-ce55a9da479b    1\n0337439376  1bc2e08e-df25-41e3-a4c3-3aea81656af3    1\n            2548501e-dac6-4d2d-a43d-131e8c59441e    1\n            5571006a-6bf8-4589-be62-456d64b69c3f    1\n            bb267d99-8950-44e1-9fdd-c127172b37a6    1\n            d5635f92-fc44-4e71-b399-aa4786762562    1\n            d72b323e-8461-4195-be73-f6a19429e662    1\n            de0e8ab9-a139-4f8b-b2cf-b41e31d1749d    1\n                                                   ..\n0927128332  715d5cdb-50af-47e5-a5ec-ffc38109cf55    1\n            a41875b5-ad99-41e7-a205-b3bcb9e391c4    1\n            cda7af1a-6c77-4dd8-8a6f-4960d7e82367    1\n            fbca33b2-5589-4eb1-b131-4ab68520d6f9    1\n7701096076  042e4db5-339f-49eb-927a-b5ed9101a060    1\n            37f4a783-a85e-4298-8b6d-4ca1a4ef479a    1\n            391bfd45-9caa-4274-ab50-25641aecc6c6    1\n            425d3e78-e0ea-4e45-8752-b4ec1b7dc4a7    1\n            4dd5c803-ec0f-43c6-8388-b4aedd1900d0    1\n            91d9cf70-d650-4049-bced-95f6971abbf3    1\n            a72b96d2-af5f-49b3-a55d-e8ce75f3a44a    1\n            b0132108-22a3-46f5-b69d-91032577553f    1\n            c07aea45-40cd-4310-bcac-2a948717cf49    1\n            c2b14004-62a5-4fa6-9865-e5d25d2185d0    1\n            d1b9402d-aa73-4862-978e-afbb08fd760a    1\n            d1d9d923-74d9-483b-9ceb-bc12c4bca751    1\n            d5599e3a-8ef3-40f9-ae88-4593fab84455    1\n7702038268  53545f81-20af-41c0-b7b5-278dfba2dc49    1\n            6d9479be-a38e-4648-8865-94c3f0241747    1\n            aef2e712-9dbb-4895-bd9a-8fcf67c9d83e    1\n            d35a5194-9b34-49bd-8862-1e8e824eb188    1\n7702559115  33dace8b-2228-4e8e-9811-9c8cc3b9110e    1\n            5dad5468-c6f5-4706-a79f-f559b32f4821    1\n7742432898  2a9ba2d3-c75a-4961-83b0-e5ed9b4bed8f    1\n            51e9ffe9-63ec-4503-b033-d4dd76f6c010    1\n            cbaba653-edc7-44bb-b051-1cbbd4abf7fe    1\n            d335af25-5a6a-4800-a41c-12d2991a2262    1\n            f0ad5244-5b3c-4581-93a9-a6ba91c9a2a3    1\n7772087327  33bd1bec-2d89-4e56-a277-fb6a3c34cbf9    1\n            f044b9f1-d56b-42d1-aba1-b65a9769d394    1\nName: CustNum, dtype: int64\n\n\n"
     ]
    }
   ],
   "source": [
    "\"\"\"\n",
    "Frequency of error messages and stack traces\n",
    "\"\"\"\n",
    "\n",
    "from crash_analysis import filter_dataframe\n",
    "\n",
    "\n",
    "def get_value_from_hist(n, field='Message'):\n",
    "    field_hist = df[field].value_counts()\n",
    "    assert n < len(field_hist)\n",
    "    return field_hist.keys()[n], field_hist.values[n]\n",
    "\n",
    "\n",
    "def print_parings(n, field1='Message', groupings=['AppName', 'InstallType', 'WorkStationType', 'OperatingSystem']):\n",
    "    top_key, count = get_value_from_hist(n, field1)\n",
    "    df_filtered = filter_dataframe(df, **{field1: top_key})\n",
    "    \n",
    "    if type(groupings) is type(list()):\n",
    "        field2_hist = df_filtered.groupby(groupings)['CustNum'].nunique()\n",
    "    else:\n",
    "        field2_hist = df_filtered[groupings].value_counts()\n",
    "\n",
    "\n",
    "    print(\"Query {0} \\t count: {1} \\t {2}: {3}\".format(n+1, count, field1, top_key.encode('ascii', 'ignore')))\n",
    "    print(field2_hist)\n",
    "    print '\\n'\n",
    "\n",
    "# [print_parings(n, groupings='ProblemDescription') for n in range(5)]\n",
    "print_parings(1, groupings=['CustNum', 'CrashGUID'])"
   ]
  },
  {
   "cell_type": "code",
   "execution_count": 79,
   "metadata": {},
   "outputs": [
    {
     "name": "stdout",
     "output_type": "stream",
     "text": [
      "35\n"
     ]
    }
   ],
   "source": [
    "\"\"\" Customer Descriptions \"\"\"\n",
    "\n",
    "from crash_analysis import remove_empty\n",
    "# print(one_cust.head())\n",
    "pd.set_option('display.max_colwidth', 250)\n",
    "print(sum(remove_empty(df['ProblemDescription']).value_counts()))"
   ]
  },
  {
   "cell_type": "code",
   "execution_count": 80,
   "metadata": {},
   "outputs": [
    {
     "name": "stdout",
     "output_type": "stream",
     "text": [
      "Message by Keyterm\nkeyterm: program\nMethod not found: 'Void Intuit.Application.ProSeries.OptionSetupWizardAPI.DataModels.AdditionalInfo..ctor(System.String, System.String, System.String, System.String, System.String, System.String, System.String, System.String, System.String, System.String, System.String, System.String)'.    2\nMethod not found: 'Int32 System.Runtime.InteropServices.Marshal.SizeOf(!!0)'.                                                                                                                                                                                                                      1\nExternal component has thrown an exception.                                                                                                                                                                                                                                                        1\nName: Message, dtype: int64\n\nkeyterm: open\nExternal component has thrown an exception.                                                                                                                                                                                                                                                        4\nMethod not found: 'Void Intuit.Application.ProSeries.OptionSetupWizardAPI.DataModels.AdditionalInfo..ctor(System.String, System.String, System.String, System.String, System.String, System.String, System.String, System.String, System.String, System.String, System.String, System.String)'.    3\nAccess to the path 'e:\\$RECYCLE.BIN\\S-1-5-21-1734283657-823011882-2764790919-1001' is denied.                                                                                                                                                                                                      2\nName: Message, dtype: int64\n\nkeyterm: print\nExternal component has thrown an exception.    1\nName: Message, dtype: int64\n\nkeyterm: client\nSeries([], Name: Message, dtype: int64)\n\nkeyterm: input\nSeries([], Name: Message, dtype: int64)\n\nkeyterm: tri\nMethod not found: 'Void Intuit.Application.ProSeries.OptionSetupWizardAPI.DataModels.AdditionalInfo..ctor(System.String, System.String, System.String, System.String, System.String, System.String, System.String, System.String, System.String, System.String, System.String, System.String)'.    2\nExternal component has thrown an exception.                                                                                                                                                                                                                                                        2\nName: Message, dtype: int64\n\nkeyterm: close\nSeries([], Name: Message, dtype: int64)\n\nkeyterm: return\nAccess to the path 'e:\\$RECYCLE.BIN\\S-1-5-21-1734283657-823011882-2764790919-1001' is denied.    1\nName: Message, dtype: int64\n\nkeyterm: data\nSeries([], Name: Message, dtype: int64)\n\nkeyterm: save\nSeries([], Name: Message, dtype: int64)\n\nkeyterm: complet\nSeries([], Name: Message, dtype: int64)\n\nkeyterm: file\nSeries([], Name: Message, dtype: int64)\n\nkeyterm: instal\nSeries([], Name: Message, dtype: int64)\n\nkeyterm: start\nMethod not found: 'Int32 System.Runtime.InteropServices.Marshal.SizeOf(!!0)'.    2\nExternal component has thrown an exception.                                      2\nName: Message, dtype: int64\n\nkeyterm: softwar\nExternal component has thrown an exception.    2\nName: Message, dtype: int64\n\nkeyterm: year\nSeries([], Name: Message, dtype: int64)\n\nkeyterm: network\nSeries([], Name: Message, dtype: int64)\n\nkeyterm: transfer\nSeries([], Name: Message, dtype: int64)\n\nkeyterm: updat\nSeries([], Name: Message, dtype: int64)\n\nkeyterm: stop\nSeries([], Name: Message, dtype: int64)\n\nkeyterm: work\nSeries([], Name: Message, dtype: int64)\n\nkeyterm: inform\nSeries([], Name: Message, dtype: int64)\n\nkeyterm: dont\nExternal component has thrown an exception.                                      3\nMethod not found: 'Int32 System.Runtime.InteropServices.Marshal.SizeOf(!!0)'.    1\nName: Message, dtype: int64\n\n\n"
     ]
    }
   ],
   "source": [
    "\"\"\"\n",
    "Associate by keyterm\n",
    "\"\"\"\n",
    "from crash_analysis.analysis import associate_by_keyterms\n",
    "\n",
    "associate_by_keyterms(df, 'ProblemDescription', 'Message', min_count=2)\n",
    "print"
   ]
  },
  {
   "cell_type": "code",
   "execution_count": null,
   "metadata": {},
   "outputs": [],
   "source": [
    ""
   ]
  }
 ],
 "metadata": {
  "kernelspec": {
   "display_name": "Python 2",
   "language": "python",
   "name": "python2"
  },
  "language_info": {
   "codemirror_mode": {
    "name": "ipython",
    "version": 2.0
   },
   "file_extension": ".py",
   "mimetype": "text/x-python",
   "name": "python",
   "nbconvert_exporter": "python",
   "pygments_lexer": "ipython2",
   "version": "2.7.6"
  }
 },
 "nbformat": 4,
 "nbformat_minor": 0
}