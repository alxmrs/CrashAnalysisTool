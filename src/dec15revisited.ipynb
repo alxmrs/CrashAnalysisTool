{
 "cells": [
  {
   "cell_type": "markdown",
   "metadata": {
    "collapsed": true
   },
   "source": [
    "# Crash Report Jan 18, 2016\n",
    "\n",
    "\n",
    "## Step 1: Setup"
   ]
  },
  {
   "cell_type": "code",
   "execution_count": 2,
   "metadata": {},
   "outputs": [],
   "source": [
    "\"\"\"\n",
    "General import statements\n",
    "\"\"\"\n",
    "import crash_analysis\n",
    "import pandas as pd"
   ]
  },
  {
   "cell_type": "code",
   "execution_count": 3,
   "metadata": {},
   "outputs": [],
   "source": [
    "\"\"\"\n",
    "Parse zipfiles into dataframe\n",
    "\"\"\"\n",
    "from crash_analysis.parser import extract_zipfiles, xmldocs_to_dataframe\n",
    "zipfile_location = 'C:\\\\CrashReports\\\\'\n",
    "\n",
    "extract_zipfiles(zipfile_location)\n",
    "df = xmldocs_to_dataframe(zipfile_location)\n",
    "\n",
    "df.drop_duplicates(inplace=True)"
   ]
  },
  {
   "cell_type": "code",
   "execution_count": 3,
   "metadata": {},
   "outputs": [],
   "source": [
    "\"\"\"\n",
    "Save/load dataframe to/from CSV\n",
    "\"\"\"\n",
    "new_data = False\n",
    "cache_location = 'src/data/2016040014.csv'\n",
    "\n",
    "if new_data:\n",
    "    df.to_csv(cache_location, encoding='utf-8')\n",
    "else:\n",
    "    df = crash_analysis.read_csv(cache_location)"
   ]
  },
  {
   "cell_type": "code",
   "execution_count": 4,
   "metadata": {
    "collapsed": false
   },
   "outputs": [
    {
     "name": "stdout",
     "output_type": "stream",
     "text": [
      "['Unnamed: 0', 'ACCDT_Field', 'Active_ClientFileName', 'Active_Field', 'Active_Form', 'Active_FormsetID', 'Active_FormsetVersion', 'AppName', 'AppVersion', 'BasWin16.INI', 'Batch_ClientFileName', 'CrashGUID', 'CrashRpt', 'Current_Calcsection', 'CustNum', 'CustomProps', 'DataFileCount', 'ExceptionAddress', 'ExceptionCode', 'ExceptionModule', 'ExceptionModuleBase', 'ExceptionModuleVersion', 'ExceptionType', 'FileList', 'FormsPrinter', 'GUIResourceCount', 'GeoLocation', 'ImageName', 'InnerException', 'InstallType', 'Last_Calcsection', 'ManagedException', 'ManagedException.txt', 'MemoryUsageKbytes', 'Message', 'OSIs64Bit', 'OpenHandleCount', 'OperatingSystem', 'ProWin16.INI', 'ProblemDescription', 'Source', 'StackTrace', 'SystemTimeUTC', 'TimeStamp', 'WorkStationName', 'WorkStationType', 'crashdump.dmp', 'crashrpt.xml']\n2016040014    5085\nName: AppVersion, dtype: int64\n5085\n"
     ]
    }
   ],
   "source": [
    "\"\"\"\n",
    "Get metadata about dataframe\n",
    "\"\"\"\n",
    "col_names = crash_analysis.get_columns(df)\n",
    "versions = df['AppVersion'].value_counts()\n",
    "num_crashes = len(df)\n",
    "\n",
    "print(col_names)\n",
    "print(versions)\n",
    "print(num_crashes)"
   ]
  },
  {
   "cell_type": "code",
   "execution_count": 6,
   "metadata": {
    "collapsed": true
   },
   "outputs": [
    {
     "name": "stdout",
     "output_type": "stream",
     "text": [
      "total words: 7650\ninstal     \t:  463 \t [['installing'], ['installing'], ['installing'], ['installed'], ['install'], ['installing']]\nopen       \t:  349 \t [['opening'], ['opening'], ['opening'], ['opening'], ['opened'], ['opening']]\n2016       \t:  318 \t [['2016'], ['2016'], ['2016'], ['2016'], ['2016'], ['2016']]\nprogram    \t:  254 \t [['program'], ['program'], ['program'], ['program'], ['program'], ['program']]\nclient     \t:  244 \t [['clients'], ['clients'], ['client'], ['client'], ['client'], ['client']]\nupdat      \t:  230 \t [['updating'], ['updates'], ['updates'], ['updates'], ['updates'], ['updates']]\nproseri    \t:  217 \t [['proseries'], ['proseries'], ['proseries'], ['proseries'], ['proseries'], ['proseries']]\nfile       \t:  217 \t [['file'], ['files'], ['file'], ['file'], ['file'], ['file']]\ntri        \t:  191 \t [['trying'], ['trying'], ['trying'], ['trying'], ['trying'], ['trying']]\ndownload   \t:  166 \t [['downloading'], ['downloading'], ['downloading'], ['downloading'], ['downloading'], ['downloading']]\nsoftwar    \t:  144 \t [['software'], ['software'], ['software'], ['software'], ['software'], ['software']]\nsign       \t:  141 \t [['signing'], ['sign'], ['sign'], ['signing'], ['sign'], ['signing']]\nreturn     \t:  115 \t [['return'], ['return'], ['return'], ['return'], ['return'], ['return']]\nenter      \t:  111 \t [['entering'], ['entering'], ['entering'], ['entered'], ['entering'], ['entering']]\nlog        \t:  110 \t [['logging'], ['logging'], ['log'], ['logging'], ['log'], ['logging']]\nnew        \t:  105 \t [['new'], ['new'], ['new'], ['new'], ['new'], ['new']]\nwork       \t:   98 \t [['working'], ['work'], ['working'], ['working'], ['work'], ['working']]\npassword   \t:   95 \t [['password'], ['password'], ['password'], ['password'], ['password'], ['password']]\ncrash      \t:   91 \t [['crashed'], ['crashed'], ['crashes'], ['crash'], ['crashes'], ['crashed']]\ntax        \t:   90 \t [['tax'], ['tax'], ['tax'], ['tax'], ['tax'], ['tax']]\nbasic      \t:   85 \t [['basic'], ['basic'], ['basic'], ['basic'], ['basic'], ['basic']]\ntime       \t:   85 \t [['time'], ['time'], ['time'], ['time'], ['time'], ['time']]\ntransfer   \t:   82 \t [['transferred'], ['transfer'], ['transfered'], ['transfer'], ['transferred'], ['transfering']]\nstop       \t:   78 \t [['stopped'], ['stopped'], ['stopped'], ['stopped'], ['stopped'], ['stopped']]\nset        \t:   73 \t [['setting'], ['set'], ['setting'], ['setting'], ['setting'], ['set']]\ncode       \t:   66 \t [['code'], ['code'], ['code'], ['code'], ['code'], ['code']]\nerror      \t:   63 \t [['error'], ['errors'], ['error'], ['error'], ['error'], ['error']]\npro        \t:   60 \t [['pro'], ['pro'], ['pro'], ['pro'], ['pro'], ['pro']]\naccount    \t:   59 \t [['account'], ['account'], ['account'], ['account'], ['account'], ['account']]\nsave       \t:   55 \t [['saving'], ['save'], ['saving'], ['save'], ['save'], ['save']]\n\n"
     ]
    }
   ],
   "source": [
    "\"\"\"\n",
    "Customer Description Analysis\n",
    "\"\"\"\n",
    "from crash_analysis.analysis import remove_empty, get_column, stem_frequency\n",
    "customer_desc = remove_empty(get_column(df, 'ProblemDescription'))\n",
    "\n",
    "stem_frequency(customer_desc)\n",
    "print"
   ]
  },
  {
   "cell_type": "code",
   "execution_count": 6,
   "metadata": {
    "collapsed": true
   },
   "outputs": [
    {
     "name": "stdout",
     "output_type": "stream",
     "text": [
      "Query 1 \t count: 2576 \t ExceptionModule: C:\\ProWin16\\32bit\\protax16.exe\n2016.4.0.14    2576\nName: ExceptionModuleVersion, dtype: int64\n\n\nQuery 2 \t count: 1178 \t ExceptionModule: C:\\BasWin16\\32bit\\protax16.exe\n2016.4.0.14    1178\nName: ExceptionModuleVersion, dtype: int64\n\n\nQuery 3 \t count: 433 \t ExceptionModule: C:\\Windows\\System32\\KERNELBASE.dll\n10.0.14393.479    215\n6.3.9600.18340     65\n6.1.7601.23392     46\n10.0.14393.321     27\n10.0.10586.672     15\n6.3.9600.18202     12\n6.2.9200.17366     12\n6.3.9600.17031      6\n10.0.10586.162      5\n6.3.9600.18264      5\n6.2.9200.21815      4\n6.1.7601.18229      4\n6.1.7601.17514      3\n6.2.9200.16384      2\n6.3.9600.18007      2\n6.1.7601.18847      2\n6.2.9200.16864      2\n6.3.9600.17055      1\n6.1.7601.19135      1\n6.2.9200.16451      1\n10.0.10586.306      1\n10.0.10586.0        1\n6.3.9600.17415      1\nName: ExceptionModuleVersion, dtype: int64\n\n\nQuery 4 \t count: 328 \t ExceptionModule: C:\\Windows\\SysWOW64\\KERNELBASE.dll\n6.1.7601.23572    161\n6.1.7601.23569    103\n6.1.7601.23543     15\n6.1.7601.23418     14\n6.1.7601.23539      7\n6.1.7601.18229      6\n6.1.7601.23455      5\n6.1.7601.18839      5\n6.1.7601.18798      3\n6.1.7601.23403      2\n6.1.7601.23392      1\n6.1.7601.23391      1\n6.1.7601.19135      1\n6.1.7601.18409      1\n6.1.7601.18933      1\n6.1.7601.18015      1\n6.1.7601.19160      1\nName: ExceptionModuleVersion, dtype: int64\n\n\nQuery 5 \t count: 133 \t ExceptionModule: C:\\ProWin16\\32bit\\c4dll.dll\n2016.0.0.0    133\nName: ExceptionModuleVersion, dtype: int64\n\n\nQuery 6 \t count: 18 \t ExceptionModule: C:\\Windows\\SysWOW64\\igdumdim32.dll\n10.18.10.3412    18\nName: ExceptionModuleVersion, dtype: int64\n\n\nQuery 7 \t count: 17 \t ExceptionModule: C:\\Windows\\SysWOW64\\ntdll.dll\n6.1.7601.23572    11\n6.1.7601.23539     2\n6.1.7601.23455     2\n6.1.7601.23569     1\n6.1.7601.19135     1\nName: ExceptionModuleVersion, dtype: int64\n\n\nQuery 8 \t count: 13 \t ExceptionModule: C:\\Windows\\System32\\mfc140.dll\n14.0.23026.0    12\n14.0.23918.0     1\nName: ExceptionModuleVersion, dtype: int64\n\n\nQuery 9 \t count: 12 \t ExceptionModule: C:\\ProSeries\\ProWin16\\32bit\\protax16.exe\n2016.4.0.14    12\nName: ExceptionModuleVersion, dtype: int64\n\n\n"
     ]
    },
    {
     "data": {
      "text/plain": [
       "[None, None, None, None, None, None, None, None, None]"
      ]
     },
     "execution_count": 6,
     "metadata": {},
     "output_type": "execute_result"
    }
   ],
   "source": [
    "\"\"\"\n",
    "Frequency of error messages and stack traces\n",
    "\"\"\"\n",
    "\n",
    "from crash_analysis import filter_dataframe\n",
    "\n",
    "\n",
    "def get_value_from_hist(n, field='Message'):\n",
    "    field_hist = df[field].value_counts()\n",
    "    assert n < len(field_hist)\n",
    "    return field_hist.keys()[n], field_hist.values[n]\n",
    "\n",
    "\n",
    "def print_parings(n, field1='Message', groupings=['AppName', 'InstallType', 'WorkStationType', 'OperatingSystem']):\n",
    "    top_key, count = get_value_from_hist(n, field1)\n",
    "    df_filtered = filter_dataframe(df, **{field1: top_key})\n",
    "    \n",
    "    if type(groupings) is type(list()):\n",
    "        field2_hist = df_filtered.groupby(groupings)['CustNum'].nunique()\n",
    "    else:\n",
    "        field2_hist = df_filtered[groupings].value_counts()\n",
    "\n",
    "\n",
    "    print(\"Query {0} \\t count: {1} \\t {2}: {3}\".format(n+1, count, field1, top_key.encode('ascii', 'ignore')))\n",
    "    print(field2_hist)\n",
    "    print '\\n'\n",
    "\n",
    "[print_parings(n, field1='ExceptionModule', groupings='ExceptionModuleVersion') for n in range(9)]"
   ]
  },
  {
   "cell_type": "code",
   "execution_count": 79,
   "metadata": {},
   "outputs": [
    {
     "name": "stdout",
     "output_type": "stream",
     "text": [
      "35\n"
     ]
    }
   ],
   "source": [
    "\"\"\" Customer Descriptions \"\"\"\n",
    "\n",
    "from crash_analysis import remove_empty\n",
    "# print(one_cust.head())\n",
    "pd.set_option('display.max_colwidth', 250)\n",
    "print(sum(remove_empty(df['ProblemDescription']).value_counts()))"
   ]
  },
  {
   "cell_type": "code",
   "execution_count": 80,
   "metadata": {
    "collapsed": true
   },
   "outputs": [
    {
     "name": "stdout",
     "output_type": "stream",
     "text": [
      "Message by Keyterm\nkeyterm: program\nMethod not found: 'Void Intuit.Application.ProSeries.OptionSetupWizardAPI.DataModels.AdditionalInfo..ctor(System.String, System.String, System.String, System.String, System.String, System.String, System.String, System.String, System.String, System.String, System.String, System.String)'.    2\nMethod not found: 'Int32 System.Runtime.InteropServices.Marshal.SizeOf(!!0)'.                                                                                                                                                                                                                      1\nExternal component has thrown an exception.                                                                                                                                                                                                                                                        1\nName: Message, dtype: int64\n\nkeyterm: open\nExternal component has thrown an exception.                                                                                                                                                                                                                                                        4\nMethod not found: 'Void Intuit.Application.ProSeries.OptionSetupWizardAPI.DataModels.AdditionalInfo..ctor(System.String, System.String, System.String, System.String, System.String, System.String, System.String, System.String, System.String, System.String, System.String, System.String)'.    3\nAccess to the path 'e:\\$RECYCLE.BIN\\S-1-5-21-1734283657-823011882-2764790919-1001' is denied.                                                                                                                                                                                                      2\nName: Message, dtype: int64\n\nkeyterm: print\nExternal component has thrown an exception.    1\nName: Message, dtype: int64\n\nkeyterm: client\nSeries([], Name: Message, dtype: int64)\n\nkeyterm: input\nSeries([], Name: Message, dtype: int64)\n\nkeyterm: tri\nMethod not found: 'Void Intuit.Application.ProSeries.OptionSetupWizardAPI.DataModels.AdditionalInfo..ctor(System.String, System.String, System.String, System.String, System.String, System.String, System.String, System.String, System.String, System.String, System.String, System.String)'.    2\nExternal component has thrown an exception.                                                                                                                                                                                                                                                        2\nName: Message, dtype: int64\n\nkeyterm: close\nSeries([], Name: Message, dtype: int64)\n\nkeyterm: return\nAccess to the path 'e:\\$RECYCLE.BIN\\S-1-5-21-1734283657-823011882-2764790919-1001' is denied.    1\nName: Message, dtype: int64\n\nkeyterm: data\nSeries([], Name: Message, dtype: int64)\n\nkeyterm: save\nSeries([], Name: Message, dtype: int64)\n\nkeyterm: complet\nSeries([], Name: Message, dtype: int64)\n\nkeyterm: file\nSeries([], Name: Message, dtype: int64)\n\nkeyterm: instal\nSeries([], Name: Message, dtype: int64)\n\nkeyterm: start\nMethod not found: 'Int32 System.Runtime.InteropServices.Marshal.SizeOf(!!0)'.    2\nExternal component has thrown an exception.                                      2\nName: Message, dtype: int64\n\nkeyterm: softwar\nExternal component has thrown an exception.    2\nName: Message, dtype: int64\n\nkeyterm: year\nSeries([], Name: Message, dtype: int64)\n\nkeyterm: network\nSeries([], Name: Message, dtype: int64)\n\nkeyterm: transfer\nSeries([], Name: Message, dtype: int64)\n\nkeyterm: updat\nSeries([], Name: Message, dtype: int64)\n\nkeyterm: stop\nSeries([], Name: Message, dtype: int64)\n\nkeyterm: work\nSeries([], Name: Message, dtype: int64)\n\nkeyterm: inform\nSeries([], Name: Message, dtype: int64)\n\nkeyterm: dont\nExternal component has thrown an exception.                                      3\nMethod not found: 'Int32 System.Runtime.InteropServices.Marshal.SizeOf(!!0)'.    1\nName: Message, dtype: int64\n\n\n"
     ]
    }
   ],
   "source": [
    "\"\"\"\n",
    "Associate by keyterm\n",
    "\"\"\"\n",
    "from crash_analysis.analysis import associate_by_keyterms\n",
    "\n",
    "associate_by_keyterms(df, 'ProblemDescription', 'Message', min_count=2)\n",
    "print"
   ]
  },
  {
   "cell_type": "code",
   "execution_count": null,
   "metadata": {},
   "outputs": [],
   "source": [
    ""
   ]
  }
 ],
 "metadata": {
  "kernelspec": {
   "display_name": "Python 2",
   "language": "python",
   "name": "python2"
  },
  "language_info": {
   "codemirror_mode": {
    "name": "ipython",
    "version": 2.0
   },
   "file_extension": ".py",
   "mimetype": "text/x-python",
   "name": "python",
   "nbconvert_exporter": "python",
   "pygments_lexer": "ipython2",
   "version": "2.7.6"
  }
 },
 "nbformat": 4,
 "nbformat_minor": 0
}